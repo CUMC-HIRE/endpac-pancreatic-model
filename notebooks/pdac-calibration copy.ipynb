{
 "cells": [
  {
   "cell_type": "markdown",
   "metadata": {},
   "source": [
    "# PDAC Calibration\n",
    "\n",
    "Author: Sophie Wagner, sw3767@cumc.columbia.edu"
   ]
  },
  {
   "cell_type": "code",
   "execution_count": null,
   "metadata": {},
   "outputs": [],
   "source": [
    "# Required Packages\n",
    "import numpy as np  # For matrix manipulation\n",
    "import pandas as pd  # For output/input data processing\n",
    "import matplotlib.pyplot as plt  # For visualizations\n",
    "from csaps import csaps\n",
    "from tqdm import tqdm\n",
    "from datetime import datetime\n",
    "\n",
    "# Add the src directory to the Python path\n",
    "import sys\n",
    "import os\n",
    "sys.path.append(os.path.abspath('../src'))\n",
    "\n",
    "# Load .py files\n",
    "import common_functions as func\n",
    "import calibration_plots as p\n",
    "import configs as c\n",
    "import gof\n",
    "\n",
    "# Some aesthetic options\n",
    "np.set_printoptions(suppress=True, linewidth=300, formatter={'float': '{: 0.9f}'.format})\n",
    "pd.set_option('display.max_columns', None)\n",
    "pd.set_option('display.max_rows', None)"
   ]
  },
  {
   "cell_type": "code",
   "execution_count": 2,
   "metadata": {},
   "outputs": [],
   "source": [
    "# def create_matrix():\n",
    "#     matrix = np.zeros((len(c.age_layers_1y), len(c.health_states_itos), len(c.health_states_itos)))\n",
    "#     for (from_state, to_state), value in c.start_params.items()\n",
    "#         if to_state == \"u_PDAC_local\":\n",
    "#             ages, from_idx, to_idx, val = value\n",
    "#             matrix[ages, from_idx, to_idx] = val\n",
    "#         else:\n",
    "#             from_idx, to_idx,z\n",
    "#             matrix[:, from_idx, to_idx] = value\n",
    "\n",
    "#     matrix = add_acm(matrix)  # ACM\n",
    "#     matrix = add_csd(matrix)  # CSD\n",
    "#     matrix = constrain_matrix(matrix)  # constrain\n",
    "#     matrix = row_normalize(matrix)  # normalize\n"
   ]
  },
  {
   "cell_type": "code",
   "execution_count": 3,
   "metadata": {},
   "outputs": [],
   "source": [
    "def row_normalize(matrix):\n",
    "    for age_layer in range(matrix.shape[0]):  # Loop over each age layer\n",
    "        layer = matrix[age_layer]\n",
    "        for row_idx in range(layer.shape[0]):  # Loop over each row\n",
    "            row = layer[row_idx]\n",
    "            row_sum = np.sum(row)  # Sum of all elements in the row\n",
    "            \n",
    "            if row_sum > 1:  # If the row probabilities exceed 1\n",
    "                # Scale the entire row (except diagonal) to sum to 1\n",
    "                row /= row_sum\n",
    "            \n",
    "            # Recalculate non-diagonal sum\n",
    "            non_diag_sum = np.sum(row) - row[row_idx]\n",
    "            \n",
    "            # Adjust the diagonal element to ensure the row sums to 1\n",
    "            row[row_idx] = max(0, 1 - non_diag_sum)\n",
    "    \n",
    "    return matrix\n",
    "\n",
    "\n",
    "def create_matrix():\n",
    "    matrix = np.zeros((len(c.age_layers_1y), len(c.health_states_itos), len(c.health_states_itos)))\n",
    "    matrix[:, 0, 5] = 0.0002  # average risk\n",
    "    matrix[:, 1, 5] = 0.009  # NOD period risk\n",
    "    matrix[:, 2, 5] = np.linspace(0.009, 0.0011, 4)[1]  # gradual decrease\n",
    "    matrix[:, 3, 5] = np.linspace(0.009, 0.0011, 4)[2]  # gradual decrease\n",
    "    matrix[:, 4, 5] = 0.0011  # diabetic risk\n",
    "    matrix[:, 5, 6] = (1-c.model_inputs_dict['p_symptom_local'])*c.model_inputs_dict['p_Local_to_Regional_PC']\n",
    "    matrix[:, 6, 7] = (1-c.model_inputs_dict['p_symptom_regional'])*c.model_inputs_dict['p_Regional_to_Distant_PC']\n",
    "    matrix[:, 5, 8] = c.model_inputs_dict['p_symptom_local']\n",
    "    matrix[:, 6, 9] = c.model_inputs_dict['p_symptom_regional']\n",
    "    matrix[:, 7, 10] = c.model_inputs_dict['p_symptom_distant']\n",
    "\n",
    "    matrix = add_acm(matrix)  # ACM\n",
    "    matrix = add_csd(matrix)  # CSD\n",
    "    matrix = constrain_matrix(matrix)  # constrain\n",
    "    matrix = row_normalize(matrix)  # normalize\n",
    "\n",
    "    return matrix\n",
    "\n",
    "\n",
    "def constrain_matrix(matrix):\n",
    "    matrix = np.clip(matrix, 0.0, 1.0)\n",
    "\n",
    "    # Progression Block\n",
    "    avg, nod, dia = matrix[0, 0, 5], matrix[0, 1, 5], matrix[46, 4, 5]\n",
    "    matrix[:, 1, 5] = np.maximum(avg, nod)\n",
    "    matrix[:, 1, 5] = np.maximum(nod, dia)\n",
    "    \n",
    "    nod, dia = matrix[0, 1, 5], matrix[46, 4, 5]\n",
    "    matrix[:, 2, 5] = np.linspace(nod, dia, 4)[1]\n",
    "    matrix[:, 3, 5] = np.linspace(nod, dia, 4)[2]\n",
    "    matrix[:, 5, 6] = np.maximum(matrix[:, 4, 5], matrix[:, 5, 6])\n",
    "    matrix[:, 6, 7] = np.maximum(matrix[:, 5, 6], matrix[:, 6, 7])\n",
    "    # Detection Block\n",
    "    matrix[:, 6, 9] = np.maximum(matrix[:, 5, 8], matrix[:, 6, 9])\n",
    "    matrix[:, 7, 10] = np.maximum(matrix[:, 6, 9], matrix[:, 7, 10])\n",
    "\n",
    "    matrix[:, 1, 2] = np.maximum(matrix[:, 0, 1], matrix[:, 1, 2])\n",
    "    matrix[:, 2, 3] = np.maximum(matrix[:, 1, 2], matrix[:, 2, 3])\n",
    "    matrix[:, 2, 5] = np.maximum(matrix[:, 1, 4], matrix[:, 2, 5])\n",
    "    matrix[:, 3, 6] = np.maximum(matrix[:, 2, 5], matrix[:, 3, 6])\n",
    "\n",
    "    return matrix\n",
    "\n",
    "\n",
    "def add_acm(matrix):\n",
    "    matrix[:, :11, 12] = c.acm[:64, np.newaxis]  # Healthy to ACM\n",
    "    matrix[:, 12, 12] = 1\n",
    "    return matrix\n",
    "\n",
    "\n",
    "def add_csd(matrix):\n",
    "    matrix[:, 8, 11] = int(c.model_inputs_dict['p_local_death'])\n",
    "    matrix[:, 9, 11] = int(c.model_inputs_dict['p_regional_death'])\n",
    "    matrix[:, 10, 11] = int(c.model_inputs_dict['p_distant_death'])\n",
    "    matrix[:, 11, 11] = 1\n",
    "    return matrix"
   ]
  },
  {
   "cell_type": "code",
   "execution_count": 15,
   "metadata": {},
   "outputs": [],
   "source": [
    "def step(matrix, step_size, num_adj=3):\n",
    "    new_matrix = np.copy(matrix)\n",
    "    step_mat = np.random.choice(len(c.transitions_itos), size=num_adj, replace=True)\n",
    "    points = list(c.transitions_itos.keys()) \n",
    "    for i in range(num_adj):\n",
    "        from_state, to_state = points[step_mat[i]]\n",
    "        if 2 <= from_state <=3:\n",
    "            continue\n",
    "        else: \n",
    "            step_param = matrix[0, from_state, to_state] * step_size\n",
    "            step_value = new_matrix[0, from_state, to_state] + np.random.uniform(low=-step_param, high=step_param)\n",
    "            new_matrix[:, from_state, to_state] = step_value\n",
    "\n",
    "    new_matrix = constrain_matrix(new_matrix)\n",
    "    new_matrix = add_acm(new_matrix)\n",
    "    new_matrix = add_csd(new_matrix)\n",
    "    new_matrix = row_normalize(new_matrix)\n",
    "\n",
    "    return new_matrix"
   ]
  },
  {
   "cell_type": "code",
   "execution_count": 11,
   "metadata": {},
   "outputs": [],
   "source": [
    "def run_markov(matrix, starting_age=20, max_age=84):\n",
    "    \n",
    "    current_age = starting_age\n",
    "    age_layer = 0\n",
    "    month_pop, pop_log = c.starting_pop, c.starting_pop  # (13, 1)\n",
    "    inc_log = np.zeros(pop_log.shape)  # to track new incidences in each state\n",
    "    matrixT = matrix.transpose(0,2,1)  # (65, 13, 13)\n",
    "    inflow_matrix = np.tril(matrixT, k=-1)\n",
    "    old_risk, new_risk = 0, 1\n",
    "    while current_age < max_age:\n",
    "        \n",
    "        # Check for diabetes risk change, transfer population\n",
    "        if current_age in [60, 64, 65, 66]:\n",
    "            # print(f\"current_age: {current_age}\")\n",
    "            # print(f\"month pop before: {month_pop}\")\n",
    "            # print(f\"upcoming state transfers: {old_risk} to {new_risk}\")\n",
    "            month_pop_temp = month_pop.copy()\n",
    "            month_pop[old_risk] = 0\n",
    "            month_pop[new_risk] += month_pop_temp[old_risk]\n",
    "            old_risk += 1\n",
    "            new_risk += 1\n",
    "            # print(f\"transferred month pop: {month_pop}\")\n",
    "            # print(f\"next state transfers: {old_risk} to {new_risk}\")\n",
    "            \n",
    "\n",
    "        # Matrix multiplication (state transition)\n",
    "        inflow_mat = inflow_matrix[age_layer]  # (13, 13)\n",
    "        mat = matrixT[age_layer]\n",
    "        month_inc = np.matmul(inflow_mat, month_pop)  # (13, 13)(13, 1) -> (13, 1)\n",
    "        month_pop = np.matmul(mat, month_pop)  # (13, 13)(13, 1) -> (13, 1)\n",
    "         \n",
    "        # Add to log\n",
    "        inc_log = np.concatenate((inc_log, month_inc), axis=1)  # (13, 65)\n",
    "        pop_log = np.concatenate((pop_log, month_pop), axis=1)  # (13, 65)\n",
    "        \n",
    "        current_age += 1\n",
    "        age_layer += 1\n",
    "\n",
    "    incidence, incidence_unadj = inc_log.copy(), inc_log.copy()\n",
    "    dead_factor = np.divide(c.N, c.N - pop_log[8:, :].sum(axis=0))  # inc and prev denominator is out of living only\n",
    "    prevalence = np.zeros(pop_log.shape) \n",
    "\n",
    "    for state in range(13):\n",
    "        incidence[state, :] = np.multiply(incidence[state, :], dead_factor)\n",
    "        prevalence[state, :] = np.multiply(pop_log[state, :], dead_factor)\n",
    "\n",
    "    return incidence, prevalence, incidence_unadj"
   ]
  },
  {
   "cell_type": "code",
   "execution_count": 26,
   "metadata": {},
   "outputs": [],
   "source": [
    "def objective(log):\n",
    "    inc, _, _ = log\n",
    "    score = 0\n",
    "    \n",
    "    loc_5y, reg_5y, dis_5y = [func.get_5y_means(inc[stage, ]) for stage in [8,9,10]]\n",
    "\n",
    "    # Yearly incidence penalty (ages 20-84)\n",
    "    score += np.square(loc_5y - c.seer_inc[\"LocalU\"]).sum()\n",
    "    score += np.square(reg_5y - c.seer_inc[\"RegionalU\"]).sum()\n",
    "    score += np.square(dis_5y - c.seer_inc[\"DistantU\"]).sum()\n",
    "\n",
    "    return score"
   ]
  },
  {
   "cell_type": "code",
   "execution_count": 27,
   "metadata": {},
   "outputs": [],
   "source": [
    "def simulated_annealing(n_iterations, step_size, start_tmat=None, n_adj=7, verbose=False):\n",
    "\n",
    "    if start_tmat is None:\n",
    "        start_tmat = create_matrix()\n",
    "\n",
    "    best_t = np.copy(start_tmat)\n",
    "    best_log = run_markov(best_t)\n",
    "    best_eval = objective(best_log)  # evaluate the initial point\n",
    "    curr_t, curr_eval = best_t, best_eval  # current working solution\n",
    "    ticker = 0\n",
    "\n",
    "    with tqdm(total=n_iterations, desc=\"Simulated annealing progress\", unit=\"iteration\") as pbar:\n",
    "        \n",
    "        for i in range(n_iterations):\n",
    "\n",
    "            # Run model\n",
    "            candidate_t = np.copy(curr_t)\n",
    "            candidate_t = step(candidate_t, step_size, n_adj)\n",
    "            candidate_log = run_markov(candidate_t)\n",
    "            candidate_eval = objective(candidate_log)  # Evaluate candidate point\n",
    "\n",
    "            # Update \"best\" if better than candidate\n",
    "            if candidate_eval < best_eval:\n",
    "                ticker = 0\n",
    "                best_t, best_eval = np.copy(candidate_t), np.copy(candidate_eval)\n",
    "                best_log = run_markov(best_t)\n",
    "\n",
    "            else:\n",
    "                ticker += 1\n",
    "\n",
    "            # t = 10 / float(i+1)  # calculate temperature for current epoch\n",
    "            t = 1 / (1 + np.log(i + 1))\n",
    "\n",
    "            # Progress report\n",
    "            if verbose and i % 1000 == 0:\n",
    "                inc_log = best_log[2]\n",
    "                total_dxd = np.sum(inc_log[6:9, :]) / c.N\n",
    "                print(i, \": \", best_eval, \"   CRC: \", round(total_dxd, 5),\"   tick:\",ticker)\n",
    "                if i % 10000 == 0:\n",
    "                    transition_probs = p.extract_transition_probs(best_t)\n",
    "                    print(f\"Progress report, i = {i}\")\n",
    "                    print(transition_probs)\n",
    "\n",
    "            # Check if we should update \"curr\"\n",
    "            diff = (candidate_eval - curr_eval)  # difference between candidate and current point evaluation\n",
    "            metropolis = np.exp(-diff / t)  # calculate metropolis acceptance criterion\n",
    "            if (diff < 0 or np.random.random() < metropolis):  # check if we should keep the new point\n",
    "                curr_t, curr_eval = np.copy(candidate_t), np.copy(candidate_eval)  # store the new current point\n",
    "                ticker = 0\n",
    "\n",
    "            pbar.update(1)\n",
    "\n",
    "    print(best_eval)\n",
    "    \n",
    "    return best_t"
   ]
  },
  {
   "cell_type": "code",
   "execution_count": 24,
   "metadata": {},
   "outputs": [],
   "source": [
    "def run_sa(save_all=False):\n",
    "    tmat = create_matrix()\n",
    "    result = simulated_annealing(n_iterations=10000, step_size=0.01, start_tmat=tmat, n_adj=3, verbose=True)\n",
    "    timestamp = datetime.now().strftime(\"%Y%m%d_%H%M\")\n",
    "    \n",
    "    \n",
    "    curr_tmat = result.copy()\n",
    "    curr_log = run_markov(curr_tmat)\n",
    "    log_adj, log_prev, log_inc = curr_log\n",
    "\n",
    "    # Extract transition probabilities\n",
    "    transition_probs = p.extract_transition_probs(curr_tmat)\n",
    "\n",
    "    # Saving\n",
    "    if save_all:\n",
    "        # Save the with the timestamp in the filenames\n",
    "        output_dir = c.OUTPUT_PATHS[type]\n",
    "        log_path, tmat_path, plot_path = c.OUTPUT_PATHS[\"logs\"], c.OUTPUT_PATHS[\"tmats\"], c.OUTPUT_PATHS[\"plots\"]\n",
    "        np.save(f\"{tmat_path}/{timestamp}_tmat.npy\", curr_tmat)\n",
    "        pd.DataFrame(log_adj).to_csv(f\"{log_path}/{timestamp}_inc_adj.csv\")\n",
    "        pd.DataFrame(log_prev).to_csv(f\"{log_path}/{timestamp}_prev.csv\")\n",
    "        pd.DataFrame(log_inc).to_csv(f\"{log_path}/{timestamp}_inc_unadj.csv\")\n",
    "        transition_probs.to_csv(f\"{log_path}/{timestamp}_tps.csv\")\n",
    "        plot_vs_seer(curr_log, c.seer_inc, save_imgs=True, outpath=plot_path, timestamp=timestamp)\n",
    "        #p.plot_vs_seer_total(curr_log, c.seer_inc, save_imgs=True, outpath=plot_path, timestamp=timestamp)\n",
    "\n",
    "    else:\n",
    "        print(transition_probs)\n",
    "        plot_vs_seer(log_adj, c.seer_inc)\n",
    "        #p.plot_vs_seer_total(log_adj, c.seer_inc)\n",
    "\n",
    "    return curr_tmat"
   ]
  },
  {
   "cell_type": "code",
   "execution_count": 28,
   "metadata": {},
   "outputs": [
    {
     "name": "stderr",
     "output_type": "stream",
     "text": [
      "Simulated annealing progress:   0%|          | 0/10000 [00:00<?, ?iteration/s]"
     ]
    },
    {
     "name": "stderr",
     "output_type": "stream",
     "text": [
      "C:\\Users\\sophi\\AppData\\Local\\Temp\\ipykernel_6340\\3928338916.py:46: RuntimeWarning: overflow encountered in exp\n",
      "  metropolis = np.exp(-diff / t)  # calculate metropolis acceptance criterion\n",
      "Simulated annealing progress:   0%|          | 6/10000 [00:00<02:57, 56.32iteration/s]"
     ]
    },
    {
     "name": "stdout",
     "output_type": "stream",
     "text": [
      "0 :  248731.58346917783    CRC:  0.09011    tick: 1\n",
      "Progress report, i = 0\n",
      "    From State    To State  Probability\n",
      "0      healthy  u_PDAC_loc     0.000200\n",
      "1          nod  u_PDAC_loc     0.009000\n",
      "2  nod_to_dia1  u_PDAC_loc     0.006367\n",
      "3  nod_to_dia2  u_PDAC_loc     0.003733\n",
      "4          dia  u_PDAC_loc     0.001100\n",
      "5   u_PDAC_loc  u_PDAC_reg     0.450000\n",
      "6   u_PDAC_reg  u_PDAC_dis     0.450000\n",
      "7   u_PDAC_loc  d_PDAC_loc     0.100000\n",
      "8   u_PDAC_reg  d_PDAC_reg     0.380000\n",
      "9   u_PDAC_dis  d_PDAC_dis     0.520000\n"
     ]
    },
    {
     "name": "stderr",
     "output_type": "stream",
     "text": [
      "Simulated annealing progress:  10%|█         | 1011/10000 [00:19<02:24, 62.05iteration/s]"
     ]
    },
    {
     "name": "stdout",
     "output_type": "stream",
     "text": [
      "1000 :  43835.53792736512    CRC:  0.04936    tick: 2\n"
     ]
    },
    {
     "name": "stderr",
     "output_type": "stream",
     "text": [
      "Simulated annealing progress:  20%|██        | 2010/10000 [00:36<01:54, 69.63iteration/s]"
     ]
    },
    {
     "name": "stdout",
     "output_type": "stream",
     "text": [
      "2000 :  10251.1223815012    CRC:  0.03185    tick: 1\n"
     ]
    },
    {
     "name": "stderr",
     "output_type": "stream",
     "text": [
      "Simulated annealing progress:  30%|███       | 3017/10000 [00:49<01:15, 92.96iteration/s]"
     ]
    },
    {
     "name": "stdout",
     "output_type": "stream",
     "text": [
      "3000 :  1994.3160636255557    CRC:  0.02184    tick: 0\n"
     ]
    },
    {
     "name": "stderr",
     "output_type": "stream",
     "text": [
      "Simulated annealing progress:  40%|████      | 4014/10000 [01:00<01:07, 88.64iteration/s] "
     ]
    },
    {
     "name": "stdout",
     "output_type": "stream",
     "text": [
      "4000 :  487.56507616377235    CRC:  0.01908    tick: 0\n"
     ]
    },
    {
     "name": "stderr",
     "output_type": "stream",
     "text": [
      "Simulated annealing progress:  50%|█████     | 5013/10000 [01:13<01:17, 64.54iteration/s]"
     ]
    },
    {
     "name": "stdout",
     "output_type": "stream",
     "text": [
      "5000 :  285.10978192823205    CRC:  0.02211    tick: 2\n"
     ]
    },
    {
     "name": "stderr",
     "output_type": "stream",
     "text": [
      "Simulated annealing progress:  60%|██████    | 6019/10000 [01:24<00:42, 92.94iteration/s] "
     ]
    },
    {
     "name": "stdout",
     "output_type": "stream",
     "text": [
      "6000 :  203.4373080773155    CRC:  0.02776    tick: 0\n"
     ]
    },
    {
     "name": "stderr",
     "output_type": "stream",
     "text": [
      "Simulated annealing progress:  70%|███████   | 7016/10000 [01:34<00:29, 99.71iteration/s] "
     ]
    },
    {
     "name": "stdout",
     "output_type": "stream",
     "text": [
      "7000 :  153.21203334402043    CRC:  0.03461    tick: 0\n"
     ]
    },
    {
     "name": "stderr",
     "output_type": "stream",
     "text": [
      "Simulated annealing progress:  80%|████████  | 8015/10000 [01:46<00:28, 70.58iteration/s] "
     ]
    },
    {
     "name": "stdout",
     "output_type": "stream",
     "text": [
      "8000 :  128.04427738356156    CRC:  0.03924    tick: 0\n"
     ]
    },
    {
     "name": "stderr",
     "output_type": "stream",
     "text": [
      "Simulated annealing progress:  90%|█████████ | 9013/10000 [02:00<00:10, 93.07iteration/s]"
     ]
    },
    {
     "name": "stdout",
     "output_type": "stream",
     "text": [
      "9000 :  108.9859542883286    CRC:  0.0431    tick: 1\n"
     ]
    },
    {
     "name": "stderr",
     "output_type": "stream",
     "text": [
      "Simulated annealing progress: 100%|██████████| 10000/10000 [02:12<00:00, 75.66iteration/s]\n"
     ]
    },
    {
     "name": "stdout",
     "output_type": "stream",
     "text": [
      "103.24272489692216\n",
      "    From State    To State  Probability\n",
      "0      healthy  u_PDAC_loc     0.000438\n",
      "1          nod  u_PDAC_loc     0.001379\n",
      "2  nod_to_dia1  u_PDAC_loc     0.001379\n",
      "3  nod_to_dia2  u_PDAC_loc     0.001379\n",
      "4          dia  u_PDAC_loc     0.001379\n",
      "5   u_PDAC_loc  u_PDAC_reg     0.061642\n",
      "6   u_PDAC_reg  u_PDAC_dis     0.061899\n",
      "7   u_PDAC_loc  d_PDAC_loc     0.002547\n",
      "8   u_PDAC_reg  d_PDAC_reg     0.010239\n",
      "9   u_PDAC_dis  d_PDAC_dis     0.020829\n"
     ]
    },
    {
     "data": {
      "image/png": "[encoded data removed]",
      "text/plain": [
       "<Figure size 640x480 with 1 Axes>"
      ]
     },
     "metadata": {},
     "output_type": "display_data"
    }
   ],
   "source": [
    "result=run_sa()"
   ]
  },
  {
   "cell_type": "code",
   "execution_count": 25,
   "metadata": {},
   "outputs": [],
   "source": [
    "def plot_vs_seer(inc_adj, seer_inc, save_imgs=False, outpath=None, timestamp=None):\n",
    "    \"\"\"Plot model incidence by stage vs. SEER calibration incidence\n",
    "\n",
    "    Args:\n",
    "        inc_adj (matrix): output incidence log from run_markov\n",
    "        seer_inc (df): item of comparison\n",
    "    \"\"\"\n",
    "    x_values = np.arange(20, 85, 1)\n",
    "\n",
    "    # Plot yearly incidence by stage\n",
    "    plt.plot(seer_inc[\"Age\"], seer_inc[\"LocalU\"], label=f\"Local (SEER)\", color=\"b\", linestyle=\"dotted\")\n",
    "    plt.plot(seer_inc[\"Age\"], seer_inc[\"RegionalU\"], label=f\"Regional (SEER)\", color=\"r\", linestyle=\"dotted\")\n",
    "    plt.plot(seer_inc[\"Age\"], seer_inc[\"DistantU\"], label=f\"Distant (SEER)\", color=\"g\", linestyle=\"dotted\")\n",
    "    plt.plot(x_values, inc_adj[8, :], label=\"Local (Model)\", color=\"b\")\n",
    "    plt.plot(x_values, inc_adj[9, :], label=\"Regional (Model)\", color=\"r\")\n",
    "    plt.plot(x_values, inc_adj[10, :], label=\"Distant (Model)\", color=\"g\")\n",
    "    plt.legend()\n",
    "    plt.title(\"Incidence of Local, Regional, and Distant States\")\n",
    "    plt.xlabel(\"Time Point / Age Group\")\n",
    "    plt.ylabel(\"incidence\")\n",
    "    if save_imgs:\n",
    "        plt.savefig(f\"{outpath}/{timestamp}_inc_stage.png\")  # Save figure\n",
    "        plt.close()\n",
    "    else:\n",
    "        plt.show()\n"
   ]
  },
  {
   "cell_type": "code",
   "execution_count": null,
   "metadata": {},
   "outputs": [],
   "source": []
  }
 ],
 "metadata": {
  "kernelspec": {
   "display_name": "drcrc_env",
   "language": "python",
   "name": "python3"
  },
  "language_info": {
   "codemirror_mode": {
    "name": "ipython",
    "version": 3
   },
   "file_extension": ".py",
   "mimetype": "text/x-python",
   "name": "python",
   "nbconvert_exporter": "python",
   "pygments_lexer": "ipython3",
   "version": "3.12.4"
  }
 },
 "nbformat": 4,
 "nbformat_minor": 2
}
