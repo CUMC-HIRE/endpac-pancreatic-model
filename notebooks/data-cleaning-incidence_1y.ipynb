{
 "cells": [
  {
   "cell_type": "markdown",
   "metadata": {},
   "source": [
    "# Data cleaning for SEER 1y incidence"
   ]
  },
  {
   "cell_type": "code",
   "execution_count": 120,
   "metadata": {},
   "outputs": [
    {
     "data": {
      "text/plain": [
       "'c:\\\\repos\\\\pdac-calibration\\\\notebooks'"
      ]
     },
     "execution_count": 120,
     "metadata": {},
     "output_type": "execute_result"
    }
   ],
   "source": [
    "import numpy as np\n",
    "import pandas as pd\n",
    "import os\n",
    "os.getcwd() "
   ]
  },
  {
   "cell_type": "code",
   "execution_count": null,
   "metadata": {},
   "outputs": [],
   "source": [
    "seer_inc = pd.read_csv(\"../data/pdac_seer17_incidence_1y.csv\")\n",
    "seer_inc.iloc[:5]"
   ]
  },
  {
   "cell_type": "code",
   "execution_count": 122,
   "metadata": {},
   "outputs": [],
   "source": [
    "# Pivot the data\n",
    "pivot_df = seer_inc.pivot(\n",
    "    index='Age recode with single ages and 85+', \n",
    "    columns='Combined Summary Stage (2004+)', \n",
    "    values='Crude Rate'\n",
    ")\n",
    "\n",
    "pivot_df.columns = [f\"{col} Rate\" for col in pivot_df.columns]\n",
    "pivot_df.reset_index(inplace=True)\n",
    "pivot_df = pivot_df[pivot_df['Age recode with single ages and 85+'] != 'Unknown']\n",
    "pivot_df['Age'] = pivot_df['Age recode with single ages and 85+'].str[:2].astype(int)\n",
    "pivot_df['Localized Rate'] = pivot_df['Localized Rate'].astype(float)\n",
    "pivot_df['Regional Rate'] = pivot_df['Regional Rate'].astype(float)\n",
    "pivot_df['Distant Rate'] = pivot_df['Distant Rate'].astype(float)\n",
    "pivot_df['Unknown/unstaged Rate'] = pivot_df['Unknown/unstaged Rate'].astype(float)"
   ]
  },
  {
   "cell_type": "code",
   "execution_count": 123,
   "metadata": {},
   "outputs": [],
   "source": [
    "pivot_df.drop(['nan Rate', 'In situ Rate', 'Blank(s) Rate', 'Age recode with single ages and 85+'], axis=1, inplace=True)"
   ]
  },
  {
   "cell_type": "code",
   "execution_count": 124,
   "metadata": {},
   "outputs": [
    {
     "data": {
      "text/html": [
       "<div>\n",
       "<style scoped>\n",
       "    .dataframe tbody tr th:only-of-type {\n",
       "        vertical-align: middle;\n",
       "    }\n",
       "\n",
       "    .dataframe tbody tr th {\n",
       "        vertical-align: top;\n",
       "    }\n",
       "\n",
       "    .dataframe thead th {\n",
       "        text-align: right;\n",
       "    }\n",
       "</style>\n",
       "<table border=\"1\" class=\"dataframe\">\n",
       "  <thead>\n",
       "    <tr style=\"text-align: right;\">\n",
       "      <th></th>\n",
       "      <th>Distant Rate</th>\n",
       "      <th>Localized Rate</th>\n",
       "      <th>Regional Rate</th>\n",
       "      <th>Unknown/unstaged Rate</th>\n",
       "      <th>Age</th>\n",
       "    </tr>\n",
       "  </thead>\n",
       "  <tbody>\n",
       "    <tr>\n",
       "      <th>0</th>\n",
       "      <td>0.0</td>\n",
       "      <td>0.0</td>\n",
       "      <td>0.0</td>\n",
       "      <td>0.0</td>\n",
       "      <td>0</td>\n",
       "    </tr>\n",
       "    <tr>\n",
       "      <th>1</th>\n",
       "      <td>0.0</td>\n",
       "      <td>0.0</td>\n",
       "      <td>0.0</td>\n",
       "      <td>0.0</td>\n",
       "      <td>1</td>\n",
       "    </tr>\n",
       "    <tr>\n",
       "      <th>2</th>\n",
       "      <td>0.0</td>\n",
       "      <td>0.0</td>\n",
       "      <td>0.0</td>\n",
       "      <td>0.0</td>\n",
       "      <td>2</td>\n",
       "    </tr>\n",
       "    <tr>\n",
       "      <th>3</th>\n",
       "      <td>0.0</td>\n",
       "      <td>0.0</td>\n",
       "      <td>0.0</td>\n",
       "      <td>0.0</td>\n",
       "      <td>3</td>\n",
       "    </tr>\n",
       "    <tr>\n",
       "      <th>4</th>\n",
       "      <td>0.0</td>\n",
       "      <td>0.0</td>\n",
       "      <td>0.0</td>\n",
       "      <td>0.0</td>\n",
       "      <td>4</td>\n",
       "    </tr>\n",
       "  </tbody>\n",
       "</table>\n",
       "</div>"
      ],
      "text/plain": [
       "   Distant Rate  Localized Rate  Regional Rate  Unknown/unstaged Rate  Age\n",
       "0           0.0             0.0            0.0                    0.0    0\n",
       "1           0.0             0.0            0.0                    0.0    1\n",
       "2           0.0             0.0            0.0                    0.0    2\n",
       "3           0.0             0.0            0.0                    0.0    3\n",
       "4           0.0             0.0            0.0                    0.0    4"
      ]
     },
     "execution_count": 124,
     "metadata": {},
     "output_type": "execute_result"
    }
   ],
   "source": [
    "pivot_df.head()"
   ]
  },
  {
   "cell_type": "markdown",
   "metadata": {},
   "source": [
    "Redistribute unstaged cancer incidence over local, regional, and distant"
   ]
  },
  {
   "cell_type": "code",
   "execution_count": 125,
   "metadata": {},
   "outputs": [
    {
     "data": {
      "text/plain": [
       "0.0"
      ]
     },
     "execution_count": 125,
     "metadata": {},
     "output_type": "execute_result"
    }
   ],
   "source": [
    "pivot_df['Distant Rate'].iloc[4]"
   ]
  },
  {
   "cell_type": "code",
   "execution_count": 126,
   "metadata": {},
   "outputs": [],
   "source": [
    "pivot_df['LRD Rate'] = pivot_df['Localized Rate'] + pivot_df['Regional Rate'] + pivot_df['Distant Rate']\n",
    "pivot_df['LRDU Rate'] = pivot_df['Localized Rate'] + pivot_df['Regional Rate'] + pivot_df['Distant Rate'] + pivot_df['Unknown/unstaged Rate']\n",
    "pivot_df['pLocal'] = pivot_df['Localized Rate'] / pivot_df['LRD Rate']\n",
    "pivot_df['pRegional'] = pivot_df['Regional Rate'] / pivot_df['LRD Rate']\n",
    "pivot_df['pDistant'] = pivot_df['Distant Rate'] / pivot_df['LRD Rate']\n",
    "pivot_df['LocalU'] = pivot_df['Localized Rate'] + pivot_df['Unknown/unstaged Rate'] * pivot_df['pLocal']\n",
    "pivot_df['RegionalU'] = pivot_df['Regional Rate'] + pivot_df['Unknown/unstaged Rate'] * pivot_df['pRegional']\n",
    "pivot_df['DistantU'] = pivot_df['Distant Rate'] + pivot_df['Unknown/unstaged Rate'] * pivot_df['pDistant']"
   ]
  },
  {
   "cell_type": "code",
   "execution_count": 127,
   "metadata": {},
   "outputs": [],
   "source": [
    "pivot_df = pivot_df[pivot_df['Age']>=20]\n",
    "pivot_df = pivot_df[pivot_df['Age']<85]"
   ]
  },
  {
   "cell_type": "code",
   "execution_count": 129,
   "metadata": {},
   "outputs": [
    {
     "data": {
      "image/png": "[encoded data removed]",
      "text/plain": [
       "<Figure size 640x480 with 1 Axes>"
      ]
     },
     "metadata": {},
     "output_type": "display_data"
    }
   ],
   "source": [
    "from csaps import csaps\n",
    "import matplotlib.pyplot as plt\n",
    "\n",
    "avg_risk = pivot_df.drop(columns=['Distant Rate', 'Localized Rate', 'Regional Rate', 'Unknown/unstaged Rate', 'LRD Rate'])\n",
    "double_risk = pivot_df.copy()\n",
    "double_risk['LRDU Rate'] = 1.8 * double_risk['LRDU Rate']\n",
    "\n",
    "# Smooth the rates\n",
    "avg_smooth = csaps(avg_risk['Age'], avg_risk['LRDU Rate'], smooth=0.3)(avg_risk['Age'])\n",
    "double_smooth = csaps(double_risk['Age'], double_risk['LRDU Rate'], smooth=0.3)(double_risk['Age'])\n",
    "\n",
    "# Plot\n",
    "plt.plot(avg_risk['Age'], avg_smooth, linestyle=\"-\", alpha=0.5, label=\"Average risk\")\n",
    "plt.scatter(avg_risk['Age'], avg_risk['LRDU Rate'], s=10)\n",
    "plt.plot(double_risk['Age'], double_smooth, linestyle=\"-\", alpha=0.5, label=\"Double risk\")\n",
    "plt.scatter(double_risk['Age'], double_risk['LRDU Rate'], s=10)\n",
    "plt.legend()\n",
    "plt.show()"
   ]
  },
  {
   "cell_type": "code",
   "execution_count": 130,
   "metadata": {},
   "outputs": [],
   "source": [
    "avg_risk['LRDU Rate Smoothed'] = avg_smooth\n",
    "avg_risk['LocalU'] = avg_risk['LRDU Rate Smoothed'] * avg_risk['pLocal']\n",
    "avg_risk['RegionalU'] = avg_risk['LRDU Rate Smoothed'] * avg_risk['pRegional']\n",
    "avg_risk['DistantU'] = avg_risk['LRDU Rate Smoothed'] * avg_risk['pDistant']\n",
    "\n",
    "double_risk['LRDU Rate Smoothed'] = double_smooth\n",
    "double_risk['LocalU'] = double_risk['LRDU Rate Smoothed'] * double_risk['pLocal']\n",
    "double_risk['RegionalU'] = double_risk['LRDU Rate Smoothed'] * double_risk['pRegional']\n",
    "double_risk['DistantU'] = double_risk['LRDU Rate Smoothed'] * double_risk['pDistant']"
   ]
  },
  {
   "cell_type": "code",
   "execution_count": 131,
   "metadata": {},
   "outputs": [],
   "source": [
    "avg_risk.to_csv(\"../data/seer_incidence_1y.csv\")\n",
    "double_risk.to_csv(\"../data/seer_incidence_1y_double.csv\")"
   ]
  }
 ],
 "metadata": {
  "kernelspec": {
   "display_name": "drcrc_env",
   "language": "python",
   "name": "python3"
  },
  "language_info": {
   "codemirror_mode": {
    "name": "ipython",
    "version": 3
   },
   "file_extension": ".py",
   "mimetype": "text/x-python",
   "name": "python",
   "nbconvert_exporter": "python",
   "pygments_lexer": "ipython3",
   "version": "3.12.4"
  }
 },
 "nbformat": 4,
 "nbformat_minor": 2
}
