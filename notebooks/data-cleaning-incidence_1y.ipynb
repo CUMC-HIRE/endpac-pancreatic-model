{
 "cells": [
  {
   "cell_type": "markdown",
   "metadata": {},
   "source": [
    "# Data cleaning for SEER 1y incidence"
   ]
  },
  {
   "cell_type": "code",
   "execution_count": 2,
   "metadata": {},
   "outputs": [
    {
     "data": {
      "text/plain": [
       "'c:\\\\repos\\\\pdac-calibration\\\\notebooks'"
      ]
     },
     "execution_count": 2,
     "metadata": {},
     "output_type": "execute_result"
    }
   ],
   "source": [
    "import numpy as np\n",
    "import pandas as pd\n",
    "import os\n",
    "os.getcwd() "
   ]
  },
  {
   "cell_type": "code",
   "execution_count": 15,
   "metadata": {},
   "outputs": [
    {
     "data": {
      "text/html": [
       "<div>\n",
       "<style scoped>\n",
       "    .dataframe tbody tr th:only-of-type {\n",
       "        vertical-align: middle;\n",
       "    }\n",
       "\n",
       "    .dataframe tbody tr th {\n",
       "        vertical-align: top;\n",
       "    }\n",
       "\n",
       "    .dataframe thead th {\n",
       "        text-align: right;\n",
       "    }\n",
       "</style>\n",
       "<table border=\"1\" class=\"dataframe\">\n",
       "  <thead>\n",
       "    <tr style=\"text-align: right;\">\n",
       "      <th></th>\n",
       "      <th>Year Dx (2000-2021 group only) for DevCan</th>\n",
       "      <th>Age recode with single ages and 85+</th>\n",
       "      <th>Combined Summary Stage (2004+)</th>\n",
       "      <th>Crude Rate</th>\n",
       "      <th>Count</th>\n",
       "      <th>Population</th>\n",
       "    </tr>\n",
       "  </thead>\n",
       "  <tbody>\n",
       "    <tr>\n",
       "      <th>0</th>\n",
       "      <td>2000-2021</td>\n",
       "      <td>00 years</td>\n",
       "      <td>In situ</td>\n",
       "      <td>0.000000</td>\n",
       "      <td>0</td>\n",
       "      <td>23639727</td>\n",
       "    </tr>\n",
       "    <tr>\n",
       "      <th>1</th>\n",
       "      <td>2000-2021</td>\n",
       "      <td>00 years</td>\n",
       "      <td>Localized</td>\n",
       "      <td>0.000000</td>\n",
       "      <td>0</td>\n",
       "      <td>23639727</td>\n",
       "    </tr>\n",
       "    <tr>\n",
       "      <th>2</th>\n",
       "      <td>2000-2021</td>\n",
       "      <td>00 years</td>\n",
       "      <td>Regional</td>\n",
       "      <td>0.000000</td>\n",
       "      <td>0</td>\n",
       "      <td>23639727</td>\n",
       "    </tr>\n",
       "    <tr>\n",
       "      <th>3</th>\n",
       "      <td>2000-2021</td>\n",
       "      <td>00 years</td>\n",
       "      <td>Distant</td>\n",
       "      <td>0.000000</td>\n",
       "      <td>0</td>\n",
       "      <td>23639727</td>\n",
       "    </tr>\n",
       "    <tr>\n",
       "      <th>4</th>\n",
       "      <td>2000-2021</td>\n",
       "      <td>00 years</td>\n",
       "      <td>NaN</td>\n",
       "      <td>0.000000</td>\n",
       "      <td>0</td>\n",
       "      <td>23639727</td>\n",
       "    </tr>\n",
       "  </tbody>\n",
       "</table>\n",
       "</div>"
      ],
      "text/plain": [
       "  Year Dx (2000-2021 group only) for DevCan  \\\n",
       "0                                 2000-2021   \n",
       "1                                 2000-2021   \n",
       "2                                 2000-2021   \n",
       "3                                 2000-2021   \n",
       "4                                 2000-2021   \n",
       "\n",
       "  Age recode with single ages and 85+ Combined Summary Stage (2004+)  \\\n",
       "0                            00 years                        In situ   \n",
       "1                            00 years                      Localized   \n",
       "2                            00 years                       Regional   \n",
       "3                            00 years                        Distant   \n",
       "4                            00 years                            NaN   \n",
       "\n",
       "  Crude Rate  Count  Population  \n",
       "0   0.000000      0    23639727  \n",
       "1   0.000000      0    23639727  \n",
       "2   0.000000      0    23639727  \n",
       "3   0.000000      0    23639727  \n",
       "4   0.000000      0    23639727  "
      ]
     },
     "execution_count": 15,
     "metadata": {},
     "output_type": "execute_result"
    }
   ],
   "source": [
    "seer_inc = pd.read_csv(\"../data/pdac_seer17_incidence_1y.csv\")\n",
    "seer_inc.iloc[:5]"
   ]
  },
  {
   "cell_type": "code",
   "execution_count": 16,
   "metadata": {},
   "outputs": [
    {
     "data": {
      "text/plain": [
       "array(['00 years', '01 years', '02 years', '03 years', '04 years',\n",
       "       '05 years', '06 years', '07 years', '08 years', '09 years',\n",
       "       '10 years', '11 years', '12 years', '13 years', '14 years',\n",
       "       '15 years', '16 years', '17 years', '18 years', '19 years',\n",
       "       '20 years', '21 years', '22 years', '23 years', '24 years',\n",
       "       '25 years', '26 years', '27 years', '28 years', '29 years',\n",
       "       '30 years', '31 years', '32 years', '33 years', '34 years',\n",
       "       '35 years', '36 years', '37 years', '38 years', '39 years',\n",
       "       '40 years', '41 years', '42 years', '43 years', '44 years',\n",
       "       '45 years', '46 years', '47 years', '48 years', '49 years',\n",
       "       '50 years', '51 years', '52 years', '53 years', '54 years',\n",
       "       '55 years', '56 years', '57 years', '58 years', '59 years',\n",
       "       '60 years', '61 years', '62 years', '63 years', '64 years',\n",
       "       '65 years', '66 years', '67 years', '68 years', '69 years',\n",
       "       '70 years', '71 years', '72 years', '73 years', '74 years',\n",
       "       '75 years', '76 years', '77 years', '78 years', '79 years',\n",
       "       '80 years', '81 years', '82 years', '83 years', '84 years',\n",
       "       '85+ years', 'Unknown'], dtype=object)"
      ]
     },
     "execution_count": 16,
     "metadata": {},
     "output_type": "execute_result"
    }
   ],
   "source": [
    "seer_inc['Age recode with single ages and 85+'].unique()"
   ]
  },
  {
   "cell_type": "code",
   "execution_count": 28,
   "metadata": {},
   "outputs": [],
   "source": [
    "# Pivot the data\n",
    "pivot_df = seer_inc.pivot(\n",
    "    index='Age recode with single ages and 85+', \n",
    "    columns='Combined Summary Stage (2004+)', \n",
    "    values='Crude Rate'\n",
    ")\n",
    "\n",
    "pivot_df.columns = [f\"{col} Rate\" for col in pivot_df.columns]\n",
    "pivot_df.reset_index(inplace=True)\n",
    "pivot_df = pivot_df[pivot_df['Age recode with single ages and 85+'] != 'Unknown']\n",
    "pivot_df['Age'] = pivot_df['Age recode with single ages and 85+'].str[:2].astype(int)\n",
    "pivot_df['Localized Rate'] = pivot_df['Localized Rate'].astype(float)\n",
    "pivot_df['Regional Rate'] = pivot_df['Regional Rate'].astype(float)\n",
    "pivot_df['Distant Rate'] = pivot_df['Distant Rate'].astype(float)\n",
    "pivot_df['Unknown/unstaged Rate'] = pivot_df['Unknown/unstaged Rate'].astype(float)"
   ]
  },
  {
   "cell_type": "code",
   "execution_count": 29,
   "metadata": {},
   "outputs": [],
   "source": [
    "pivot_df.drop(['nan Rate', 'In situ Rate', 'Blank(s) Rate', 'Age recode with single ages and 85+'], axis=1, inplace=True)"
   ]
  },
  {
   "cell_type": "code",
   "execution_count": 30,
   "metadata": {},
   "outputs": [
    {
     "data": {
      "text/html": [
       "<div>\n",
       "<style scoped>\n",
       "    .dataframe tbody tr th:only-of-type {\n",
       "        vertical-align: middle;\n",
       "    }\n",
       "\n",
       "    .dataframe tbody tr th {\n",
       "        vertical-align: top;\n",
       "    }\n",
       "\n",
       "    .dataframe thead th {\n",
       "        text-align: right;\n",
       "    }\n",
       "</style>\n",
       "<table border=\"1\" class=\"dataframe\">\n",
       "  <thead>\n",
       "    <tr style=\"text-align: right;\">\n",
       "      <th></th>\n",
       "      <th>Distant Rate</th>\n",
       "      <th>Localized Rate</th>\n",
       "      <th>Regional Rate</th>\n",
       "      <th>Unknown/unstaged Rate</th>\n",
       "      <th>Age</th>\n",
       "    </tr>\n",
       "  </thead>\n",
       "  <tbody>\n",
       "    <tr>\n",
       "      <th>0</th>\n",
       "      <td>0.0</td>\n",
       "      <td>0.0</td>\n",
       "      <td>0.0</td>\n",
       "      <td>0.0</td>\n",
       "      <td>0</td>\n",
       "    </tr>\n",
       "    <tr>\n",
       "      <th>1</th>\n",
       "      <td>0.0</td>\n",
       "      <td>0.0</td>\n",
       "      <td>0.0</td>\n",
       "      <td>0.0</td>\n",
       "      <td>1</td>\n",
       "    </tr>\n",
       "    <tr>\n",
       "      <th>2</th>\n",
       "      <td>0.0</td>\n",
       "      <td>0.0</td>\n",
       "      <td>0.0</td>\n",
       "      <td>0.0</td>\n",
       "      <td>2</td>\n",
       "    </tr>\n",
       "    <tr>\n",
       "      <th>3</th>\n",
       "      <td>0.0</td>\n",
       "      <td>0.0</td>\n",
       "      <td>0.0</td>\n",
       "      <td>0.0</td>\n",
       "      <td>3</td>\n",
       "    </tr>\n",
       "    <tr>\n",
       "      <th>4</th>\n",
       "      <td>0.0</td>\n",
       "      <td>0.0</td>\n",
       "      <td>0.0</td>\n",
       "      <td>0.0</td>\n",
       "      <td>4</td>\n",
       "    </tr>\n",
       "  </tbody>\n",
       "</table>\n",
       "</div>"
      ],
      "text/plain": [
       "   Distant Rate  Localized Rate  Regional Rate  Unknown/unstaged Rate  Age\n",
       "0           0.0             0.0            0.0                    0.0    0\n",
       "1           0.0             0.0            0.0                    0.0    1\n",
       "2           0.0             0.0            0.0                    0.0    2\n",
       "3           0.0             0.0            0.0                    0.0    3\n",
       "4           0.0             0.0            0.0                    0.0    4"
      ]
     },
     "execution_count": 30,
     "metadata": {},
     "output_type": "execute_result"
    }
   ],
   "source": [
    "pivot_df.head()"
   ]
  },
  {
   "cell_type": "markdown",
   "metadata": {},
   "source": [
    "Redistribute unstaged cancer incidence over local, regional, and distant"
   ]
  },
  {
   "cell_type": "code",
   "execution_count": 31,
   "metadata": {},
   "outputs": [
    {
     "data": {
      "text/plain": [
       "0.0"
      ]
     },
     "execution_count": 31,
     "metadata": {},
     "output_type": "execute_result"
    }
   ],
   "source": [
    "pivot_df['Distant Rate'].iloc[4]"
   ]
  },
  {
   "cell_type": "code",
   "execution_count": 32,
   "metadata": {},
   "outputs": [],
   "source": [
    "pivot_df['LRD Rate'] = pivot_df['Localized Rate'] + pivot_df['Regional Rate'] + pivot_df['Distant Rate']\n",
    "pivot_df['LRDU Rate'] = pivot_df['Localized Rate'] + pivot_df['Regional Rate'] + pivot_df['Distant Rate'] + pivot_df['Unknown/unstaged Rate']\n",
    "pivot_df['pLocal'] = pivot_df['Localized Rate'] / pivot_df['LRD Rate']\n",
    "pivot_df['pRegional'] = pivot_df['Regional Rate'] / pivot_df['LRD Rate']\n",
    "pivot_df['pDistant'] = pivot_df['Distant Rate'] / pivot_df['LRD Rate']\n",
    "pivot_df['LocalU'] = pivot_df['Localized Rate'] + pivot_df['Unknown/unstaged Rate'] * pivot_df['pLocal']\n",
    "pivot_df['RegionalU'] = pivot_df['Regional Rate'] + pivot_df['Unknown/unstaged Rate'] * pivot_df['pRegional']\n",
    "pivot_df['DistantU'] = pivot_df['Distant Rate'] + pivot_df['Unknown/unstaged Rate'] * pivot_df['pDistant']"
   ]
  },
  {
   "cell_type": "code",
   "execution_count": 33,
   "metadata": {},
   "outputs": [],
   "source": [
    "pivot_df = pivot_df[pivot_df['Age']>=20]\n",
    "pivot_df = pivot_df[pivot_df['Age']<85]"
   ]
  },
  {
   "cell_type": "code",
   "execution_count": 34,
   "metadata": {},
   "outputs": [],
   "source": [
    "pivot_df.to_csv(\"../data/seer_incidence_1y.csv\")"
   ]
  }
 ],
 "metadata": {
  "kernelspec": {
   "display_name": "drcrc_env",
   "language": "python",
   "name": "python3"
  },
  "language_info": {
   "codemirror_mode": {
    "name": "ipython",
    "version": 3
   },
   "file_extension": ".py",
   "mimetype": "text/x-python",
   "name": "python",
   "nbconvert_exporter": "python",
   "pygments_lexer": "ipython3",
   "version": "3.12.4"
  }
 },
 "nbformat": 4,
 "nbformat_minor": 2
}
