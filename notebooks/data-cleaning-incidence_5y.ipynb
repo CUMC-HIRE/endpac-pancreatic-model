{
 "cells": [
  {
   "cell_type": "markdown",
   "metadata": {},
   "source": [
    "# Data cleaning for SEER 5y incidence"
   ]
  },
  {
   "cell_type": "code",
   "execution_count": 26,
   "metadata": {},
   "outputs": [],
   "source": [
    "import numpy as np\n",
    "import pandas as pd\n",
    "import os\n",
    "os.getcwd() "
   ]
  },
  {
   "cell_type": "code",
   "execution_count": null,
   "metadata": {},
   "outputs": [],
   "source": [
    "seer_inc = pd.read_csv(\"../data/pdac_seer17_incidence_5y.csv\")\n",
    "seer_inc.iloc[:5]"
   ]
  },
  {
   "cell_type": "code",
   "execution_count": 31,
   "metadata": {},
   "outputs": [],
   "source": [
    "# Pivot the data\n",
    "pivot_df = seer_inc.pivot(\n",
    "    index='Age recode with <1 year olds DevCan', \n",
    "    columns='Combined Summary Stage (2004+)', \n",
    "    values='Crude Rate'\n",
    ")\n",
    "\n",
    "pivot_df.columns = [f\"{col} Rate\" for col in pivot_df.columns]\n",
    "pivot_df.reset_index(inplace=True)\n",
    "pivot_df['Age'] = pivot_df['Age recode with <1 year olds DevCan'].str[:2].astype(int)\n"
   ]
  },
  {
   "cell_type": "code",
   "execution_count": 32,
   "metadata": {},
   "outputs": [],
   "source": [
    "pivot_df.drop(['nan Rate', 'In situ Rate', 'Blank(s) Rate', 'Age recode with <1 year olds DevCan'], axis=1, inplace=True)"
   ]
  },
  {
   "cell_type": "markdown",
   "metadata": {},
   "source": [
    "Redistribute unstaged cancer incidence over local, regional, and distant"
   ]
  },
  {
   "cell_type": "code",
   "execution_count": 33,
   "metadata": {},
   "outputs": [],
   "source": [
    "pivot_df['LRD Rate'] = pivot_df['Localized Rate'] + pivot_df['Regional Rate'] + pivot_df['Distant Rate']\n",
    "pivot_df['LRDU Rate'] = pivot_df['Localized Rate'] + pivot_df['Regional Rate'] + pivot_df['Distant Rate'] + pivot_df['Unknown/unstaged Rate']\n",
    "pivot_df['pLocal'] = pivot_df['Localized Rate'] / pivot_df['LRD Rate']\n",
    "pivot_df['pRegional'] = pivot_df['Regional Rate'] / pivot_df['LRD Rate']\n",
    "pivot_df['pDistant'] = pivot_df['Distant Rate'] / pivot_df['LRD Rate']\n",
    "pivot_df['LocalU'] = pivot_df['Localized Rate'] + pivot_df['Unknown/unstaged Rate'] * pivot_df['pLocal']\n",
    "pivot_df['RegionalU'] = pivot_df['Regional Rate'] + pivot_df['Unknown/unstaged Rate'] * pivot_df['pRegional']\n",
    "pivot_df['DistantU'] = pivot_df['Distant Rate'] + pivot_df['Unknown/unstaged Rate'] * pivot_df['pDistant']"
   ]
  },
  {
   "cell_type": "code",
   "execution_count": 37,
   "metadata": {},
   "outputs": [],
   "source": [
    "pivot_df = pivot_df[pivot_df['Age']>=20]\n",
    "pivot_df = pivot_df[pivot_df['Age']<85]"
   ]
  },
  {
   "cell_type": "code",
   "execution_count": 38,
   "metadata": {},
   "outputs": [],
   "source": [
    "pivot_df.to_csv(\"../data/seer_incidence_1y.csv\")"
   ]
  }
 ],
 "metadata": {
  "kernelspec": {
   "display_name": "drcrc_env",
   "language": "python",
   "name": "python3"
  },
  "language_info": {
   "codemirror_mode": {
    "name": "ipython",
    "version": 3
   },
   "file_extension": ".py",
   "mimetype": "text/x-python",
   "name": "python",
   "nbconvert_exporter": "python",
   "pygments_lexer": "ipython3",
   "version": "3.12.4"
  }
 },
 "nbformat": 4,
 "nbformat_minor": 2
}
