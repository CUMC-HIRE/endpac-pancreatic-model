{
 "cells": [
  {
   "cell_type": "markdown",
   "metadata": {},
   "source": [
    "# Data cleaning for SEER 5y incidence"
   ]
  },
  {
   "cell_type": "code",
   "execution_count": 26,
   "metadata": {},
   "outputs": [],
   "source": [
    "import numpy as np\n",
    "import pandas as pd\n",
    "import os\n",
    "os.getcwd() "
   ]
  },
  {
   "cell_type": "code",
   "execution_count": 29,
   "metadata": {},
   "outputs": [
    {
     "data": {
      "text/html": [
       "<div>\n",
       "<style scoped>\n",
       "    .dataframe tbody tr th:only-of-type {\n",
       "        vertical-align: middle;\n",
       "    }\n",
       "\n",
       "    .dataframe tbody tr th {\n",
       "        vertical-align: top;\n",
       "    }\n",
       "\n",
       "    .dataframe thead th {\n",
       "        text-align: right;\n",
       "    }\n",
       "</style>\n",
       "<table border=\"1\" class=\"dataframe\">\n",
       "  <thead>\n",
       "    <tr style=\"text-align: right;\">\n",
       "      <th></th>\n",
       "      <th>Year Dx (2000-2021 group only) for DevCan</th>\n",
       "      <th>Age recode with &lt;1 year olds DevCan</th>\n",
       "      <th>Combined Summary Stage (2004+)</th>\n",
       "      <th>Crude Rate</th>\n",
       "      <th>Count</th>\n",
       "      <th>Population</th>\n",
       "    </tr>\n",
       "  </thead>\n",
       "  <tbody>\n",
       "    <tr>\n",
       "      <th>0</th>\n",
       "      <td>2000-2021</td>\n",
       "      <td>00 years</td>\n",
       "      <td>In situ</td>\n",
       "      <td>0.0</td>\n",
       "      <td>0</td>\n",
       "      <td>23639727</td>\n",
       "    </tr>\n",
       "    <tr>\n",
       "      <th>1</th>\n",
       "      <td>2000-2021</td>\n",
       "      <td>00 years</td>\n",
       "      <td>Localized</td>\n",
       "      <td>0.0</td>\n",
       "      <td>0</td>\n",
       "      <td>23639727</td>\n",
       "    </tr>\n",
       "    <tr>\n",
       "      <th>2</th>\n",
       "      <td>2000-2021</td>\n",
       "      <td>00 years</td>\n",
       "      <td>Regional</td>\n",
       "      <td>0.0</td>\n",
       "      <td>0</td>\n",
       "      <td>23639727</td>\n",
       "    </tr>\n",
       "    <tr>\n",
       "      <th>3</th>\n",
       "      <td>2000-2021</td>\n",
       "      <td>00 years</td>\n",
       "      <td>Distant</td>\n",
       "      <td>0.0</td>\n",
       "      <td>0</td>\n",
       "      <td>23639727</td>\n",
       "    </tr>\n",
       "    <tr>\n",
       "      <th>4</th>\n",
       "      <td>2000-2021</td>\n",
       "      <td>00 years</td>\n",
       "      <td>NaN</td>\n",
       "      <td>0.0</td>\n",
       "      <td>0</td>\n",
       "      <td>23639727</td>\n",
       "    </tr>\n",
       "  </tbody>\n",
       "</table>\n",
       "</div>"
      ],
      "text/plain": [
       "  Year Dx (2000-2021 group only) for DevCan  \\\n",
       "0                                 2000-2021   \n",
       "1                                 2000-2021   \n",
       "2                                 2000-2021   \n",
       "3                                 2000-2021   \n",
       "4                                 2000-2021   \n",
       "\n",
       "  Age recode with <1 year olds DevCan Combined Summary Stage (2004+)  \\\n",
       "0                            00 years                        In situ   \n",
       "1                            00 years                      Localized   \n",
       "2                            00 years                       Regional   \n",
       "3                            00 years                        Distant   \n",
       "4                            00 years                            NaN   \n",
       "\n",
       "   Crude Rate  Count  Population  \n",
       "0         0.0      0    23639727  \n",
       "1         0.0      0    23639727  \n",
       "2         0.0      0    23639727  \n",
       "3         0.0      0    23639727  \n",
       "4         0.0      0    23639727  "
      ]
     },
     "execution_count": 29,
     "metadata": {},
     "output_type": "execute_result"
    }
   ],
   "source": [
    "seer_inc = pd.read_csv(\"../data/pdac_seer17_incidence_5y.csv\")\n",
    "seer_inc.iloc[:5]"
   ]
  },
  {
   "cell_type": "code",
   "execution_count": 31,
   "metadata": {},
   "outputs": [],
   "source": [
    "# Pivot the data\n",
    "pivot_df = seer_inc.pivot(\n",
    "    index='Age recode with <1 year olds DevCan', \n",
    "    columns='Combined Summary Stage (2004+)', \n",
    "    values='Crude Rate'\n",
    ")\n",
    "\n",
    "pivot_df.columns = [f\"{col} Rate\" for col in pivot_df.columns]\n",
    "pivot_df.reset_index(inplace=True)\n",
    "pivot_df['Age'] = pivot_df['Age recode with <1 year olds DevCan'].str[:2].astype(int)\n"
   ]
  },
  {
   "cell_type": "code",
   "execution_count": 32,
   "metadata": {},
   "outputs": [],
   "source": [
    "pivot_df.drop(['nan Rate', 'In situ Rate', 'Blank(s) Rate', 'Age recode with <1 year olds DevCan'], axis=1, inplace=True)"
   ]
  },
  {
   "cell_type": "markdown",
   "metadata": {},
   "source": [
    "Redistribute unstaged cancer incidence over local, regional, and distant"
   ]
  },
  {
   "cell_type": "code",
   "execution_count": 33,
   "metadata": {},
   "outputs": [],
   "source": [
    "pivot_df['LRD Rate'] = pivot_df['Localized Rate'] + pivot_df['Regional Rate'] + pivot_df['Distant Rate']\n",
    "pivot_df['LRDU Rate'] = pivot_df['Localized Rate'] + pivot_df['Regional Rate'] + pivot_df['Distant Rate'] + pivot_df['Unknown/unstaged Rate']\n",
    "pivot_df['pLocal'] = pivot_df['Localized Rate'] / pivot_df['LRD Rate']\n",
    "pivot_df['pRegional'] = pivot_df['Regional Rate'] / pivot_df['LRD Rate']\n",
    "pivot_df['pDistant'] = pivot_df['Distant Rate'] / pivot_df['LRD Rate']\n",
    "pivot_df['LocalU'] = pivot_df['Localized Rate'] + pivot_df['Unknown/unstaged Rate'] * pivot_df['pLocal']\n",
    "pivot_df['RegionalU'] = pivot_df['Regional Rate'] + pivot_df['Unknown/unstaged Rate'] * pivot_df['pRegional']\n",
    "pivot_df['DistantU'] = pivot_df['Distant Rate'] + pivot_df['Unknown/unstaged Rate'] * pivot_df['pDistant']"
   ]
  },
  {
   "cell_type": "code",
   "execution_count": 37,
   "metadata": {},
   "outputs": [],
   "source": [
    "pivot_df = pivot_df[pivot_df['Age']>=20]\n",
    "pivot_df = pivot_df[pivot_df['Age']<85]"
   ]
  },
  {
   "cell_type": "code",
   "execution_count": 38,
   "metadata": {},
   "outputs": [],
   "source": [
    "pivot_df.to_csv(\"../data/seer_incidence_1y.csv\")"
   ]
  }
 ],
 "metadata": {
  "kernelspec": {
   "display_name": "drcrc_env",
   "language": "python",
   "name": "python3"
  },
  "language_info": {
   "codemirror_mode": {
    "name": "ipython",
    "version": 3
   },
   "file_extension": ".py",
   "mimetype": "text/x-python",
   "name": "python",
   "nbconvert_exporter": "python",
   "pygments_lexer": "ipython3",
   "version": "3.12.4"
  }
 },
 "nbformat": 4,
 "nbformat_minor": 2
}
