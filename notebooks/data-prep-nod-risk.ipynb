{
 "cells": [
  {
   "cell_type": "markdown",
   "metadata": {},
   "source": [
    "# NOD risk"
   ]
  },
  {
   "cell_type": "markdown",
   "metadata": {},
   "source": [
    "From Sharma et al we have:\n",
    "- NOD 3y risk = 0.9%<br>\n",
    "- Avg risk = 0.11%"
   ]
  },
  {
   "cell_type": "code",
   "execution_count": 2,
   "metadata": {},
   "outputs": [],
   "source": [
    "import numpy as np\n",
    "import pandas as pd\n",
    "import matplotlib.pyplot as plt\n",
    "from csaps import csaps"
   ]
  },
  {
   "cell_type": "code",
   "execution_count": 4,
   "metadata": {},
   "outputs": [
    {
     "data": {
      "text/html": [
       "<div>\n",
       "<style scoped>\n",
       "    .dataframe tbody tr th:only-of-type {\n",
       "        vertical-align: middle;\n",
       "    }\n",
       "\n",
       "    .dataframe tbody tr th {\n",
       "        vertical-align: top;\n",
       "    }\n",
       "\n",
       "    .dataframe thead th {\n",
       "        text-align: right;\n",
       "    }\n",
       "</style>\n",
       "<table border=\"1\" class=\"dataframe\">\n",
       "  <thead>\n",
       "    <tr style=\"text-align: right;\">\n",
       "      <th></th>\n",
       "      <th>Unnamed: 0</th>\n",
       "      <th>Distant Rate</th>\n",
       "      <th>Localized Rate</th>\n",
       "      <th>Regional Rate</th>\n",
       "      <th>Unknown/unstaged Rate</th>\n",
       "      <th>Age</th>\n",
       "      <th>LRD Rate</th>\n",
       "      <th>LRDU Rate</th>\n",
       "      <th>pLocal</th>\n",
       "      <th>pRegional</th>\n",
       "      <th>pDistant</th>\n",
       "      <th>LocalU</th>\n",
       "      <th>RegionalU</th>\n",
       "      <th>DistantU</th>\n",
       "    </tr>\n",
       "  </thead>\n",
       "  <tbody>\n",
       "    <tr>\n",
       "      <th>0</th>\n",
       "      <td>20</td>\n",
       "      <td>0.015638</td>\n",
       "      <td>0.066462</td>\n",
       "      <td>0.003910</td>\n",
       "      <td>0.011729</td>\n",
       "      <td>20</td>\n",
       "      <td>0.086010</td>\n",
       "      <td>0.097739</td>\n",
       "      <td>0.772724</td>\n",
       "      <td>0.045460</td>\n",
       "      <td>0.181816</td>\n",
       "      <td>0.075525</td>\n",
       "      <td>0.004443</td>\n",
       "      <td>0.017771</td>\n",
       "    </tr>\n",
       "    <tr>\n",
       "      <th>1</th>\n",
       "      <td>21</td>\n",
       "      <td>0.003894</td>\n",
       "      <td>0.054513</td>\n",
       "      <td>0.007788</td>\n",
       "      <td>0.003894</td>\n",
       "      <td>21</td>\n",
       "      <td>0.066195</td>\n",
       "      <td>0.070089</td>\n",
       "      <td>0.823521</td>\n",
       "      <td>0.117652</td>\n",
       "      <td>0.058826</td>\n",
       "      <td>0.057720</td>\n",
       "      <td>0.008246</td>\n",
       "      <td>0.004123</td>\n",
       "    </tr>\n",
       "    <tr>\n",
       "      <th>2</th>\n",
       "      <td>22</td>\n",
       "      <td>0.015596</td>\n",
       "      <td>0.046787</td>\n",
       "      <td>0.000000</td>\n",
       "      <td>0.003899</td>\n",
       "      <td>22</td>\n",
       "      <td>0.062383</td>\n",
       "      <td>0.066282</td>\n",
       "      <td>0.749996</td>\n",
       "      <td>0.000000</td>\n",
       "      <td>0.250004</td>\n",
       "      <td>0.049711</td>\n",
       "      <td>0.000000</td>\n",
       "      <td>0.016571</td>\n",
       "    </tr>\n",
       "    <tr>\n",
       "      <th>3</th>\n",
       "      <td>23</td>\n",
       "      <td>0.003888</td>\n",
       "      <td>0.054429</td>\n",
       "      <td>0.019439</td>\n",
       "      <td>0.003888</td>\n",
       "      <td>23</td>\n",
       "      <td>0.077756</td>\n",
       "      <td>0.081644</td>\n",
       "      <td>0.699997</td>\n",
       "      <td>0.250000</td>\n",
       "      <td>0.050003</td>\n",
       "      <td>0.057151</td>\n",
       "      <td>0.020411</td>\n",
       "      <td>0.004082</td>\n",
       "    </tr>\n",
       "    <tr>\n",
       "      <th>4</th>\n",
       "      <td>24</td>\n",
       "      <td>0.015566</td>\n",
       "      <td>0.035022</td>\n",
       "      <td>0.011674</td>\n",
       "      <td>0.000000</td>\n",
       "      <td>24</td>\n",
       "      <td>0.062262</td>\n",
       "      <td>0.062262</td>\n",
       "      <td>0.562494</td>\n",
       "      <td>0.187498</td>\n",
       "      <td>0.250008</td>\n",
       "      <td>0.035022</td>\n",
       "      <td>0.011674</td>\n",
       "      <td>0.015566</td>\n",
       "    </tr>\n",
       "  </tbody>\n",
       "</table>\n",
       "</div>"
      ],
      "text/plain": [
       "   Unnamed: 0  Distant Rate  Localized Rate  Regional Rate  \\\n",
       "0          20      0.015638        0.066462       0.003910   \n",
       "1          21      0.003894        0.054513       0.007788   \n",
       "2          22      0.015596        0.046787       0.000000   \n",
       "3          23      0.003888        0.054429       0.019439   \n",
       "4          24      0.015566        0.035022       0.011674   \n",
       "\n",
       "   Unknown/unstaged Rate  Age  LRD Rate  LRDU Rate    pLocal  pRegional  \\\n",
       "0               0.011729   20  0.086010   0.097739  0.772724   0.045460   \n",
       "1               0.003894   21  0.066195   0.070089  0.823521   0.117652   \n",
       "2               0.003899   22  0.062383   0.066282  0.749996   0.000000   \n",
       "3               0.003888   23  0.077756   0.081644  0.699997   0.250000   \n",
       "4               0.000000   24  0.062262   0.062262  0.562494   0.187498   \n",
       "\n",
       "   pDistant    LocalU  RegionalU  DistantU  \n",
       "0  0.181816  0.075525   0.004443  0.017771  \n",
       "1  0.058826  0.057720   0.008246  0.004123  \n",
       "2  0.250004  0.049711   0.000000  0.016571  \n",
       "3  0.050003  0.057151   0.020411  0.004082  \n",
       "4  0.250008  0.035022   0.011674  0.015566  "
      ]
     },
     "execution_count": 4,
     "metadata": {},
     "output_type": "execute_result"
    }
   ],
   "source": [
    "seer_inc = pd.read_csv(\"../data/seer_incidence_1y.csv\")\n",
    "seer_inc.iloc[:5]"
   ]
  },
  {
   "cell_type": "code",
   "execution_count": 9,
   "metadata": {},
   "outputs": [
    {
     "name": "stdout",
     "output_type": "stream",
     "text": [
      "Literature ratio (0.9% vs 0.11%): 8.2\n"
     ]
    }
   ],
   "source": [
    "risk_1y_NOD = 1-(1-0.009)**(1/3)\n",
    "risk_1y_avg = 1-(1-0.0011)**(1/3)\n",
    "ratio = risk_1y_NOD / risk_1y_avg\n",
    "print(f\"Literature ratio (0.9% vs 0.11%): {round(ratio,2)}\")"
   ]
  },
  {
   "cell_type": "markdown",
   "metadata": {},
   "source": [
    "Find comparable 3-y incidence group, and identify appropriate weights to increase incidence by, with higher risk ratio in 1st year and decreasing to 3rd year:"
   ]
  },
  {
   "cell_type": "code",
   "execution_count": 10,
   "metadata": {},
   "outputs": [
    {
     "name": "stdout",
     "output_type": "stream",
     "text": [
      "Incidence ages 72-74: [35.29, 37.85, 39.72]\n",
      "Average risk for 72-74 = 0.113%\n",
      "New incidences: [396.97, 302.81, 198.62]\n",
      "New risk: 0.898%\n"
     ]
    }
   ],
   "source": [
    "avg_risks = seer_inc.query('Age > 71 & Age < 75')['LRDU Rate']\n",
    "print(f\"Incidence ages 72-74: {[round(risk,2) for risk in avg_risks]}\")\n",
    "print(f\"Average risk for 72-74 = { round((sum(avg_risks) / 100000) * 100, 3)}%\")\n",
    "risk_ratios = [11.25, 8, 5]\n",
    "risks_nod = [ratio * risk for ratio, risk in zip(risk_ratios, avg_risks)]\n",
    "print(f\"New incidences: {[round(risk,2) for risk in risks_nod]}\")\n",
    "print(f\"New risk: {round((sum(risks_nod)/ 100000) * 100, 3)}%\")"
   ]
  },
  {
   "cell_type": "markdown",
   "metadata": {},
   "source": [
    "Apply above risk ratios to 60, 61, 62 y/o population:"
   ]
  },
  {
   "cell_type": "code",
   "execution_count": 11,
   "metadata": {},
   "outputs": [
    {
     "name": "stdout",
     "output_type": "stream",
     "text": [
      "Incidence ages 60-62: [15.67, 16.97, 18.83]\n",
      "Average risk for 60-62 = 0.051%\n",
      "New incidences: [176.3, 135.73, 94.15]\n",
      "New risk: 0.406%\n"
     ]
    }
   ],
   "source": [
    "avg_risks =  seer_inc.query('Age > 59 & Age < 63')['LRDU Rate']\n",
    "risks_nod = [ratio * risk for ratio, risk in zip(risk_ratios, avg_risks)]\n",
    "print(f\"Incidence ages 60-62: {[round(risk,2) for risk in avg_risks]}\")\n",
    "print(f\"Average risk for 60-62 = { round((sum(avg_risks) / 100000) * 100, 3)}%\")\n",
    "print(f\"New incidences: {[round(risk,2) for risk in risks_nod]}\")\n",
    "print(f\"New risk: {round((sum(risks_nod)/ 100000) * 100, 3)}%\")"
   ]
  },
  {
   "cell_type": "markdown",
   "metadata": {},
   "source": [
    "Implement smoothing to not have too irregular increase, while fitting the points:"
   ]
  },
  {
   "cell_type": "code",
   "execution_count": 13,
   "metadata": {},
   "outputs": [
    {
     "data": {
      "text/plain": [
       "<matplotlib.collections.PathCollection at 0x21738ac9a30>"
      ]
     },
     "execution_count": 13,
     "metadata": {},
     "output_type": "execute_result"
    },
    {
     "data": {
      "image/png": "[encoded data removed]",
      "text/plain": [
       "<Figure size 640x480 with 1 Axes>"
      ]
     },
     "metadata": {},
     "output_type": "display_data"
    }
   ],
   "source": [
    "risks_55_62 = np.append(seer_inc.query('Age > 54 & Age < 60')['LRDU Rate'].to_numpy(), risks_nod)\n",
    "risks_55_62\n",
    "ages = np.arange(55,63,1)\n",
    "ages_fin = np.arange(55,63,0.1)\n",
    "weights = [1, 1, 1, 0.7, 0.5, 12, 3, 3] \n",
    "smooth_risks = csaps(ages, risks_55_62, weights=weights, smooth=0.7, axis=0)(ages_fin)\n",
    "plt.plot(ages_fin, smooth_risks, linestyle='--', alpha=0.7, color='blue', label='Smoothed spline')\n",
    "plt.scatter(ages, risks_55_62, color='blue', label='Original data')"
   ]
  },
  {
   "cell_type": "code",
   "execution_count": 16,
   "metadata": {},
   "outputs": [],
   "source": [
    "new_risks_57_62 = csaps(ages, risks_55_62, weights=weights, smooth=0.7, axis=0)(np.arange(57,62,1))\n",
    "nod_df = seer_inc.query('Age > 56 & Age < 62').copy()\n",
    "nod_df['LRDU Rate'] = new_risks_57_62\n",
    "nod_df['LocalU'] = nod_df['pLocal'] * nod_df['LRDU Rate']\n",
    "nod_df['RegionalU'] = nod_df['pRegional'] * nod_df['LRDU Rate']\n",
    "nod_df['DistantU'] = nod_df['pDistant'] * nod_df['LRDU Rate']"
   ]
  },
  {
   "cell_type": "code",
   "execution_count": 17,
   "metadata": {},
   "outputs": [
    {
     "data": {
      "text/html": [
       "<div>\n",
       "<style scoped>\n",
       "    .dataframe tbody tr th:only-of-type {\n",
       "        vertical-align: middle;\n",
       "    }\n",
       "\n",
       "    .dataframe tbody tr th {\n",
       "        vertical-align: top;\n",
       "    }\n",
       "\n",
       "    .dataframe thead th {\n",
       "        text-align: right;\n",
       "    }\n",
       "</style>\n",
       "<table border=\"1\" class=\"dataframe\">\n",
       "  <thead>\n",
       "    <tr style=\"text-align: right;\">\n",
       "      <th></th>\n",
       "      <th>Unnamed: 0</th>\n",
       "      <th>Distant Rate</th>\n",
       "      <th>Localized Rate</th>\n",
       "      <th>Regional Rate</th>\n",
       "      <th>Unknown/unstaged Rate</th>\n",
       "      <th>Age</th>\n",
       "      <th>LRD Rate</th>\n",
       "      <th>LRDU Rate</th>\n",
       "      <th>pLocal</th>\n",
       "      <th>pRegional</th>\n",
       "      <th>pDistant</th>\n",
       "      <th>LocalU</th>\n",
       "      <th>RegionalU</th>\n",
       "      <th>DistantU</th>\n",
       "    </tr>\n",
       "  </thead>\n",
       "  <tbody>\n",
       "    <tr>\n",
       "      <th>37</th>\n",
       "      <td>57</td>\n",
       "      <td>6.630113</td>\n",
       "      <td>0.737185</td>\n",
       "      <td>3.321882</td>\n",
       "      <td>0.268481</td>\n",
       "      <td>57</td>\n",
       "      <td>10.689180</td>\n",
       "      <td>10.866701</td>\n",
       "      <td>0.068966</td>\n",
       "      <td>0.310771</td>\n",
       "      <td>0.620264</td>\n",
       "      <td>0.749428</td>\n",
       "      <td>3.377050</td>\n",
       "      <td>6.740223</td>\n",
       "    </tr>\n",
       "    <tr>\n",
       "      <th>38</th>\n",
       "      <td>58</td>\n",
       "      <td>7.783539</td>\n",
       "      <td>0.790991</td>\n",
       "      <td>3.753697</td>\n",
       "      <td>0.341671</td>\n",
       "      <td>58</td>\n",
       "      <td>12.328227</td>\n",
       "      <td>41.149987</td>\n",
       "      <td>0.064161</td>\n",
       "      <td>0.304480</td>\n",
       "      <td>0.631359</td>\n",
       "      <td>2.640223</td>\n",
       "      <td>12.529343</td>\n",
       "      <td>25.980421</td>\n",
       "    </tr>\n",
       "    <tr>\n",
       "      <th>39</th>\n",
       "      <td>59</td>\n",
       "      <td>8.484898</td>\n",
       "      <td>1.060004</td>\n",
       "      <td>4.249743</td>\n",
       "      <td>0.379268</td>\n",
       "      <td>59</td>\n",
       "      <td>13.794645</td>\n",
       "      <td>106.205260</td>\n",
       "      <td>0.076842</td>\n",
       "      <td>0.308072</td>\n",
       "      <td>0.615086</td>\n",
       "      <td>8.160993</td>\n",
       "      <td>32.718860</td>\n",
       "      <td>65.325407</td>\n",
       "    </tr>\n",
       "    <tr>\n",
       "      <th>40</th>\n",
       "      <td>60</td>\n",
       "      <td>9.761491</td>\n",
       "      <td>1.036619</td>\n",
       "      <td>4.471688</td>\n",
       "      <td>0.401436</td>\n",
       "      <td>60</td>\n",
       "      <td>15.269798</td>\n",
       "      <td>167.756392</td>\n",
       "      <td>0.067887</td>\n",
       "      <td>0.292845</td>\n",
       "      <td>0.639268</td>\n",
       "      <td>11.388459</td>\n",
       "      <td>49.126665</td>\n",
       "      <td>107.241269</td>\n",
       "    </tr>\n",
       "    <tr>\n",
       "      <th>41</th>\n",
       "      <td>61</td>\n",
       "      <td>10.218427</td>\n",
       "      <td>1.043339</td>\n",
       "      <td>5.195721</td>\n",
       "      <td>0.508562</td>\n",
       "      <td>61</td>\n",
       "      <td>16.457487</td>\n",
       "      <td>148.071025</td>\n",
       "      <td>0.063396</td>\n",
       "      <td>0.315706</td>\n",
       "      <td>0.620898</td>\n",
       "      <td>9.387112</td>\n",
       "      <td>46.746854</td>\n",
       "      <td>91.937060</td>\n",
       "    </tr>\n",
       "  </tbody>\n",
       "</table>\n",
       "</div>"
      ],
      "text/plain": [
       "    Unnamed: 0  Distant Rate  Localized Rate  Regional Rate  \\\n",
       "37          57      6.630113        0.737185       3.321882   \n",
       "38          58      7.783539        0.790991       3.753697   \n",
       "39          59      8.484898        1.060004       4.249743   \n",
       "40          60      9.761491        1.036619       4.471688   \n",
       "41          61     10.218427        1.043339       5.195721   \n",
       "\n",
       "    Unknown/unstaged Rate  Age   LRD Rate   LRDU Rate    pLocal  pRegional  \\\n",
       "37               0.268481   57  10.689180   10.866701  0.068966   0.310771   \n",
       "38               0.341671   58  12.328227   41.149987  0.064161   0.304480   \n",
       "39               0.379268   59  13.794645  106.205260  0.076842   0.308072   \n",
       "40               0.401436   60  15.269798  167.756392  0.067887   0.292845   \n",
       "41               0.508562   61  16.457487  148.071025  0.063396   0.315706   \n",
       "\n",
       "    pDistant     LocalU  RegionalU    DistantU  \n",
       "37  0.620264   0.749428   3.377050    6.740223  \n",
       "38  0.631359   2.640223  12.529343   25.980421  \n",
       "39  0.615086   8.160993  32.718860   65.325407  \n",
       "40  0.639268  11.388459  49.126665  107.241269  \n",
       "41  0.620898   9.387112  46.746854   91.937060  "
      ]
     },
     "execution_count": 17,
     "metadata": {},
     "output_type": "execute_result"
    }
   ],
   "source": [
    "nod_df.iloc[:5]"
   ]
  },
  {
   "cell_type": "code",
   "execution_count": 19,
   "metadata": {},
   "outputs": [],
   "source": [
    "nod_df.drop(['Unnamed: 0', 'Distant Rate', 'Localized Rate', 'Regional Rate', 'Unknown/unstaged Rate', 'LRD Rate'], axis=1, inplace=True)"
   ]
  },
  {
   "cell_type": "code",
   "execution_count": 20,
   "metadata": {},
   "outputs": [],
   "source": [
    "nod_df.to_csv(\"../data/seer_incidence_nod.csv\")"
   ]
  }
 ],
 "metadata": {
  "kernelspec": {
   "display_name": "drcrc_env",
   "language": "python",
   "name": "python3"
  },
  "language_info": {
   "codemirror_mode": {
    "name": "ipython",
    "version": 3
   },
   "file_extension": ".py",
   "mimetype": "text/x-python",
   "name": "python",
   "nbconvert_exporter": "python",
   "pygments_lexer": "ipython3",
   "version": "3.12.4"
  }
 },
 "nbformat": 4,
 "nbformat_minor": 2
}
