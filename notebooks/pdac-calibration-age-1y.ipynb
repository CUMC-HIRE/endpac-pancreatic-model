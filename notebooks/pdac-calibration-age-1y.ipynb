{
 "cells": [
  {
   "cell_type": "markdown",
   "metadata": {},
   "source": [
    "# PDAC Calibration - 1y probability changes\n",
    "\n",
    "Author: Sophie Wagner, sw3767@cumc.columbia.edu"
   ]
  },
  {
   "cell_type": "markdown",
   "metadata": {},
   "source": [
    "## Packages, notebook preferences, etc."
   ]
  },
  {
   "cell_type": "code",
   "execution_count": 1,
   "metadata": {},
   "outputs": [],
   "source": [
    "# Required Packages\n",
    "import numpy as np  # For matrix manipulation\n",
    "import pandas as pd  # For output/input data processing\n",
    "import matplotlib.pyplot as plt  # For visualizations\n",
    "from csaps import csaps\n",
    "from tqdm import tqdm\n",
    "from datetime import datetime\n",
    "import random \n",
    "\n",
    "# Add the src directory to the Python path\n",
    "import sys\n",
    "import os\n",
    "sys.path.append(os.path.abspath('../src'))\n",
    "\n",
    "# Load .py files\n",
    "import common_functions as func\n",
    "import calibration_plots as p\n",
    "import configs as c\n",
    "import gof\n",
    "\n",
    "# Some aesthetic options\n",
    "np.set_printoptions(suppress=True, linewidth=300, formatter={'float': '{: 0.9f}'.format})\n",
    "pd.set_option('display.max_columns', None)\n",
    "pd.set_option('display.max_rows', None)"
   ]
  },
  {
   "cell_type": "markdown",
   "metadata": {},
   "source": [
    "## Set up matrix"
   ]
  },
  {
   "cell_type": "code",
   "execution_count": 2,
   "metadata": {},
   "outputs": [],
   "source": [
    "def row_normalize(matrix):\n",
    "    \n",
    "    for age_layer in range(matrix.shape[0]):\n",
    "        layer = matrix[age_layer, :7, :]\n",
    "        non_diag_sum = np.sum(layer, axis=1) - np.diagonal(layer)\n",
    "\n",
    "        # Scale rows if non-diagonal sum exceeds 1\n",
    "        scaling_factors = np.clip(1 / non_diag_sum, None, 1)\n",
    "        layer *= scaling_factors[:, np.newaxis]  # Scale entire row\n",
    "\n",
    "        # Adjust diagonal elements to ensure each row sums to 1\n",
    "        np.fill_diagonal(layer, np.maximum(0, 1 - np.sum(layer, axis=1) + np.diagonal(layer)))\n",
    "\n",
    "        # Update the matrix for the current age layer\n",
    "        matrix[age_layer, :7, :] = layer\n",
    "\n",
    "    return matrix.clip(0.0, 1.0)\n",
    "\n",
    "def create_matrix():\n",
    "    \n",
    "    matrix = np.zeros((len(c.age_layers), len(c.health_states_itos), len(c.health_states_itos)))\n",
    "    age_50_idx = 30\n",
    "    matrix[:, 0, 1] = (1-(1-0.0011)**(1/25)) * 4 # average risk after 50 ~ 0.0011, transformed to annual prob\n",
    "    # matrix[:age_50_idx, 0, 1] = np.linspace(0.000002,matrix[-1,0,1],age_50_idx)\n",
    "    matrix[:, 1, 2] = c.model_inputs_dict['p_Local_to_Regional_PC']\n",
    "    matrix[:, 2, 3] = c.model_inputs_dict['p_Regional_to_Distant_PC']\n",
    "    matrix[:, 1, 4] = c.model_inputs_dict['p_symptom_local'] \n",
    "    matrix[:, 2, 5] = c.model_inputs_dict['p_symptom_regional']\n",
    "    matrix[:, 3, 6] = c.model_inputs_dict['p_symptom_distant']\n",
    "    \n",
    "    matrix = add_acm(matrix)  # ACM\n",
    "    matrix = add_csd(matrix)  # CSD\n",
    "    matrix = constrain_matrix(matrix)  # constrain\n",
    "    matrix = row_normalize(matrix)  # normalize\n",
    "\n",
    "    return matrix\n",
    "\n",
    "\n",
    "def constrain_matrix(matrix):\n",
    "    \n",
    "    matrix[:, 0, 1] = np.maximum(matrix[:,0,1], 0.000001)\n",
    "    # matrix[:, 0, 1] = np.maximum.accumulate(matrix[:, 0, 1])\n",
    "    matrix[:, 1, 2] = np.maximum(matrix[:, 0, 1], matrix[:, 1, 2]).clip(0.05, 1.0)\n",
    "    matrix[:, 2, 3] = np.maximum(matrix[:, 1, 2], matrix[:, 2, 3]).clip(0.1, 1.0)\n",
    "    matrix[:, 2, 5] = np.maximum(matrix[:, 1, 4], matrix[:, 2, 5]).clip(0.1, 1.0)\n",
    "    matrix[:, 3, 6] = np.maximum(matrix[:, 2, 5], matrix[:, 3, 6]).clip(0.2, 1.0)\n",
    "    \n",
    "    # Maintain logical consistency\n",
    "    matrix[:, 1, 4] = np.minimum(matrix[:, 1, 4], matrix[:, 2, 5])\n",
    "    matrix[:, 2, 5] = np.minimum(matrix[:, 2, 5], matrix[:, 3, 6])\n",
    "    \n",
    "    return matrix\n",
    "\n",
    "\n",
    "def add_acm(matrix):\n",
    "    \n",
    "    matrix[:, :7, 8] = c.acm_rates[:, np.newaxis]\n",
    "    matrix[:, 8, 8] = 1\n",
    "    \n",
    "    return matrix\n",
    "\n",
    "\n",
    "def add_csd(matrix):  # Constant death rate in calibration\n",
    "    \n",
    "    matrix[:, 4, 7] = c.model_inputs_dict['p_local_death']\n",
    "    matrix[:, 5, 7] = c.model_inputs_dict['p_regional_death']\n",
    "    matrix[:, 6, 7] = c.model_inputs_dict['p_distant_death']\n",
    "    matrix[:, 7, 7] = 1\n",
    "    \n",
    "    return matrix"
   ]
  },
  {
   "cell_type": "markdown",
   "metadata": {},
   "source": [
    "## Markov model"
   ]
  },
  {
   "cell_type": "code",
   "execution_count": 3,
   "metadata": {},
   "outputs": [],
   "source": [
    "def run_markov(matrix, starting_age=20, max_age=84):\n",
    "    \n",
    "    current_age = starting_age\n",
    "    age_layer = 0\n",
    "    month_pop, pop_log = c.starting_pop, c.starting_pop  # (13, 1)\n",
    "    inc_log = np.zeros(pop_log.shape)  # to track new incidences in each state\n",
    "    matrixT = matrix.transpose(0,2,1)  # (13, 9, 9)\n",
    "    inflow_matrix = np.tril(matrixT, k=-1)\n",
    "    \n",
    "    while current_age < max_age:            \n",
    "\n",
    "        # Matrix multiplication (state transition)\n",
    "        mat, inflow_mat = matrixT[age_layer], inflow_matrix[age_layer] \n",
    "        month_inc = np.matmul(inflow_mat, month_pop)  # (9, 9)(9, 1)->(9, 1)\n",
    "        month_pop = np.matmul(mat, month_pop)  # (9, 9)(9, 1)->(9, 1)\n",
    "         \n",
    "        # Add to log\n",
    "        inc_log = np.concatenate((inc_log, month_inc), axis=1)  # (13, 65)\n",
    "        pop_log = np.concatenate((pop_log, month_pop), axis=1)  # (13, 65)\n",
    "        \n",
    "        current_age += 1\n",
    "        if current_age in c.ages_1y:\n",
    "            age_layer += 1\n",
    "            \n",
    "    incidence, incidence_unadj = inc_log.copy(), inc_log.copy()\n",
    "    dead_factor = np.divide(c.N, c.N - pop_log[7:, :].sum(axis=0))  # inc and prev denominator is out of living only\n",
    "    prevalence = np.zeros(pop_log.shape) \n",
    "\n",
    "    for state in range(9):\n",
    "        incidence[state, :] = np.multiply(incidence[state, :], dead_factor)\n",
    "        prevalence[state, :] = np.multiply(pop_log[state, :], dead_factor)\n",
    "\n",
    "    return incidence, prevalence, incidence_unadj, pop_log"
   ]
  },
  {
   "cell_type": "markdown",
   "metadata": {},
   "source": [
    "## Calibration"
   ]
  },
  {
   "cell_type": "code",
   "execution_count": 4,
   "metadata": {},
   "outputs": [],
   "source": [
    "def step(matrix, step_size, num_adj=3):\n",
    "    \"\"\"\n",
    "    Updates a parameter matrix, using reduced 5-y interval matrix (to reduce number of\n",
    "    parameters to adjust, faster convergence, smoother parameter change). Randomly \n",
    "    selected transitions and age groups are adjusted by a scaled step size, then smoothed\n",
    "    and interpolated to get yearly values.\n",
    "\n",
    "    Args:\n",
    "        matrix (numpy.ndarray): Full parameter matrix for all ages and transitions.\n",
    "        step_size (float): Scale of parameter adjustments.\n",
    "        num_adj (int): Number of parameters to modify.\n",
    "\n",
    "    Returns:\n",
    "        numpy.ndarray: Updated matrix with smoothed yearly transition probabilities.\n",
    "    \"\"\"\n",
    "    points = list(c.transitions_itos.keys()) \n",
    "    step_tp = random.choices(points, k=num_adj)\n",
    "    step_age = random.choices(c.age_layers_adj, k=num_adj)\n",
    "    small_matrix = matrix[2::5, :, :]\n",
    "    assert small_matrix.shape[0] == 13\n",
    "    \n",
    "    for i in range(num_adj):\n",
    "        (from_state, to_state), age = step_tp[i], step_age[i]\n",
    "        old_param = small_matrix[age, from_state, to_state] \n",
    "        step_param = (old_param * step_size).clip(0.00001, 0.1)\n",
    "        small_matrix[age, from_state, to_state] += np.random.uniform(low=-step_param, high=step_param)\n",
    "\n",
    "    new_matrix = csaps([22.5,27.5,32.5,37.5,42.5,47.5,52.5,57.5,62.5,67.5,72.5,77.5,82.5], small_matrix, axis=0, smooth=0.01)(c.ages_1y).clip(0.0,1.0)\n",
    "        \n",
    "    # elif c.risk==\"double\":\n",
    "    #     new_matrix = np.copy(matrix)\n",
    "    #     for i in range(num_adj):\n",
    "    #         (from_state, to_state) = step_tp[i]\n",
    "    #         old_param = new_matrix[0, from_state, to_state] \n",
    "    #         step_param = (old_param * step_size).clip(0.00005, 0.1)\n",
    "    #         new_param = old_param + np.random.uniform(low=-step_param, high=step_param)\n",
    "    #         new_matrix[:, from_state, to_state] = new_param\n",
    "            \n",
    "    assert new_matrix.shape[0]==65\n",
    "    new_matrix = add_acm(new_matrix)  # ACM\n",
    "    new_matrix = add_csd(new_matrix)  # CSD\n",
    "    new_matrix = constrain_matrix(new_matrix)  # constrain\n",
    "    new_matrix = row_normalize(new_matrix)  # normalize\n",
    "\n",
    "    return new_matrix"
   ]
  },
  {
   "cell_type": "code",
   "execution_count": 5,
   "metadata": {},
   "outputs": [],
   "source": [
    "def progress_report(iteration, best_eval, best_log, ticker, best_t):\n",
    "    \"\"\"\n",
    "    Prints progress report during simulated annealing.\n",
    "    \"\"\"\n",
    "    log_adj, _, inc_log, _ = best_log\n",
    "    total_dxd = np.sum(inc_log[4:7, :]) / c.N\n",
    "    print(f\"{iteration}: Best Eval: {best_eval:.5f}, PDAC: {total_dxd:.5f}, Tick: {ticker}\")\n",
    "    \n",
    "    if iteration % 50000 == 0:\n",
    "        transition_probs = p.extract_transition_probs(best_t, metric=\"avg\")\n",
    "        print(f\"Detailed Progress Report, Iteration = {iteration}\")\n",
    "        print(transition_probs)\n",
    "        p.plot_vs_seer(log_adj, c.seer_inc)"
   ]
  },
  {
   "cell_type": "code",
   "execution_count": 6,
   "metadata": {},
   "outputs": [],
   "source": [
    "def simulated_annealing(n_iterations, step_size, start_tmat, n_adj=5, starting_temp=1, verbose=False, print_interval=1000):\n",
    "    \"\"\"\n",
    "    Performs simulated annealing to optimize a transition matrix.\n",
    "\n",
    "    Args:\n",
    "        n_iterations (int): Number of iterations for optimization.\n",
    "        step_size (float): Step size for parameter adjustments.\n",
    "        start_tmat (numpy.ndarray): Initial transition matrix.\n",
    "        n_adj (int): Number of parameters to adjust per step.\n",
    "        starting_temp (float): Initial temperature for annealing.\n",
    "        verbose (bool): Whether to print progress reports.\n",
    "        print_interval (int): Interval for progress reporting.\n",
    "\n",
    "    Returns:\n",
    "        numpy.ndarray: Optimized transition matrix.\n",
    "    \"\"\"\n",
    "    best_t = np.copy(start_tmat)\n",
    "    best_log = run_markov(best_t)\n",
    "    best_eval = gof.objective(best_log)\n",
    "    curr_t, curr_eval = best_t, best_eval\n",
    "    scheduler, ticker, iter_count = 0, 0, 0 \n",
    "\n",
    "    with tqdm(total=n_iterations, desc=\"Simulated annealing progress\", unit=\"iteration\") as pbar:\n",
    "        for i in range(n_iterations):\n",
    "            # Generate candidate solution\n",
    "            candidate_t = step(np.copy(curr_t), step_size, n_adj)\n",
    "            candidate_log = run_markov(candidate_t)\n",
    "            candidate_eval = gof.objective(candidate_log)\n",
    "\n",
    "            # Update best solution\n",
    "            if candidate_eval < best_eval:\n",
    "                ticker, scheduler = 0, 0\n",
    "                best_t, best_eval = np.copy(candidate_t), candidate_eval\n",
    "                best_log = run_markov(best_t)\n",
    "\n",
    "                # Dynamically adjust parameters on improvement\n",
    "                step_size = max(0.9 * step_size, 0.075)  # Decay step size slightly\n",
    "                starting_temp = max(0.95 * starting_temp, 1)  # Gradual cooling\n",
    "                n_adj = max(2, n_adj - 1)  # Reduce number of adjustments for precision\n",
    "                \n",
    "                # print(f\"UPDATE ACCOMPLISHED at iteration {i}!\")\n",
    "                # print(f\"Best Eval: {best_eval} | Step Size: {step_size:.4f} | Temp: {starting_temp:.2f} | n_adj: {n_adj}\")\n",
    "                \n",
    "            else:\n",
    "                ticker += 1\n",
    "                iter_count+=1\n",
    "                scheduler+=1\n",
    "\n",
    "            # Calculate temperature and Metropolis acceptance criterion\n",
    "            t = starting_temp / (1 + 0.01 * np.sqrt(iter_count + 1))  # Adaptive cooling\n",
    "            diff = candidate_eval - curr_eval\n",
    "            metropolis = np.exp(-diff / t)\n",
    "\n",
    "            if diff < 0 or np.random.random() < metropolis:\n",
    "                curr_t, curr_eval = np.copy(candidate_t), candidate_eval\n",
    "\n",
    "            # Print progress report\n",
    "            if verbose and i > 0 and i % print_interval == 0:\n",
    "                progress_report(i, best_eval, best_log, ticker, best_t)\n",
    "\n",
    "            # Adjust or reset exploration parameters periodically\n",
    "            if scheduler > 50000:  # Long stagnation\n",
    "                step_size = np.random.uniform(0.1, 0.3)  # Randomize step size\n",
    "                starting_temp = np.random.uniform(10, 50)  # Reset temperature\n",
    "                n_adj = np.random.choice(range(1, 12))  # Random adjustments\n",
    "                scheduler, iter_count = 0, 0, 0 # Reset \n",
    "            elif scheduler > 15000:  # Medium stagnation\n",
    "                step_size = min(step_size + 0.05, 0.3)  # Increase step size for exploration\n",
    "                starting_temp = min(starting_temp + 2, 50)  # Boost temperature for exploration\n",
    "                n_adj = np.random.choice(range(3, 10))  # Randomize number of parameters to adjust\n",
    "                scheduler, iter_count = 0, 0  # Reset stagnation counter\n",
    "\n",
    "                \n",
    "            pbar.update(1)\n",
    "\n",
    "    print(\"Best evaluation:\", best_eval)\n",
    "    return best_t"
   ]
  },
  {
   "cell_type": "markdown",
   "metadata": {},
   "source": [
    "## Run simulated annealing"
   ]
  },
  {
   "cell_type": "code",
   "execution_count": 7,
   "metadata": {},
   "outputs": [],
   "source": [
    "def run_sa(tmat=None, save_all=False, n_iterations=50000, step_size=0.2, n_adj=5, starting_temp=1, print_interval=5000):\n",
    "    \n",
    "    start_tmat = None\n",
    "    start_tmat = tmat if tmat is not None else create_matrix()   \n",
    "    initial_score = gof.objective(run_markov(start_tmat))\n",
    "    print(f\"Initial score: {round(initial_score, 5)}\")\n",
    "    print(\"Starting calibration...\")\n",
    "    \n",
    "    result = simulated_annealing(n_iterations=n_iterations, step_size=step_size, start_tmat=start_tmat, n_adj=n_adj, starting_temp=starting_temp, verbose=True, print_interval=print_interval)\n",
    "    \n",
    "    # Gather results\n",
    "    timestamp = datetime.now().strftime(\"%Y%m%d_%H%M\")\n",
    "    curr_tmat = result.copy()\n",
    "    curr_log = run_markov(curr_tmat)\n",
    "    log_adj, log_prev, log_inc, pop_log = curr_log\n",
    "    final_score = gof.objective(run_markov(curr_tmat))\n",
    "    \n",
    "    save = True if final_score < initial_score else save_all\n",
    "    \n",
    "    print(\"Done.\")\n",
    "    \n",
    "    # Saving\n",
    "    if save:\n",
    "        log_path, tmat_path, plot_path = c.OUTPUT_PATHS[\"logs\"], c.OUTPUT_PATHS[\"tmats\"], c.OUTPUT_PATHS[\"plots\"]\n",
    "        np.save(f\"{tmat_path}/{timestamp}_tmat.npy\", curr_tmat)\n",
    "        pd.DataFrame(log_adj).to_csv(f\"{log_path}/{timestamp}_inc_adj.csv\")\n",
    "        pd.DataFrame(log_prev).to_csv(f\"{log_path}/{timestamp}_prev.csv\")\n",
    "        pd.DataFrame(log_inc).to_csv(f\"{log_path}/{timestamp}_inc_unadj.csv\")\n",
    "        pd.DataFrame(pop_log.T).to_csv(f\"{log_path}/{timestamp}_pop_log.csv\")\n",
    "        p.plot_vs_seer(log_adj, c.seer_inc, save_imgs=True, show_plot=False, outpath=plot_path, timestamp=timestamp)\n",
    "        p.plot_vs_seer_total(log_adj, c.seer_inc, save_imgs=True, show_plot=False, outpath=plot_path, timestamp=timestamp)\n",
    "\n",
    "    return curr_tmat"
   ]
  },
  {
   "cell_type": "code",
   "execution_count": 57,
   "metadata": {},
   "outputs": [
    {
     "name": "stdout",
     "output_type": "stream",
     "text": [
      "EPOCH 1/5 ----------------------------------------------------------\n",
      "Initial score: 1495.60311\n",
      "Starting calibration...\n"
     ]
    },
    {
     "name": "stderr",
     "output_type": "stream",
     "text": [
      "Simulated annealing progress:   2%|▏         | 5036/250000 [00:19<15:21, 265.89iteration/s]"
     ]
    },
    {
     "name": "stdout",
     "output_type": "stream",
     "text": [
      "5000: Best Eval: 1107.69429, PDAC: 0.01395, Tick: 16\n"
     ]
    },
    {
     "name": "stderr",
     "output_type": "stream",
     "text": [
      "Simulated annealing progress:   4%|▍         | 10039/250000 [00:39<15:41, 254.92iteration/s]"
     ]
    },
    {
     "name": "stdout",
     "output_type": "stream",
     "text": [
      "10000: Best Eval: 1052.09691, PDAC: 0.01374, Tick: 851\n"
     ]
    },
    {
     "name": "stderr",
     "output_type": "stream",
     "text": [
      "Simulated annealing progress:   6%|▌         | 15038/250000 [00:58<14:53, 263.11iteration/s]"
     ]
    },
    {
     "name": "stdout",
     "output_type": "stream",
     "text": [
      "15000: Best Eval: 1052.09691, PDAC: 0.01374, Tick: 5851\n"
     ]
    },
    {
     "name": "stderr",
     "output_type": "stream",
     "text": [
      "Simulated annealing progress:   8%|▊         | 20029/250000 [01:19<17:37, 217.51iteration/s]"
     ]
    },
    {
     "name": "stdout",
     "output_type": "stream",
     "text": [
      "20000: Best Eval: 1041.32563, PDAC: 0.01379, Tick: 1997\n"
     ]
    },
    {
     "name": "stderr",
     "output_type": "stream",
     "text": [
      "Simulated annealing progress:  10%|█         | 25057/250000 [01:41<14:30, 258.53iteration/s]"
     ]
    },
    {
     "name": "stdout",
     "output_type": "stream",
     "text": [
      "25000: Best Eval: 1021.58418, PDAC: 0.01376, Tick: 321\n"
     ]
    },
    {
     "name": "stderr",
     "output_type": "stream",
     "text": [
      "Simulated annealing progress:  12%|█▏        | 30056/250000 [02:00<14:07, 259.64iteration/s]"
     ]
    },
    {
     "name": "stdout",
     "output_type": "stream",
     "text": [
      "30000: Best Eval: 1021.58418, PDAC: 0.01376, Tick: 5321\n"
     ]
    },
    {
     "name": "stderr",
     "output_type": "stream",
     "text": [
      "Simulated annealing progress:  14%|█▍        | 35032/250000 [02:20<14:21, 249.65iteration/s]"
     ]
    },
    {
     "name": "stdout",
     "output_type": "stream",
     "text": [
      "35000: Best Eval: 1020.52194, PDAC: 0.01381, Tick: 2826\n"
     ]
    },
    {
     "name": "stderr",
     "output_type": "stream",
     "text": [
      "Simulated annealing progress:  16%|█▌        | 40037/250000 [02:39<13:51, 252.49iteration/s]"
     ]
    },
    {
     "name": "stdout",
     "output_type": "stream",
     "text": [
      "40000: Best Eval: 992.18680, PDAC: 0.01364, Tick: 4383\n"
     ]
    },
    {
     "name": "stderr",
     "output_type": "stream",
     "text": [
      "Simulated annealing progress:  18%|█▊        | 45036/250000 [02:59<13:15, 257.63iteration/s]"
     ]
    },
    {
     "name": "stdout",
     "output_type": "stream",
     "text": [
      "45000: Best Eval: 992.18680, PDAC: 0.01364, Tick: 9383\n"
     ]
    },
    {
     "name": "stderr",
     "output_type": "stream",
     "text": [
      "Simulated annealing progress:  20%|██        | 50050/250000 [03:18<13:14, 251.82iteration/s]"
     ]
    },
    {
     "name": "stdout",
     "output_type": "stream",
     "text": [
      "50000: Best Eval: 992.18680, PDAC: 0.01364, Tick: 14383\n",
      "Detailed Progress Report, Iteration = 50000\n",
      "   From State    To State   Age 30   Age 75      Min      Max      Avg\n",
      "0     healthy  u_PDAC_loc  0.00740  0.00818  0.00688  0.00822  0.00783\n",
      "1  u_PDAC_loc  u_PDAC_reg  0.00799  0.00848  0.00792  0.00848  0.00824\n",
      "2  u_PDAC_reg  u_PDAC_dis  0.00969  0.01022  0.00968  0.01024  0.00994\n",
      "3  u_PDAC_loc  d_PDAC_loc  0.00014  0.00017  0.00013  0.00018  0.00016\n",
      "4  u_PDAC_reg  d_PDAC_reg  0.00358  0.00345  0.00316  0.00381  0.00340\n",
      "5  u_PDAC_dis  d_PDAC_dis  0.07484  0.08247  0.07006  0.08453  0.07664\n"
     ]
    },
    {
     "name": "stderr",
     "output_type": "stream",
     "text": [
      "Simulated annealing progress:  22%|██▏       | 55040/250000 [03:38<12:38, 257.10iteration/s]"
     ]
    },
    {
     "name": "stdout",
     "output_type": "stream",
     "text": [
      "55000: Best Eval: 960.26607, PDAC: 0.01368, Tick: 757\n"
     ]
    },
    {
     "name": "stderr",
     "output_type": "stream",
     "text": [
      "Simulated annealing progress:  24%|██▍       | 60031/250000 [03:57<11:55, 265.33iteration/s]"
     ]
    },
    {
     "name": "stdout",
     "output_type": "stream",
     "text": [
      "60000: Best Eval: 959.78473, PDAC: 0.01365, Tick: 3441\n"
     ]
    },
    {
     "name": "stderr",
     "output_type": "stream",
     "text": [
      "Simulated annealing progress:  26%|██▌       | 65047/250000 [04:18<11:46, 261.68iteration/s]"
     ]
    },
    {
     "name": "stdout",
     "output_type": "stream",
     "text": [
      "65000: Best Eval: 959.78473, PDAC: 0.01365, Tick: 8441\n"
     ]
    },
    {
     "name": "stderr",
     "output_type": "stream",
     "text": [
      "Simulated annealing progress:  28%|██▊       | 70024/250000 [04:38<11:17, 265.67iteration/s]"
     ]
    },
    {
     "name": "stdout",
     "output_type": "stream",
     "text": [
      "70000: Best Eval: 959.78473, PDAC: 0.01365, Tick: 13441\n"
     ]
    },
    {
     "name": "stderr",
     "output_type": "stream",
     "text": [
      "Simulated annealing progress:  30%|███       | 75045/250000 [04:57<11:04, 263.30iteration/s]"
     ]
    },
    {
     "name": "stdout",
     "output_type": "stream",
     "text": [
      "75000: Best Eval: 902.50956, PDAC: 0.01360, Tick: 2824\n"
     ]
    },
    {
     "name": "stderr",
     "output_type": "stream",
     "text": [
      "Simulated annealing progress:  32%|███▏      | 80036/250000 [05:17<10:55, 259.40iteration/s]"
     ]
    },
    {
     "name": "stdout",
     "output_type": "stream",
     "text": [
      "80000: Best Eval: 893.47848, PDAC: 0.01371, Tick: 3831\n"
     ]
    },
    {
     "name": "stderr",
     "output_type": "stream",
     "text": [
      "Simulated annealing progress:  34%|███▍      | 85032/250000 [05:36<10:51, 253.11iteration/s]"
     ]
    },
    {
     "name": "stdout",
     "output_type": "stream",
     "text": [
      "85000: Best Eval: 893.47848, PDAC: 0.01371, Tick: 8831\n"
     ]
    },
    {
     "name": "stderr",
     "output_type": "stream",
     "text": [
      "Simulated annealing progress:  36%|███▌      | 90024/250000 [05:56<10:29, 254.14iteration/s]"
     ]
    },
    {
     "name": "stdout",
     "output_type": "stream",
     "text": [
      "90000: Best Eval: 893.47848, PDAC: 0.01371, Tick: 13831\n"
     ]
    },
    {
     "name": "stderr",
     "output_type": "stream",
     "text": [
      "Simulated annealing progress:  38%|███▊      | 95055/250000 [06:15<09:48, 263.40iteration/s]"
     ]
    },
    {
     "name": "stdout",
     "output_type": "stream",
     "text": [
      "95000: Best Eval: 890.18924, PDAC: 0.01374, Tick: 3696\n"
     ]
    },
    {
     "name": "stderr",
     "output_type": "stream",
     "text": [
      "Simulated annealing progress:  40%|████      | 100047/250000 [06:34<09:57, 250.97iteration/s]"
     ]
    },
    {
     "name": "stdout",
     "output_type": "stream",
     "text": [
      "100000: Best Eval: 890.18924, PDAC: 0.01374, Tick: 8696\n",
      "Detailed Progress Report, Iteration = 100000\n",
      "   From State    To State   Age 30   Age 75      Min      Max      Avg\n",
      "0     healthy  u_PDAC_loc  0.00699  0.00826  0.00634  0.00828  0.00777\n",
      "1  u_PDAC_loc  u_PDAC_reg  0.00841  0.00843  0.00832  0.00913  0.00852\n",
      "2  u_PDAC_reg  u_PDAC_dis  0.00939  0.01061  0.00924  0.01064  0.00995\n",
      "3  u_PDAC_loc  d_PDAC_loc  0.00013  0.00017  0.00013  0.00018  0.00015\n",
      "4  u_PDAC_reg  d_PDAC_reg  0.00382  0.00358  0.00316  0.00410  0.00353\n",
      "5  u_PDAC_dis  d_PDAC_dis  0.07713  0.08386  0.06877  0.08693  0.07886\n"
     ]
    },
    {
     "name": "stderr",
     "output_type": "stream",
     "text": [
      "Simulated annealing progress:  42%|████▏     | 105039/250000 [06:54<09:15, 260.94iteration/s]"
     ]
    },
    {
     "name": "stdout",
     "output_type": "stream",
     "text": [
      "105000: Best Eval: 890.18924, PDAC: 0.01374, Tick: 13696\n"
     ]
    },
    {
     "name": "stderr",
     "output_type": "stream",
     "text": [
      "Simulated annealing progress:  44%|████▍     | 110040/250000 [07:15<10:15, 227.48iteration/s]"
     ]
    },
    {
     "name": "stdout",
     "output_type": "stream",
     "text": [
      "110000: Best Eval: 853.18503, PDAC: 0.01364, Tick: 999\n"
     ]
    },
    {
     "name": "stderr",
     "output_type": "stream",
     "text": [
      "Simulated annealing progress:  46%|████▌     | 115053/250000 [07:34<08:32, 263.15iteration/s]"
     ]
    },
    {
     "name": "stdout",
     "output_type": "stream",
     "text": [
      "115000: Best Eval: 848.12020, PDAC: 0.01368, Tick: 1899\n"
     ]
    },
    {
     "name": "stderr",
     "output_type": "stream",
     "text": [
      "Simulated annealing progress:  48%|████▊     | 120052/250000 [07:54<08:09, 265.26iteration/s]"
     ]
    },
    {
     "name": "stdout",
     "output_type": "stream",
     "text": [
      "120000: Best Eval: 848.12020, PDAC: 0.01368, Tick: 6899\n"
     ]
    },
    {
     "name": "stderr",
     "output_type": "stream",
     "text": [
      "Simulated annealing progress:  50%|█████     | 125045/250000 [08:13<07:59, 260.75iteration/s]"
     ]
    },
    {
     "name": "stdout",
     "output_type": "stream",
     "text": [
      "125000: Best Eval: 848.12020, PDAC: 0.01368, Tick: 11899\n"
     ]
    },
    {
     "name": "stderr",
     "output_type": "stream",
     "text": [
      "Simulated annealing progress:  52%|█████▏    | 130033/250000 [08:32<07:31, 265.76iteration/s]"
     ]
    },
    {
     "name": "stdout",
     "output_type": "stream",
     "text": [
      "130000: Best Eval: 805.15095, PDAC: 0.01338, Tick: 856\n"
     ]
    },
    {
     "name": "stderr",
     "output_type": "stream",
     "text": [
      "Simulated annealing progress:  54%|█████▍    | 135044/250000 [08:52<07:13, 265.42iteration/s]"
     ]
    },
    {
     "name": "stdout",
     "output_type": "stream",
     "text": [
      "135000: Best Eval: 805.15095, PDAC: 0.01338, Tick: 5856\n"
     ]
    },
    {
     "name": "stderr",
     "output_type": "stream",
     "text": [
      "Simulated annealing progress:  56%|█████▌    | 140041/250000 [09:11<07:36, 240.65iteration/s]"
     ]
    },
    {
     "name": "stdout",
     "output_type": "stream",
     "text": [
      "140000: Best Eval: 805.15095, PDAC: 0.01338, Tick: 10856\n"
     ]
    },
    {
     "name": "stderr",
     "output_type": "stream",
     "text": [
      "Simulated annealing progress:  58%|█████▊    | 145042/250000 [09:30<06:38, 263.09iteration/s]"
     ]
    },
    {
     "name": "stdout",
     "output_type": "stream",
     "text": [
      "145000: Best Eval: 790.71169, PDAC: 0.01327, Tick: 719\n"
     ]
    },
    {
     "name": "stderr",
     "output_type": "stream",
     "text": [
      "Simulated annealing progress:  60%|██████    | 150038/250000 [09:50<06:38, 250.84iteration/s]"
     ]
    },
    {
     "name": "stdout",
     "output_type": "stream",
     "text": [
      "150000: Best Eval: 780.70427, PDAC: 0.01337, Tick: 4468\n",
      "Detailed Progress Report, Iteration = 150000\n",
      "   From State    To State   Age 30   Age 75      Min      Max      Avg\n",
      "0     healthy  u_PDAC_loc  0.00632  0.00842  0.00536  0.00868  0.00738\n",
      "1  u_PDAC_loc  u_PDAC_reg  0.00881  0.01011  0.00865  0.01017  0.00931\n",
      "2  u_PDAC_reg  u_PDAC_dis  0.00884  0.01028  0.00877  0.01035  0.00954\n",
      "3  u_PDAC_loc  d_PDAC_loc  0.00012  0.00017  0.00011  0.00020  0.00014\n",
      "4  u_PDAC_reg  d_PDAC_reg  0.00430  0.00358  0.00324  0.00480  0.00375\n",
      "5  u_PDAC_dis  d_PDAC_dis  0.08362  0.09269  0.07428  0.09539  0.08422\n"
     ]
    },
    {
     "name": "stderr",
     "output_type": "stream",
     "text": [
      "Simulated annealing progress:  62%|██████▏   | 155047/250000 [10:09<06:00, 263.62iteration/s]"
     ]
    },
    {
     "name": "stdout",
     "output_type": "stream",
     "text": [
      "155000: Best Eval: 780.70427, PDAC: 0.01337, Tick: 9468\n"
     ]
    },
    {
     "name": "stderr",
     "output_type": "stream",
     "text": [
      "Simulated annealing progress:  64%|██████▍   | 160047/250000 [10:30<05:53, 254.30iteration/s]"
     ]
    },
    {
     "name": "stdout",
     "output_type": "stream",
     "text": [
      "160000: Best Eval: 780.70427, PDAC: 0.01337, Tick: 14468\n"
     ]
    },
    {
     "name": "stderr",
     "output_type": "stream",
     "text": [
      "Simulated annealing progress:  66%|██████▌   | 165025/250000 [10:49<05:54, 239.91iteration/s]"
     ]
    },
    {
     "name": "stdout",
     "output_type": "stream",
     "text": [
      "165000: Best Eval: 780.70427, PDAC: 0.01337, Tick: 19468\n"
     ]
    },
    {
     "name": "stderr",
     "output_type": "stream",
     "text": [
      "Simulated annealing progress:  68%|██████▊   | 170039/250000 [11:08<05:15, 253.75iteration/s]"
     ]
    },
    {
     "name": "stdout",
     "output_type": "stream",
     "text": [
      "170000: Best Eval: 778.06801, PDAC: 0.01329, Tick: 544\n"
     ]
    },
    {
     "name": "stderr",
     "output_type": "stream",
     "text": [
      "Simulated annealing progress:  70%|███████   | 175042/250000 [11:28<04:48, 259.79iteration/s]"
     ]
    },
    {
     "name": "stdout",
     "output_type": "stream",
     "text": [
      "175000: Best Eval: 778.06801, PDAC: 0.01329, Tick: 5544\n"
     ]
    },
    {
     "name": "stderr",
     "output_type": "stream",
     "text": [
      "Simulated annealing progress:  72%|███████▏  | 180041/250000 [11:47<04:35, 253.59iteration/s]"
     ]
    },
    {
     "name": "stdout",
     "output_type": "stream",
     "text": [
      "180000: Best Eval: 763.74635, PDAC: 0.01317, Tick: 4110\n"
     ]
    },
    {
     "name": "stderr",
     "output_type": "stream",
     "text": [
      "Simulated annealing progress:  74%|███████▍  | 185050/250000 [12:07<04:09, 260.37iteration/s]"
     ]
    },
    {
     "name": "stdout",
     "output_type": "stream",
     "text": [
      "185000: Best Eval: 763.74635, PDAC: 0.01317, Tick: 9110\n"
     ]
    },
    {
     "name": "stderr",
     "output_type": "stream",
     "text": [
      "Simulated annealing progress:  76%|███████▌  | 190024/250000 [12:26<03:58, 251.28iteration/s]"
     ]
    },
    {
     "name": "stdout",
     "output_type": "stream",
     "text": [
      "190000: Best Eval: 763.74635, PDAC: 0.01317, Tick: 14110\n"
     ]
    },
    {
     "name": "stderr",
     "output_type": "stream",
     "text": [
      "Simulated annealing progress:  78%|███████▊  | 195051/250000 [12:46<03:28, 263.20iteration/s]"
     ]
    },
    {
     "name": "stdout",
     "output_type": "stream",
     "text": [
      "195000: Best Eval: 742.45504, PDAC: 0.01310, Tick: 758\n"
     ]
    },
    {
     "name": "stderr",
     "output_type": "stream",
     "text": [
      "Simulated annealing progress:  80%|████████  | 200027/250000 [13:05<03:17, 252.42iteration/s]"
     ]
    },
    {
     "name": "stdout",
     "output_type": "stream",
     "text": [
      "200000: Best Eval: 742.45504, PDAC: 0.01310, Tick: 5758\n",
      "Detailed Progress Report, Iteration = 200000\n",
      "   From State    To State   Age 30   Age 75      Min      Max      Avg\n",
      "0     healthy  u_PDAC_loc  0.00574  0.00839  0.00496  0.00847  0.00718\n",
      "1  u_PDAC_loc  u_PDAC_reg  0.00845  0.01054  0.00841  0.01057  0.00941\n",
      "2  u_PDAC_reg  u_PDAC_dis  0.00896  0.01060  0.00886  0.01089  0.00981\n",
      "3  u_PDAC_loc  d_PDAC_loc  0.00012  0.00016  0.00010  0.00017  0.00014\n",
      "4  u_PDAC_reg  d_PDAC_reg  0.00459  0.00365  0.00354  0.00515  0.00396\n",
      "5  u_PDAC_dis  d_PDAC_dis  0.08584  0.09488  0.06846  0.09976  0.08570\n"
     ]
    },
    {
     "name": "stderr",
     "output_type": "stream",
     "text": [
      "Simulated annealing progress:  82%|████████▏ | 205044/250000 [13:26<02:52, 260.58iteration/s]"
     ]
    },
    {
     "name": "stdout",
     "output_type": "stream",
     "text": [
      "205000: Best Eval: 739.94798, PDAC: 0.01306, Tick: 2803\n"
     ]
    },
    {
     "name": "stderr",
     "output_type": "stream",
     "text": [
      "Simulated annealing progress:  84%|████████▍ | 210041/250000 [13:45<02:36, 255.13iteration/s]"
     ]
    },
    {
     "name": "stdout",
     "output_type": "stream",
     "text": [
      "210000: Best Eval: 739.94798, PDAC: 0.01306, Tick: 7803\n"
     ]
    },
    {
     "name": "stderr",
     "output_type": "stream",
     "text": [
      "Simulated annealing progress:  86%|████████▌ | 215043/250000 [14:05<02:14, 260.31iteration/s]"
     ]
    },
    {
     "name": "stdout",
     "output_type": "stream",
     "text": [
      "215000: Best Eval: 739.94798, PDAC: 0.01306, Tick: 12803\n"
     ]
    },
    {
     "name": "stderr",
     "output_type": "stream",
     "text": [
      "Simulated annealing progress:  88%|████████▊ | 220052/250000 [14:24<01:53, 264.49iteration/s]"
     ]
    },
    {
     "name": "stdout",
     "output_type": "stream",
     "text": [
      "220000: Best Eval: 710.60583, PDAC: 0.01310, Tick: 2431\n"
     ]
    },
    {
     "name": "stderr",
     "output_type": "stream",
     "text": [
      "Simulated annealing progress:  90%|█████████ | 225031/250000 [14:44<01:36, 259.99iteration/s]"
     ]
    },
    {
     "name": "stdout",
     "output_type": "stream",
     "text": [
      "225000: Best Eval: 710.60583, PDAC: 0.01310, Tick: 7431\n"
     ]
    },
    {
     "name": "stderr",
     "output_type": "stream",
     "text": [
      "Simulated annealing progress:  92%|█████████▏| 230023/250000 [15:03<01:17, 257.04iteration/s]"
     ]
    },
    {
     "name": "stdout",
     "output_type": "stream",
     "text": [
      "230000: Best Eval: 710.60583, PDAC: 0.01310, Tick: 12431\n"
     ]
    },
    {
     "name": "stderr",
     "output_type": "stream",
     "text": [
      "Simulated annealing progress:  94%|█████████▍| 235057/250000 [15:23<00:56, 262.23iteration/s]"
     ]
    },
    {
     "name": "stdout",
     "output_type": "stream",
     "text": [
      "235000: Best Eval: 710.60583, PDAC: 0.01310, Tick: 17431\n"
     ]
    },
    {
     "name": "stderr",
     "output_type": "stream",
     "text": [
      "Simulated annealing progress:  96%|█████████▌| 240036/250000 [15:42<00:38, 258.56iteration/s]"
     ]
    },
    {
     "name": "stdout",
     "output_type": "stream",
     "text": [
      "240000: Best Eval: 710.60583, PDAC: 0.01310, Tick: 22431\n"
     ]
    },
    {
     "name": "stderr",
     "output_type": "stream",
     "text": [
      "Simulated annealing progress:  98%|█████████▊| 245032/250000 [16:02<00:19, 259.22iteration/s]"
     ]
    },
    {
     "name": "stdout",
     "output_type": "stream",
     "text": [
      "245000: Best Eval: 710.60583, PDAC: 0.01310, Tick: 27431\n"
     ]
    },
    {
     "name": "stderr",
     "output_type": "stream",
     "text": [
      "Simulated annealing progress: 100%|██████████| 250000/250000 [16:21<00:00, 254.60iteration/s]\n"
     ]
    },
    {
     "name": "stdout",
     "output_type": "stream",
     "text": [
      "Best evaluation: 710.6058312625642\n",
      "Done.\n",
      "EPOCH 2/5 ----------------------------------------------------------\n",
      "Initial score: 710.60583\n",
      "Starting calibration...\n"
     ]
    },
    {
     "name": "stderr",
     "output_type": "stream",
     "text": [
      "Simulated annealing progress:   2%|▏         | 5033/250000 [00:20<15:47, 258.53iteration/s]"
     ]
    },
    {
     "name": "stdout",
     "output_type": "stream",
     "text": [
      "5000: Best Eval: 706.84043, PDAC: 0.01307, Tick: 1527\n"
     ]
    },
    {
     "name": "stderr",
     "output_type": "stream",
     "text": [
      "Simulated annealing progress:   4%|▍         | 10040/250000 [00:39<15:11, 263.25iteration/s]"
     ]
    },
    {
     "name": "stdout",
     "output_type": "stream",
     "text": [
      "10000: Best Eval: 676.41539, PDAC: 0.01304, Tick: 2499\n"
     ]
    },
    {
     "name": "stderr",
     "output_type": "stream",
     "text": [
      "Simulated annealing progress:   6%|▌         | 15048/250000 [00:58<14:45, 265.46iteration/s]"
     ]
    },
    {
     "name": "stdout",
     "output_type": "stream",
     "text": [
      "15000: Best Eval: 676.41539, PDAC: 0.01304, Tick: 7499\n"
     ]
    },
    {
     "name": "stderr",
     "output_type": "stream",
     "text": [
      "Simulated annealing progress:   8%|▊         | 20051/250000 [01:18<16:43, 229.17iteration/s]"
     ]
    },
    {
     "name": "stdout",
     "output_type": "stream",
     "text": [
      "20000: Best Eval: 676.41539, PDAC: 0.01304, Tick: 12499\n"
     ]
    },
    {
     "name": "stderr",
     "output_type": "stream",
     "text": [
      "Simulated annealing progress:  10%|█         | 25043/250000 [01:38<14:21, 261.02iteration/s]"
     ]
    },
    {
     "name": "stdout",
     "output_type": "stream",
     "text": [
      "25000: Best Eval: 622.24470, PDAC: 0.01291, Tick: 1773\n"
     ]
    },
    {
     "name": "stderr",
     "output_type": "stream",
     "text": [
      "Simulated annealing progress:  12%|█▏        | 30047/250000 [01:58<14:00, 261.73iteration/s]"
     ]
    },
    {
     "name": "stdout",
     "output_type": "stream",
     "text": [
      "30000: Best Eval: 622.24470, PDAC: 0.01291, Tick: 6773\n"
     ]
    },
    {
     "name": "stderr",
     "output_type": "stream",
     "text": [
      "Simulated annealing progress:  14%|█▍        | 35050/250000 [02:17<13:44, 260.82iteration/s]"
     ]
    },
    {
     "name": "stdout",
     "output_type": "stream",
     "text": [
      "35000: Best Eval: 610.71486, PDAC: 0.01277, Tick: 4533\n"
     ]
    },
    {
     "name": "stderr",
     "output_type": "stream",
     "text": [
      "Simulated annealing progress:  16%|█▌        | 40047/250000 [02:37<13:25, 260.58iteration/s]"
     ]
    },
    {
     "name": "stdout",
     "output_type": "stream",
     "text": [
      "40000: Best Eval: 610.71486, PDAC: 0.01277, Tick: 9533\n"
     ]
    },
    {
     "name": "stderr",
     "output_type": "stream",
     "text": [
      "Simulated annealing progress:  18%|█▊        | 45029/250000 [02:56<13:22, 255.47iteration/s]"
     ]
    },
    {
     "name": "stdout",
     "output_type": "stream",
     "text": [
      "45000: Best Eval: 610.71486, PDAC: 0.01277, Tick: 14533\n"
     ]
    },
    {
     "name": "stderr",
     "output_type": "stream",
     "text": [
      "Simulated annealing progress:  20%|██        | 50039/250000 [03:16<13:25, 248.17iteration/s]"
     ]
    },
    {
     "name": "stdout",
     "output_type": "stream",
     "text": [
      "50000: Best Eval: 601.11980, PDAC: 0.01245, Tick: 1871\n",
      "Detailed Progress Report, Iteration = 50000\n",
      "   From State    To State   Age 30   Age 75      Min      Max      Avg\n",
      "0     healthy  u_PDAC_loc  0.00439  0.00804  0.00231  0.00809  0.00654\n",
      "1  u_PDAC_loc  u_PDAC_reg  0.00636  0.01140  0.00584  0.01183  0.00930\n",
      "2  u_PDAC_reg  u_PDAC_dis  0.00980  0.01176  0.00951  0.01255  0.01079\n",
      "3  u_PDAC_loc  d_PDAC_loc  0.00011  0.00016  0.00010  0.00019  0.00012\n",
      "4  u_PDAC_reg  d_PDAC_reg  0.00751  0.00421  0.00401  0.00918  0.00539\n",
      "5  u_PDAC_dis  d_PDAC_dis  0.09960  0.10678  0.07738  0.12424  0.10279\n"
     ]
    },
    {
     "name": "stderr",
     "output_type": "stream",
     "text": [
      "Simulated annealing progress:  22%|██▏       | 55048/250000 [03:36<13:03, 248.74iteration/s]"
     ]
    },
    {
     "name": "stdout",
     "output_type": "stream",
     "text": [
      "55000: Best Eval: 599.48464, PDAC: 0.01251, Tick: 1018\n"
     ]
    },
    {
     "name": "stderr",
     "output_type": "stream",
     "text": [
      "Simulated annealing progress:  24%|██▍       | 60046/250000 [03:55<12:08, 260.87iteration/s]"
     ]
    },
    {
     "name": "stdout",
     "output_type": "stream",
     "text": [
      "60000: Best Eval: 587.60866, PDAC: 0.01235, Tick: 3134\n"
     ]
    },
    {
     "name": "stderr",
     "output_type": "stream",
     "text": [
      "Simulated annealing progress:  26%|██▌       | 65024/250000 [04:15<11:57, 257.71iteration/s]"
     ]
    },
    {
     "name": "stdout",
     "output_type": "stream",
     "text": [
      "65000: Best Eval: 587.60866, PDAC: 0.01235, Tick: 8134\n"
     ]
    },
    {
     "name": "stderr",
     "output_type": "stream",
     "text": [
      "Simulated annealing progress:  28%|██▊       | 70053/250000 [04:35<11:25, 262.36iteration/s]"
     ]
    },
    {
     "name": "stdout",
     "output_type": "stream",
     "text": [
      "70000: Best Eval: 587.60866, PDAC: 0.01235, Tick: 13134\n"
     ]
    },
    {
     "name": "stderr",
     "output_type": "stream",
     "text": [
      "Simulated annealing progress:  30%|███       | 75054/250000 [04:54<11:10, 260.77iteration/s]"
     ]
    },
    {
     "name": "stdout",
     "output_type": "stream",
     "text": [
      "75000: Best Eval: 587.60866, PDAC: 0.01235, Tick: 18134\n"
     ]
    },
    {
     "name": "stderr",
     "output_type": "stream",
     "text": [
      "Simulated annealing progress:  32%|███▏      | 80054/250000 [05:14<10:53, 260.07iteration/s]"
     ]
    },
    {
     "name": "stdout",
     "output_type": "stream",
     "text": [
      "80000: Best Eval: 587.60866, PDAC: 0.01235, Tick: 23134\n"
     ]
    },
    {
     "name": "stderr",
     "output_type": "stream",
     "text": [
      "Simulated annealing progress:  34%|███▍      | 85046/250000 [05:33<10:38, 258.34iteration/s]"
     ]
    },
    {
     "name": "stdout",
     "output_type": "stream",
     "text": [
      "85000: Best Eval: 587.60866, PDAC: 0.01235, Tick: 28134\n"
     ]
    },
    {
     "name": "stderr",
     "output_type": "stream",
     "text": [
      "Simulated annealing progress:  36%|███▌      | 90029/250000 [05:53<10:13, 260.72iteration/s]"
     ]
    },
    {
     "name": "stdout",
     "output_type": "stream",
     "text": [
      "90000: Best Eval: 494.90692, PDAC: 0.01211, Tick: 2181\n"
     ]
    },
    {
     "name": "stderr",
     "output_type": "stream",
     "text": [
      "Simulated annealing progress:  38%|███▊      | 95026/250000 [06:13<09:54, 260.56iteration/s]"
     ]
    },
    {
     "name": "stdout",
     "output_type": "stream",
     "text": [
      "95000: Best Eval: 494.90692, PDAC: 0.01211, Tick: 7181\n"
     ]
    },
    {
     "name": "stderr",
     "output_type": "stream",
     "text": [
      "Simulated annealing progress:  40%|████      | 100040/250000 [06:32<09:58, 250.52iteration/s]"
     ]
    },
    {
     "name": "stdout",
     "output_type": "stream",
     "text": [
      "100000: Best Eval: 494.90692, PDAC: 0.01211, Tick: 12181\n",
      "Detailed Progress Report, Iteration = 100000\n",
      "   From State    To State   Age 30   Age 75      Min      Max      Avg\n",
      "0     healthy  u_PDAC_loc  0.00372  0.00849  0.00146  0.00871  0.00654\n",
      "1  u_PDAC_loc  u_PDAC_reg  0.00594  0.01111  0.00471  0.01191  0.00911\n",
      "2  u_PDAC_reg  u_PDAC_dis  0.01041  0.01194  0.01033  0.01232  0.01126\n",
      "3  u_PDAC_loc  d_PDAC_loc  0.00011  0.00017  0.00010  0.00025  0.00013\n",
      "4  u_PDAC_reg  d_PDAC_reg  0.00833  0.00434  0.00423  0.01065  0.00587\n",
      "5  u_PDAC_dis  d_PDAC_dis  0.10277  0.12705  0.08066  0.14286  0.11124\n"
     ]
    },
    {
     "name": "stderr",
     "output_type": "stream",
     "text": [
      "Simulated annealing progress:  42%|████▏     | 105041/250000 [06:52<09:12, 262.40iteration/s]"
     ]
    },
    {
     "name": "stdout",
     "output_type": "stream",
     "text": [
      "105000: Best Eval: 449.43881, PDAC: 0.01212, Tick: 1078\n"
     ]
    },
    {
     "name": "stderr",
     "output_type": "stream",
     "text": [
      "Simulated annealing progress:  44%|████▍     | 110053/250000 [07:11<08:49, 264.16iteration/s]"
     ]
    },
    {
     "name": "stdout",
     "output_type": "stream",
     "text": [
      "110000: Best Eval: 449.43881, PDAC: 0.01212, Tick: 6078\n"
     ]
    },
    {
     "name": "stderr",
     "output_type": "stream",
     "text": [
      "Simulated annealing progress:  46%|████▌     | 115057/250000 [07:31<08:43, 257.89iteration/s]"
     ]
    },
    {
     "name": "stdout",
     "output_type": "stream",
     "text": [
      "115000: Best Eval: 449.43881, PDAC: 0.01212, Tick: 11078\n"
     ]
    },
    {
     "name": "stderr",
     "output_type": "stream",
     "text": [
      "Simulated annealing progress:  48%|████▊     | 120049/250000 [07:50<08:16, 261.56iteration/s]"
     ]
    },
    {
     "name": "stdout",
     "output_type": "stream",
     "text": [
      "120000: Best Eval: 449.43881, PDAC: 0.01212, Tick: 16078\n"
     ]
    },
    {
     "name": "stderr",
     "output_type": "stream",
     "text": [
      "Simulated annealing progress:  50%|█████     | 125031/250000 [08:10<08:06, 256.86iteration/s]"
     ]
    },
    {
     "name": "stdout",
     "output_type": "stream",
     "text": [
      "125000: Best Eval: 400.77155, PDAC: 0.01217, Tick: 3655\n"
     ]
    },
    {
     "name": "stderr",
     "output_type": "stream",
     "text": [
      "Simulated annealing progress:  52%|█████▏    | 130026/250000 [08:29<07:41, 259.73iteration/s]"
     ]
    },
    {
     "name": "stdout",
     "output_type": "stream",
     "text": [
      "130000: Best Eval: 400.77155, PDAC: 0.01217, Tick: 8655\n"
     ]
    },
    {
     "name": "stderr",
     "output_type": "stream",
     "text": [
      "Simulated annealing progress:  54%|█████▍    | 135037/250000 [08:49<07:24, 258.79iteration/s]"
     ]
    },
    {
     "name": "stdout",
     "output_type": "stream",
     "text": [
      "135000: Best Eval: 400.77155, PDAC: 0.01217, Tick: 13655\n"
     ]
    },
    {
     "name": "stderr",
     "output_type": "stream",
     "text": [
      "Simulated annealing progress:  56%|█████▌    | 140049/250000 [09:09<07:16, 251.74iteration/s]"
     ]
    },
    {
     "name": "stdout",
     "output_type": "stream",
     "text": [
      "140000: Best Eval: 400.77155, PDAC: 0.01217, Tick: 18655\n"
     ]
    },
    {
     "name": "stderr",
     "output_type": "stream",
     "text": [
      "Simulated annealing progress:  58%|█████▊    | 145051/250000 [09:29<06:49, 256.07iteration/s]"
     ]
    },
    {
     "name": "stdout",
     "output_type": "stream",
     "text": [
      "145000: Best Eval: 400.77155, PDAC: 0.01217, Tick: 23655\n"
     ]
    },
    {
     "name": "stderr",
     "output_type": "stream",
     "text": [
      "Simulated annealing progress:  60%|██████    | 150034/250000 [09:48<06:38, 250.88iteration/s]"
     ]
    },
    {
     "name": "stdout",
     "output_type": "stream",
     "text": [
      "150000: Best Eval: 400.77155, PDAC: 0.01217, Tick: 28655\n",
      "Detailed Progress Report, Iteration = 150000\n",
      "   From State    To State   Age 30   Age 75      Min      Max      Avg\n",
      "0     healthy  u_PDAC_loc  0.00325  0.00928  0.00045  0.00928  0.00666\n",
      "1  u_PDAC_loc  u_PDAC_reg  0.00528  0.01137  0.00352  0.01235  0.00901\n",
      "2  u_PDAC_reg  u_PDAC_dis  0.01094  0.01209  0.00929  0.01342  0.01176\n",
      "3  u_PDAC_loc  d_PDAC_loc  0.00010  0.00019  0.00009  0.00032  0.00013\n",
      "4  u_PDAC_reg  d_PDAC_reg  0.00937  0.00452  0.00451  0.01255  0.00643\n",
      "5  u_PDAC_dis  d_PDAC_dis  0.10363  0.13568  0.09599  0.14839  0.11772\n"
     ]
    },
    {
     "name": "stderr",
     "output_type": "stream",
     "text": [
      "Simulated annealing progress:  62%|██████▏   | 155048/250000 [10:08<06:07, 258.53iteration/s]"
     ]
    },
    {
     "name": "stdout",
     "output_type": "stream",
     "text": [
      "155000: Best Eval: 400.77155, PDAC: 0.01217, Tick: 33655\n"
     ]
    },
    {
     "name": "stderr",
     "output_type": "stream",
     "text": [
      "Simulated annealing progress:  64%|██████▍   | 160042/250000 [10:27<05:50, 256.33iteration/s]"
     ]
    },
    {
     "name": "stdout",
     "output_type": "stream",
     "text": [
      "160000: Best Eval: 400.77155, PDAC: 0.01217, Tick: 38655\n"
     ]
    },
    {
     "name": "stderr",
     "output_type": "stream",
     "text": [
      "Simulated annealing progress:  66%|██████▌   | 165047/250000 [10:50<05:29, 257.57iteration/s]"
     ]
    },
    {
     "name": "stdout",
     "output_type": "stream",
     "text": [
      "165000: Best Eval: 400.77155, PDAC: 0.01217, Tick: 43655\n"
     ]
    },
    {
     "name": "stderr",
     "output_type": "stream",
     "text": [
      "Simulated annealing progress:  68%|██████▊   | 170054/250000 [11:09<05:05, 261.61iteration/s]"
     ]
    },
    {
     "name": "stdout",
     "output_type": "stream",
     "text": [
      "170000: Best Eval: 400.77155, PDAC: 0.01217, Tick: 48655\n"
     ]
    },
    {
     "name": "stderr",
     "output_type": "stream",
     "text": [
      "Simulated annealing progress:  70%|███████   | 175052/250000 [11:29<04:47, 261.08iteration/s]"
     ]
    },
    {
     "name": "stdout",
     "output_type": "stream",
     "text": [
      "175000: Best Eval: 400.77155, PDAC: 0.01217, Tick: 53655\n"
     ]
    },
    {
     "name": "stderr",
     "output_type": "stream",
     "text": [
      "Simulated annealing progress:  72%|███████▏  | 180045/250000 [11:48<04:28, 260.58iteration/s]"
     ]
    },
    {
     "name": "stdout",
     "output_type": "stream",
     "text": [
      "180000: Best Eval: 400.77155, PDAC: 0.01217, Tick: 58655\n"
     ]
    },
    {
     "name": "stderr",
     "output_type": "stream",
     "text": [
      "Simulated annealing progress:  74%|███████▍  | 185039/250000 [12:08<04:18, 251.34iteration/s]"
     ]
    },
    {
     "name": "stdout",
     "output_type": "stream",
     "text": [
      "185000: Best Eval: 400.77155, PDAC: 0.01217, Tick: 63655\n"
     ]
    },
    {
     "name": "stderr",
     "output_type": "stream",
     "text": [
      "Simulated annealing progress:  76%|███████▌  | 190043/250000 [12:28<03:49, 261.18iteration/s]"
     ]
    },
    {
     "name": "stdout",
     "output_type": "stream",
     "text": [
      "190000: Best Eval: 400.77155, PDAC: 0.01217, Tick: 68655\n"
     ]
    },
    {
     "name": "stderr",
     "output_type": "stream",
     "text": [
      "Simulated annealing progress:  78%|███████▊  | 195036/250000 [12:47<03:37, 252.57iteration/s]"
     ]
    },
    {
     "name": "stdout",
     "output_type": "stream",
     "text": [
      "195000: Best Eval: 400.77155, PDAC: 0.01217, Tick: 73655\n"
     ]
    },
    {
     "name": "stderr",
     "output_type": "stream",
     "text": [
      "Simulated annealing progress:  80%|████████  | 200049/250000 [13:07<03:19, 250.81iteration/s]"
     ]
    },
    {
     "name": "stdout",
     "output_type": "stream",
     "text": [
      "200000: Best Eval: 400.77155, PDAC: 0.01217, Tick: 78655\n",
      "Detailed Progress Report, Iteration = 200000\n",
      "   From State    To State   Age 30   Age 75      Min      Max      Avg\n",
      "0     healthy  u_PDAC_loc  0.00325  0.00928  0.00045  0.00928  0.00666\n",
      "1  u_PDAC_loc  u_PDAC_reg  0.00528  0.01137  0.00352  0.01235  0.00901\n",
      "2  u_PDAC_reg  u_PDAC_dis  0.01094  0.01209  0.00929  0.01342  0.01176\n",
      "3  u_PDAC_loc  d_PDAC_loc  0.00010  0.00019  0.00009  0.00032  0.00013\n",
      "4  u_PDAC_reg  d_PDAC_reg  0.00937  0.00452  0.00451  0.01255  0.00643\n",
      "5  u_PDAC_dis  d_PDAC_dis  0.10363  0.13568  0.09599  0.14839  0.11772\n"
     ]
    },
    {
     "name": "stderr",
     "output_type": "stream",
     "text": [
      "Simulated annealing progress:  82%|████████▏ | 205038/250000 [13:26<02:54, 257.74iteration/s]"
     ]
    },
    {
     "name": "stdout",
     "output_type": "stream",
     "text": [
      "205000: Best Eval: 400.77155, PDAC: 0.01217, Tick: 83655\n"
     ]
    },
    {
     "name": "stderr",
     "output_type": "stream",
     "text": [
      "Simulated annealing progress:  84%|████████▍ | 210047/250000 [13:46<02:35, 257.07iteration/s]"
     ]
    },
    {
     "name": "stdout",
     "output_type": "stream",
     "text": [
      "210000: Best Eval: 400.77155, PDAC: 0.01217, Tick: 88655\n"
     ]
    },
    {
     "name": "stderr",
     "output_type": "stream",
     "text": [
      "Simulated annealing progress:  86%|████████▌ | 215050/250000 [14:05<02:15, 258.50iteration/s]"
     ]
    },
    {
     "name": "stdout",
     "output_type": "stream",
     "text": [
      "215000: Best Eval: 400.77155, PDAC: 0.01217, Tick: 93655\n"
     ]
    },
    {
     "name": "stderr",
     "output_type": "stream",
     "text": [
      "Simulated annealing progress:  88%|████████▊ | 220031/250000 [14:25<01:55, 259.41iteration/s]"
     ]
    },
    {
     "name": "stdout",
     "output_type": "stream",
     "text": [
      "220000: Best Eval: 400.77155, PDAC: 0.01217, Tick: 98655\n"
     ]
    },
    {
     "name": "stderr",
     "output_type": "stream",
     "text": [
      "Simulated annealing progress:  90%|█████████ | 225054/250000 [14:44<01:34, 264.33iteration/s]"
     ]
    },
    {
     "name": "stdout",
     "output_type": "stream",
     "text": [
      "225000: Best Eval: 400.77155, PDAC: 0.01217, Tick: 103655\n"
     ]
    },
    {
     "name": "stderr",
     "output_type": "stream",
     "text": [
      "Simulated annealing progress:  92%|█████████▏| 230054/250000 [15:04<01:17, 255.84iteration/s]"
     ]
    },
    {
     "name": "stdout",
     "output_type": "stream",
     "text": [
      "230000: Best Eval: 400.77155, PDAC: 0.01217, Tick: 108655\n"
     ]
    },
    {
     "name": "stderr",
     "output_type": "stream",
     "text": [
      "Simulated annealing progress:  94%|█████████▍| 235040/250000 [15:24<00:56, 263.30iteration/s]"
     ]
    },
    {
     "name": "stdout",
     "output_type": "stream",
     "text": [
      "235000: Best Eval: 400.77155, PDAC: 0.01217, Tick: 113655\n"
     ]
    },
    {
     "name": "stderr",
     "output_type": "stream",
     "text": [
      "Simulated annealing progress:  96%|█████████▌| 240048/250000 [15:44<00:38, 257.91iteration/s]"
     ]
    },
    {
     "name": "stdout",
     "output_type": "stream",
     "text": [
      "240000: Best Eval: 400.77155, PDAC: 0.01217, Tick: 118655\n"
     ]
    },
    {
     "name": "stderr",
     "output_type": "stream",
     "text": [
      "Simulated annealing progress:  98%|█████████▊| 245038/250000 [16:03<00:19, 260.97iteration/s]"
     ]
    },
    {
     "name": "stdout",
     "output_type": "stream",
     "text": [
      "245000: Best Eval: 400.77155, PDAC: 0.01217, Tick: 123655\n"
     ]
    },
    {
     "name": "stderr",
     "output_type": "stream",
     "text": [
      "Simulated annealing progress: 100%|██████████| 250000/250000 [16:23<00:00, 254.26iteration/s]\n"
     ]
    },
    {
     "name": "stdout",
     "output_type": "stream",
     "text": [
      "Best evaluation: 400.77154658756854\n",
      "Done.\n",
      "EPOCH 3/5 ----------------------------------------------------------\n",
      "Initial score: 400.77155\n",
      "Starting calibration...\n"
     ]
    },
    {
     "name": "stderr",
     "output_type": "stream",
     "text": [
      "Simulated annealing progress:   2%|▏         | 5043/250000 [00:20<15:26, 264.28iteration/s]"
     ]
    },
    {
     "name": "stdout",
     "output_type": "stream",
     "text": [
      "5000: Best Eval: 400.77155, PDAC: 0.01217, Tick: 5001\n"
     ]
    },
    {
     "name": "stderr",
     "output_type": "stream",
     "text": [
      "Simulated annealing progress:   4%|▍         | 10031/250000 [00:39<15:19, 260.85iteration/s]"
     ]
    },
    {
     "name": "stdout",
     "output_type": "stream",
     "text": [
      "10000: Best Eval: 400.77155, PDAC: 0.01217, Tick: 10001\n"
     ]
    },
    {
     "name": "stderr",
     "output_type": "stream",
     "text": [
      "Simulated annealing progress:   6%|▌         | 15044/250000 [00:59<15:26, 253.48iteration/s]"
     ]
    },
    {
     "name": "stdout",
     "output_type": "stream",
     "text": [
      "15000: Best Eval: 400.77155, PDAC: 0.01217, Tick: 15001\n"
     ]
    },
    {
     "name": "stderr",
     "output_type": "stream",
     "text": [
      "Simulated annealing progress:   8%|▊         | 20038/250000 [01:18<15:14, 251.56iteration/s]"
     ]
    },
    {
     "name": "stdout",
     "output_type": "stream",
     "text": [
      "20000: Best Eval: 392.15382, PDAC: 0.01210, Tick: 4791\n"
     ]
    },
    {
     "name": "stderr",
     "output_type": "stream",
     "text": [
      "Simulated annealing progress:  10%|█         | 25044/250000 [01:38<14:05, 265.98iteration/s]"
     ]
    },
    {
     "name": "stdout",
     "output_type": "stream",
     "text": [
      "25000: Best Eval: 392.15382, PDAC: 0.01210, Tick: 9791\n"
     ]
    },
    {
     "name": "stderr",
     "output_type": "stream",
     "text": [
      "Simulated annealing progress:  12%|█▏        | 30048/250000 [01:57<14:17, 256.65iteration/s]"
     ]
    },
    {
     "name": "stdout",
     "output_type": "stream",
     "text": [
      "30000: Best Eval: 392.15382, PDAC: 0.01210, Tick: 14791\n"
     ]
    },
    {
     "name": "stderr",
     "output_type": "stream",
     "text": [
      "Simulated annealing progress:  14%|█▍        | 35046/250000 [02:17<13:37, 263.08iteration/s]"
     ]
    },
    {
     "name": "stdout",
     "output_type": "stream",
     "text": [
      "35000: Best Eval: 369.48788, PDAC: 0.01166, Tick: 1584\n"
     ]
    },
    {
     "name": "stderr",
     "output_type": "stream",
     "text": [
      "Simulated annealing progress:  16%|█▌        | 40038/250000 [02:36<13:18, 263.05iteration/s]"
     ]
    },
    {
     "name": "stdout",
     "output_type": "stream",
     "text": [
      "40000: Best Eval: 369.48788, PDAC: 0.01166, Tick: 6584\n"
     ]
    },
    {
     "name": "stderr",
     "output_type": "stream",
     "text": [
      "Simulated annealing progress:  18%|█▊        | 45030/250000 [02:56<13:26, 254.08iteration/s]"
     ]
    },
    {
     "name": "stdout",
     "output_type": "stream",
     "text": [
      "45000: Best Eval: 369.48788, PDAC: 0.01166, Tick: 11584\n"
     ]
    },
    {
     "name": "stderr",
     "output_type": "stream",
     "text": [
      "Simulated annealing progress:  20%|██        | 50058/250000 [03:15<12:51, 259.10iteration/s]"
     ]
    },
    {
     "name": "stdout",
     "output_type": "stream",
     "text": [
      "50000: Best Eval: 369.48788, PDAC: 0.01166, Tick: 16584\n",
      "Detailed Progress Report, Iteration = 50000\n",
      "   From State    To State   Age 30   Age 75      Min      Max      Avg\n",
      "0     healthy  u_PDAC_loc  0.00220  0.00918  0.00000  0.00935  0.00633\n",
      "1  u_PDAC_loc  u_PDAC_reg  0.00417  0.01000  0.00050  0.01126  0.00809\n",
      "2  u_PDAC_reg  u_PDAC_dis  0.01132  0.01367  0.01026  0.01666  0.01369\n",
      "3  u_PDAC_loc  d_PDAC_loc  0.00009  0.00019  0.00007  0.00034  0.00012\n",
      "4  u_PDAC_reg  d_PDAC_reg  0.01379  0.00540  0.00469  0.01686  0.00833\n",
      "5  u_PDAC_dis  d_PDAC_dis  0.11383  0.15318  0.10512  0.16593  0.12770\n"
     ]
    },
    {
     "name": "stderr",
     "output_type": "stream",
     "text": [
      "Simulated annealing progress:  22%|██▏       | 55040/250000 [03:35<12:23, 262.36iteration/s]"
     ]
    },
    {
     "name": "stdout",
     "output_type": "stream",
     "text": [
      "55000: Best Eval: 369.48788, PDAC: 0.01166, Tick: 21584\n"
     ]
    },
    {
     "name": "stderr",
     "output_type": "stream",
     "text": [
      "Simulated annealing progress:  24%|██▍       | 60056/250000 [03:54<12:05, 261.66iteration/s]"
     ]
    },
    {
     "name": "stdout",
     "output_type": "stream",
     "text": [
      "60000: Best Eval: 369.48788, PDAC: 0.01166, Tick: 26584\n"
     ]
    },
    {
     "name": "stderr",
     "output_type": "stream",
     "text": [
      "Simulated annealing progress:  26%|██▌       | 65033/250000 [04:14<12:04, 255.42iteration/s]"
     ]
    },
    {
     "name": "stdout",
     "output_type": "stream",
     "text": [
      "65000: Best Eval: 340.85080, PDAC: 0.01165, Tick: 187\n"
     ]
    },
    {
     "name": "stderr",
     "output_type": "stream",
     "text": [
      "Simulated annealing progress:  28%|██▊       | 70051/250000 [04:33<11:29, 261.15iteration/s]"
     ]
    },
    {
     "name": "stdout",
     "output_type": "stream",
     "text": [
      "70000: Best Eval: 340.85080, PDAC: 0.01165, Tick: 5187\n"
     ]
    },
    {
     "name": "stderr",
     "output_type": "stream",
     "text": [
      "Simulated annealing progress:  30%|███       | 75029/250000 [04:52<11:52, 245.61iteration/s]"
     ]
    },
    {
     "name": "stdout",
     "output_type": "stream",
     "text": [
      "75000: Best Eval: 340.85080, PDAC: 0.01165, Tick: 10187\n"
     ]
    },
    {
     "name": "stderr",
     "output_type": "stream",
     "text": [
      "Simulated annealing progress:  32%|███▏      | 80041/250000 [05:13<11:02, 256.72iteration/s]"
     ]
    },
    {
     "name": "stdout",
     "output_type": "stream",
     "text": [
      "80000: Best Eval: 340.85080, PDAC: 0.01165, Tick: 15187\n"
     ]
    },
    {
     "name": "stderr",
     "output_type": "stream",
     "text": [
      "Simulated annealing progress:  34%|███▍      | 85033/250000 [05:32<10:22, 265.07iteration/s]"
     ]
    },
    {
     "name": "stdout",
     "output_type": "stream",
     "text": [
      "85000: Best Eval: 338.51832, PDAC: 0.01188, Tick: 2009\n"
     ]
    },
    {
     "name": "stderr",
     "output_type": "stream",
     "text": [
      "Simulated annealing progress:  36%|███▌      | 90029/250000 [05:51<10:07, 263.14iteration/s]"
     ]
    },
    {
     "name": "stdout",
     "output_type": "stream",
     "text": [
      "90000: Best Eval: 338.51832, PDAC: 0.01188, Tick: 7009\n"
     ]
    },
    {
     "name": "stderr",
     "output_type": "stream",
     "text": [
      "Simulated annealing progress:  38%|███▊      | 95036/250000 [06:11<10:34, 244.13iteration/s]"
     ]
    },
    {
     "name": "stdout",
     "output_type": "stream",
     "text": [
      "95000: Best Eval: 338.51832, PDAC: 0.01188, Tick: 12009\n"
     ]
    },
    {
     "name": "stderr",
     "output_type": "stream",
     "text": [
      "Simulated annealing progress:  40%|████      | 100034/250000 [06:30<09:53, 252.74iteration/s]"
     ]
    },
    {
     "name": "stdout",
     "output_type": "stream",
     "text": [
      "100000: Best Eval: 338.51832, PDAC: 0.01188, Tick: 17009\n",
      "Detailed Progress Report, Iteration = 100000\n",
      "   From State    To State   Age 30   Age 75      Min      Max      Avg\n",
      "0     healthy  u_PDAC_loc  0.00183  0.00945  0.00000  0.00967  0.00652\n",
      "1  u_PDAC_loc  u_PDAC_reg  0.00183  0.00990  0.00000  0.01006  0.00668\n",
      "2  u_PDAC_reg  u_PDAC_dis  0.00962  0.01662  0.00452  0.02176  0.01591\n",
      "3  u_PDAC_loc  d_PDAC_loc  0.00011  0.00020  0.00006  0.00034  0.00012\n",
      "4  u_PDAC_reg  d_PDAC_reg  0.02346  0.00646  0.00581  0.03338  0.01328\n",
      "5  u_PDAC_dis  d_PDAC_dis  0.13281  0.16225  0.10263  0.18347  0.14726\n"
     ]
    },
    {
     "name": "stderr",
     "output_type": "stream",
     "text": [
      "Simulated annealing progress:  42%|████▏     | 105033/250000 [06:49<09:04, 266.06iteration/s]"
     ]
    },
    {
     "name": "stdout",
     "output_type": "stream",
     "text": [
      "105000: Best Eval: 338.51832, PDAC: 0.01188, Tick: 22009\n"
     ]
    },
    {
     "name": "stderr",
     "output_type": "stream",
     "text": [
      "Simulated annealing progress:  44%|████▍     | 110031/250000 [07:09<08:47, 265.28iteration/s]"
     ]
    },
    {
     "name": "stdout",
     "output_type": "stream",
     "text": [
      "110000: Best Eval: 338.51832, PDAC: 0.01188, Tick: 27009\n"
     ]
    },
    {
     "name": "stderr",
     "output_type": "stream",
     "text": [
      "Simulated annealing progress:  46%|████▌     | 115045/250000 [07:29<08:37, 260.77iteration/s]"
     ]
    },
    {
     "name": "stdout",
     "output_type": "stream",
     "text": [
      "115000: Best Eval: 338.51832, PDAC: 0.01188, Tick: 32009\n"
     ]
    },
    {
     "name": "stderr",
     "output_type": "stream",
     "text": [
      "Simulated annealing progress:  48%|████▊     | 120032/250000 [07:49<08:25, 257.33iteration/s]"
     ]
    },
    {
     "name": "stdout",
     "output_type": "stream",
     "text": [
      "120000: Best Eval: 338.51832, PDAC: 0.01188, Tick: 37009\n"
     ]
    },
    {
     "name": "stderr",
     "output_type": "stream",
     "text": [
      "Simulated annealing progress:  50%|█████     | 125044/250000 [08:10<08:04, 258.06iteration/s]"
     ]
    },
    {
     "name": "stdout",
     "output_type": "stream",
     "text": [
      "125000: Best Eval: 338.51832, PDAC: 0.01188, Tick: 42009\n"
     ]
    },
    {
     "name": "stderr",
     "output_type": "stream",
     "text": [
      "Simulated annealing progress:  52%|█████▏    | 130031/250000 [08:29<07:40, 260.53iteration/s]"
     ]
    },
    {
     "name": "stdout",
     "output_type": "stream",
     "text": [
      "130000: Best Eval: 338.51832, PDAC: 0.01188, Tick: 47009\n"
     ]
    },
    {
     "name": "stderr",
     "output_type": "stream",
     "text": [
      "Simulated annealing progress:  54%|█████▍    | 135051/250000 [08:48<07:14, 264.27iteration/s]"
     ]
    },
    {
     "name": "stdout",
     "output_type": "stream",
     "text": [
      "135000: Best Eval: 338.51832, PDAC: 0.01188, Tick: 52009\n"
     ]
    },
    {
     "name": "stderr",
     "output_type": "stream",
     "text": [
      "Simulated annealing progress:  56%|█████▌    | 140026/250000 [09:08<07:00, 261.61iteration/s]"
     ]
    },
    {
     "name": "stdout",
     "output_type": "stream",
     "text": [
      "140000: Best Eval: 338.51832, PDAC: 0.01188, Tick: 57009\n"
     ]
    },
    {
     "name": "stderr",
     "output_type": "stream",
     "text": [
      "Simulated annealing progress:  58%|█████▊    | 145039/250000 [09:27<06:51, 254.87iteration/s]"
     ]
    },
    {
     "name": "stdout",
     "output_type": "stream",
     "text": [
      "145000: Best Eval: 338.51832, PDAC: 0.01188, Tick: 62009\n"
     ]
    },
    {
     "name": "stderr",
     "output_type": "stream",
     "text": [
      "Simulated annealing progress:  60%|██████    | 150037/250000 [09:47<06:36, 251.85iteration/s]"
     ]
    },
    {
     "name": "stdout",
     "output_type": "stream",
     "text": [
      "150000: Best Eval: 338.51832, PDAC: 0.01188, Tick: 67009\n",
      "Detailed Progress Report, Iteration = 150000\n",
      "   From State    To State   Age 30   Age 75      Min      Max      Avg\n",
      "0     healthy  u_PDAC_loc  0.00183  0.00945  0.00000  0.00967  0.00652\n",
      "1  u_PDAC_loc  u_PDAC_reg  0.00183  0.00990  0.00000  0.01006  0.00668\n",
      "2  u_PDAC_reg  u_PDAC_dis  0.00962  0.01662  0.00452  0.02176  0.01591\n",
      "3  u_PDAC_loc  d_PDAC_loc  0.00011  0.00020  0.00006  0.00034  0.00012\n",
      "4  u_PDAC_reg  d_PDAC_reg  0.02346  0.00646  0.00581  0.03338  0.01328\n",
      "5  u_PDAC_dis  d_PDAC_dis  0.13281  0.16225  0.10263  0.18347  0.14726\n"
     ]
    },
    {
     "name": "stderr",
     "output_type": "stream",
     "text": [
      "Simulated annealing progress:  62%|██████▏   | 155032/250000 [10:06<06:13, 254.24iteration/s]"
     ]
    },
    {
     "name": "stdout",
     "output_type": "stream",
     "text": [
      "155000: Best Eval: 338.51832, PDAC: 0.01188, Tick: 72009\n"
     ]
    },
    {
     "name": "stderr",
     "output_type": "stream",
     "text": [
      "Simulated annealing progress:  64%|██████▍   | 160041/250000 [10:25<05:44, 261.47iteration/s]"
     ]
    },
    {
     "name": "stdout",
     "output_type": "stream",
     "text": [
      "160000: Best Eval: 338.51832, PDAC: 0.01188, Tick: 77009\n"
     ]
    },
    {
     "name": "stderr",
     "output_type": "stream",
     "text": [
      "Simulated annealing progress:  66%|██████▌   | 165050/250000 [10:45<05:25, 261.17iteration/s]"
     ]
    },
    {
     "name": "stdout",
     "output_type": "stream",
     "text": [
      "165000: Best Eval: 338.51832, PDAC: 0.01188, Tick: 82009\n"
     ]
    },
    {
     "name": "stderr",
     "output_type": "stream",
     "text": [
      "Simulated annealing progress:  68%|██████▊   | 170027/250000 [11:05<05:07, 260.27iteration/s]"
     ]
    },
    {
     "name": "stdout",
     "output_type": "stream",
     "text": [
      "170000: Best Eval: 338.51832, PDAC: 0.01188, Tick: 87009\n"
     ]
    },
    {
     "name": "stderr",
     "output_type": "stream",
     "text": [
      "Simulated annealing progress:  70%|███████   | 175025/250000 [11:24<04:47, 260.92iteration/s]"
     ]
    },
    {
     "name": "stdout",
     "output_type": "stream",
     "text": [
      "175000: Best Eval: 338.51832, PDAC: 0.01188, Tick: 92009\n"
     ]
    },
    {
     "name": "stderr",
     "output_type": "stream",
     "text": [
      "Simulated annealing progress:  72%|███████▏  | 180046/250000 [11:44<04:27, 261.06iteration/s]"
     ]
    },
    {
     "name": "stdout",
     "output_type": "stream",
     "text": [
      "180000: Best Eval: 338.51832, PDAC: 0.01188, Tick: 97009\n"
     ]
    },
    {
     "name": "stderr",
     "output_type": "stream",
     "text": [
      "Simulated annealing progress:  74%|███████▍  | 185025/250000 [12:03<04:12, 257.54iteration/s]"
     ]
    },
    {
     "name": "stdout",
     "output_type": "stream",
     "text": [
      "185000: Best Eval: 338.51832, PDAC: 0.01188, Tick: 102009\n"
     ]
    },
    {
     "name": "stderr",
     "output_type": "stream",
     "text": [
      "Simulated annealing progress:  76%|███████▌  | 190046/250000 [12:23<03:50, 260.63iteration/s]"
     ]
    },
    {
     "name": "stdout",
     "output_type": "stream",
     "text": [
      "190000: Best Eval: 338.51832, PDAC: 0.01188, Tick: 107009\n"
     ]
    },
    {
     "name": "stderr",
     "output_type": "stream",
     "text": [
      "Simulated annealing progress:  78%|███████▊  | 195036/250000 [12:42<03:30, 261.62iteration/s]"
     ]
    },
    {
     "name": "stdout",
     "output_type": "stream",
     "text": [
      "195000: Best Eval: 338.51832, PDAC: 0.01188, Tick: 112009\n"
     ]
    },
    {
     "name": "stderr",
     "output_type": "stream",
     "text": [
      "Simulated annealing progress:  80%|████████  | 200029/250000 [13:02<03:13, 257.72iteration/s]"
     ]
    },
    {
     "name": "stdout",
     "output_type": "stream",
     "text": [
      "200000: Best Eval: 338.51832, PDAC: 0.01188, Tick: 117009\n",
      "Detailed Progress Report, Iteration = 200000\n",
      "   From State    To State   Age 30   Age 75      Min      Max      Avg\n",
      "0     healthy  u_PDAC_loc  0.00183  0.00945  0.00000  0.00967  0.00652\n",
      "1  u_PDAC_loc  u_PDAC_reg  0.00183  0.00990  0.00000  0.01006  0.00668\n",
      "2  u_PDAC_reg  u_PDAC_dis  0.00962  0.01662  0.00452  0.02176  0.01591\n",
      "3  u_PDAC_loc  d_PDAC_loc  0.00011  0.00020  0.00006  0.00034  0.00012\n",
      "4  u_PDAC_reg  d_PDAC_reg  0.02346  0.00646  0.00581  0.03338  0.01328\n",
      "5  u_PDAC_dis  d_PDAC_dis  0.13281  0.16225  0.10263  0.18347  0.14726\n"
     ]
    },
    {
     "name": "stderr",
     "output_type": "stream",
     "text": [
      "Simulated annealing progress:  82%|████████▏ | 205027/250000 [13:21<02:57, 253.20iteration/s]"
     ]
    },
    {
     "name": "stdout",
     "output_type": "stream",
     "text": [
      "205000: Best Eval: 338.51832, PDAC: 0.01188, Tick: 122009\n"
     ]
    },
    {
     "name": "stderr",
     "output_type": "stream",
     "text": [
      "Simulated annealing progress:  84%|████████▍ | 210054/250000 [13:41<02:31, 263.49iteration/s]"
     ]
    },
    {
     "name": "stdout",
     "output_type": "stream",
     "text": [
      "210000: Best Eval: 338.51832, PDAC: 0.01188, Tick: 127009\n"
     ]
    },
    {
     "name": "stderr",
     "output_type": "stream",
     "text": [
      "Simulated annealing progress:  86%|████████▌ | 215026/250000 [14:00<02:15, 258.23iteration/s]"
     ]
    },
    {
     "name": "stdout",
     "output_type": "stream",
     "text": [
      "215000: Best Eval: 338.51832, PDAC: 0.01188, Tick: 132009\n"
     ]
    },
    {
     "name": "stderr",
     "output_type": "stream",
     "text": [
      "Simulated annealing progress:  88%|████████▊ | 220041/250000 [14:20<01:59, 250.57iteration/s]"
     ]
    },
    {
     "name": "stdout",
     "output_type": "stream",
     "text": [
      "220000: Best Eval: 338.51832, PDAC: 0.01188, Tick: 137009\n"
     ]
    },
    {
     "name": "stderr",
     "output_type": "stream",
     "text": [
      "Simulated annealing progress:  90%|█████████ | 225049/250000 [14:40<01:35, 261.52iteration/s]"
     ]
    },
    {
     "name": "stdout",
     "output_type": "stream",
     "text": [
      "225000: Best Eval: 338.51832, PDAC: 0.01188, Tick: 142009\n"
     ]
    },
    {
     "name": "stderr",
     "output_type": "stream",
     "text": [
      "Simulated annealing progress:  92%|█████████▏| 230042/250000 [15:00<01:19, 250.98iteration/s]"
     ]
    },
    {
     "name": "stdout",
     "output_type": "stream",
     "text": [
      "230000: Best Eval: 338.51832, PDAC: 0.01188, Tick: 147009\n"
     ]
    },
    {
     "name": "stderr",
     "output_type": "stream",
     "text": [
      "Simulated annealing progress:  94%|█████████▍| 235040/250000 [15:19<00:58, 254.62iteration/s]"
     ]
    },
    {
     "name": "stdout",
     "output_type": "stream",
     "text": [
      "235000: Best Eval: 338.51832, PDAC: 0.01188, Tick: 152009\n"
     ]
    },
    {
     "name": "stderr",
     "output_type": "stream",
     "text": [
      "Simulated annealing progress:  96%|█████████▌| 240040/250000 [15:39<00:39, 255.16iteration/s]"
     ]
    },
    {
     "name": "stdout",
     "output_type": "stream",
     "text": [
      "240000: Best Eval: 338.51832, PDAC: 0.01188, Tick: 157009\n"
     ]
    },
    {
     "name": "stderr",
     "output_type": "stream",
     "text": [
      "Simulated annealing progress:  98%|█████████▊| 245036/250000 [15:58<00:19, 255.32iteration/s]"
     ]
    },
    {
     "name": "stdout",
     "output_type": "stream",
     "text": [
      "245000: Best Eval: 338.51832, PDAC: 0.01188, Tick: 162009\n"
     ]
    },
    {
     "name": "stderr",
     "output_type": "stream",
     "text": [
      "Simulated annealing progress: 100%|██████████| 250000/250000 [16:18<00:00, 255.56iteration/s]\n"
     ]
    },
    {
     "name": "stdout",
     "output_type": "stream",
     "text": [
      "Best evaluation: 338.5183197012376\n",
      "Done.\n",
      "EPOCH 4/5 ----------------------------------------------------------\n",
      "Initial score: 338.51832\n",
      "Starting calibration...\n"
     ]
    },
    {
     "name": "stderr",
     "output_type": "stream",
     "text": [
      "Simulated annealing progress:   2%|▏         | 5048/250000 [00:19<15:28, 263.78iteration/s]"
     ]
    },
    {
     "name": "stdout",
     "output_type": "stream",
     "text": [
      "5000: Best Eval: 338.51832, PDAC: 0.01188, Tick: 5001\n"
     ]
    },
    {
     "name": "stderr",
     "output_type": "stream",
     "text": [
      "Simulated annealing progress:   4%|▍         | 10043/250000 [00:39<15:31, 257.66iteration/s]"
     ]
    },
    {
     "name": "stdout",
     "output_type": "stream",
     "text": [
      "10000: Best Eval: 338.51832, PDAC: 0.01188, Tick: 10001\n"
     ]
    },
    {
     "name": "stderr",
     "output_type": "stream",
     "text": [
      "Simulated annealing progress:   6%|▌         | 15049/250000 [00:58<15:21, 255.03iteration/s]"
     ]
    },
    {
     "name": "stdout",
     "output_type": "stream",
     "text": [
      "15000: Best Eval: 338.51832, PDAC: 0.01188, Tick: 15001\n"
     ]
    },
    {
     "name": "stderr",
     "output_type": "stream",
     "text": [
      "Simulated annealing progress:   8%|▊         | 20048/250000 [01:18<14:47, 259.09iteration/s]"
     ]
    },
    {
     "name": "stdout",
     "output_type": "stream",
     "text": [
      "20000: Best Eval: 338.51832, PDAC: 0.01188, Tick: 20001\n"
     ]
    },
    {
     "name": "stderr",
     "output_type": "stream",
     "text": [
      "Simulated annealing progress:  10%|█         | 25035/250000 [01:37<14:19, 261.75iteration/s]"
     ]
    },
    {
     "name": "stdout",
     "output_type": "stream",
     "text": [
      "25000: Best Eval: 338.51832, PDAC: 0.01188, Tick: 25001\n"
     ]
    },
    {
     "name": "stderr",
     "output_type": "stream",
     "text": [
      "Simulated annealing progress:  12%|█▏        | 30031/250000 [01:57<13:58, 262.39iteration/s]"
     ]
    },
    {
     "name": "stdout",
     "output_type": "stream",
     "text": [
      "30000: Best Eval: 338.51832, PDAC: 0.01188, Tick: 30001\n"
     ]
    },
    {
     "name": "stderr",
     "output_type": "stream",
     "text": [
      "Simulated annealing progress:  14%|█▍        | 35027/250000 [02:16<13:42, 261.44iteration/s]"
     ]
    },
    {
     "name": "stdout",
     "output_type": "stream",
     "text": [
      "35000: Best Eval: 315.43118, PDAC: 0.01161, Tick: 3576\n"
     ]
    },
    {
     "name": "stderr",
     "output_type": "stream",
     "text": [
      "Simulated annealing progress:  16%|█▌        | 40050/250000 [02:36<13:34, 257.92iteration/s]"
     ]
    },
    {
     "name": "stdout",
     "output_type": "stream",
     "text": [
      "40000: Best Eval: 315.43118, PDAC: 0.01161, Tick: 8576\n"
     ]
    },
    {
     "name": "stderr",
     "output_type": "stream",
     "text": [
      "Simulated annealing progress:  18%|█▊        | 45039/250000 [02:55<13:30, 252.95iteration/s]"
     ]
    },
    {
     "name": "stdout",
     "output_type": "stream",
     "text": [
      "45000: Best Eval: 315.43118, PDAC: 0.01161, Tick: 13576\n"
     ]
    },
    {
     "name": "stderr",
     "output_type": "stream",
     "text": [
      "Simulated annealing progress:  20%|██        | 50042/250000 [03:15<13:08, 253.51iteration/s]"
     ]
    },
    {
     "name": "stdout",
     "output_type": "stream",
     "text": [
      "50000: Best Eval: 315.43118, PDAC: 0.01161, Tick: 18576\n",
      "Detailed Progress Report, Iteration = 50000\n",
      "   From State    To State   Age 30   Age 75      Min      Max      Avg\n",
      "0     healthy  u_PDAC_loc  0.00139  0.00967  0.00000  0.00984  0.00595\n",
      "1  u_PDAC_loc  u_PDAC_reg  0.00149  0.00980  0.00000  0.01025  0.00621\n",
      "2  u_PDAC_reg  u_PDAC_dis  0.00503  0.02093  0.00000  0.03590  0.01976\n",
      "3  u_PDAC_loc  d_PDAC_loc  0.00016  0.00022  0.00005  0.00040  0.00014\n",
      "4  u_PDAC_reg  d_PDAC_reg  0.02729  0.00864  0.00682  0.03644  0.01614\n",
      "5  u_PDAC_dis  d_PDAC_dis  0.12749  0.17180  0.12638  0.18750  0.15415\n"
     ]
    },
    {
     "name": "stderr",
     "output_type": "stream",
     "text": [
      "Simulated annealing progress:  22%|██▏       | 55030/250000 [03:34<12:28, 260.45iteration/s]"
     ]
    },
    {
     "name": "stdout",
     "output_type": "stream",
     "text": [
      "55000: Best Eval: 315.43118, PDAC: 0.01161, Tick: 23576\n"
     ]
    },
    {
     "name": "stderr",
     "output_type": "stream",
     "text": [
      "Simulated annealing progress:  24%|██▍       | 60035/250000 [03:54<12:41, 249.43iteration/s]"
     ]
    },
    {
     "name": "stdout",
     "output_type": "stream",
     "text": [
      "60000: Best Eval: 315.43118, PDAC: 0.01161, Tick: 28576\n"
     ]
    },
    {
     "name": "stderr",
     "output_type": "stream",
     "text": [
      "Simulated annealing progress:  26%|██▌       | 65031/250000 [04:14<11:50, 260.27iteration/s]"
     ]
    },
    {
     "name": "stdout",
     "output_type": "stream",
     "text": [
      "65000: Best Eval: 315.43118, PDAC: 0.01161, Tick: 33576\n"
     ]
    },
    {
     "name": "stderr",
     "output_type": "stream",
     "text": [
      "Simulated annealing progress:  28%|██▊       | 70048/250000 [04:33<11:29, 260.80iteration/s]"
     ]
    },
    {
     "name": "stdout",
     "output_type": "stream",
     "text": [
      "70000: Best Eval: 315.43118, PDAC: 0.01161, Tick: 38576\n"
     ]
    },
    {
     "name": "stderr",
     "output_type": "stream",
     "text": [
      "Simulated annealing progress:  30%|███       | 75040/250000 [04:53<11:28, 253.96iteration/s]"
     ]
    },
    {
     "name": "stdout",
     "output_type": "stream",
     "text": [
      "75000: Best Eval: 315.43118, PDAC: 0.01161, Tick: 43576\n"
     ]
    },
    {
     "name": "stderr",
     "output_type": "stream",
     "text": [
      "Simulated annealing progress:  32%|███▏      | 80033/250000 [05:12<10:47, 262.67iteration/s]"
     ]
    },
    {
     "name": "stdout",
     "output_type": "stream",
     "text": [
      "80000: Best Eval: 315.43118, PDAC: 0.01161, Tick: 48576\n"
     ]
    },
    {
     "name": "stderr",
     "output_type": "stream",
     "text": [
      "Simulated annealing progress:  34%|███▍      | 85052/250000 [05:32<10:49, 254.16iteration/s]"
     ]
    },
    {
     "name": "stdout",
     "output_type": "stream",
     "text": [
      "85000: Best Eval: 315.43118, PDAC: 0.01161, Tick: 53576\n"
     ]
    },
    {
     "name": "stderr",
     "output_type": "stream",
     "text": [
      "Simulated annealing progress:  36%|███▌      | 90039/250000 [05:51<10:24, 256.06iteration/s]"
     ]
    },
    {
     "name": "stdout",
     "output_type": "stream",
     "text": [
      "90000: Best Eval: 315.43118, PDAC: 0.01161, Tick: 58576\n"
     ]
    },
    {
     "name": "stderr",
     "output_type": "stream",
     "text": [
      "Simulated annealing progress:  38%|███▊      | 95033/250000 [06:11<10:21, 249.23iteration/s]"
     ]
    },
    {
     "name": "stdout",
     "output_type": "stream",
     "text": [
      "95000: Best Eval: 315.43118, PDAC: 0.01161, Tick: 63576\n"
     ]
    },
    {
     "name": "stderr",
     "output_type": "stream",
     "text": [
      "Simulated annealing progress:  40%|████      | 100033/250000 [06:31<10:16, 243.43iteration/s]"
     ]
    },
    {
     "name": "stdout",
     "output_type": "stream",
     "text": [
      "100000: Best Eval: 315.43118, PDAC: 0.01161, Tick: 68576\n",
      "Detailed Progress Report, Iteration = 100000\n",
      "   From State    To State   Age 30   Age 75      Min      Max      Avg\n",
      "0     healthy  u_PDAC_loc  0.00139  0.00967  0.00000  0.00984  0.00595\n",
      "1  u_PDAC_loc  u_PDAC_reg  0.00149  0.00980  0.00000  0.01025  0.00621\n",
      "2  u_PDAC_reg  u_PDAC_dis  0.00503  0.02093  0.00000  0.03590  0.01976\n",
      "3  u_PDAC_loc  d_PDAC_loc  0.00016  0.00022  0.00005  0.00040  0.00014\n",
      "4  u_PDAC_reg  d_PDAC_reg  0.02729  0.00864  0.00682  0.03644  0.01614\n",
      "5  u_PDAC_dis  d_PDAC_dis  0.12749  0.17180  0.12638  0.18750  0.15415\n"
     ]
    },
    {
     "name": "stderr",
     "output_type": "stream",
     "text": [
      "Simulated annealing progress:  42%|████▏     | 105052/250000 [06:50<09:24, 256.55iteration/s]"
     ]
    },
    {
     "name": "stdout",
     "output_type": "stream",
     "text": [
      "105000: Best Eval: 315.43118, PDAC: 0.01161, Tick: 73576\n"
     ]
    },
    {
     "name": "stderr",
     "output_type": "stream",
     "text": [
      "Simulated annealing progress:  44%|████▍     | 110026/250000 [07:11<09:07, 255.83iteration/s]"
     ]
    },
    {
     "name": "stdout",
     "output_type": "stream",
     "text": [
      "110000: Best Eval: 315.43118, PDAC: 0.01161, Tick: 78576\n"
     ]
    },
    {
     "name": "stderr",
     "output_type": "stream",
     "text": [
      "Simulated annealing progress:  46%|████▌     | 115046/250000 [07:31<08:34, 262.48iteration/s]"
     ]
    },
    {
     "name": "stdout",
     "output_type": "stream",
     "text": [
      "115000: Best Eval: 315.43118, PDAC: 0.01161, Tick: 83576\n"
     ]
    },
    {
     "name": "stderr",
     "output_type": "stream",
     "text": [
      "Simulated annealing progress:  48%|████▊     | 120048/250000 [07:50<08:17, 261.41iteration/s]"
     ]
    },
    {
     "name": "stdout",
     "output_type": "stream",
     "text": [
      "120000: Best Eval: 315.43118, PDAC: 0.01161, Tick: 88576\n"
     ]
    },
    {
     "name": "stderr",
     "output_type": "stream",
     "text": [
      "Simulated annealing progress:  50%|█████     | 125029/250000 [08:10<08:09, 255.35iteration/s]"
     ]
    },
    {
     "name": "stdout",
     "output_type": "stream",
     "text": [
      "125000: Best Eval: 315.43118, PDAC: 0.01161, Tick: 93576\n"
     ]
    },
    {
     "name": "stderr",
     "output_type": "stream",
     "text": [
      "Simulated annealing progress:  52%|█████▏    | 130026/250000 [08:29<07:50, 255.15iteration/s]"
     ]
    },
    {
     "name": "stdout",
     "output_type": "stream",
     "text": [
      "130000: Best Eval: 315.43118, PDAC: 0.01161, Tick: 98576\n"
     ]
    },
    {
     "name": "stderr",
     "output_type": "stream",
     "text": [
      "Simulated annealing progress:  54%|█████▍    | 135041/250000 [08:49<07:28, 256.44iteration/s]"
     ]
    },
    {
     "name": "stdout",
     "output_type": "stream",
     "text": [
      "135000: Best Eval: 315.43118, PDAC: 0.01161, Tick: 103576\n"
     ]
    },
    {
     "name": "stderr",
     "output_type": "stream",
     "text": [
      "Simulated annealing progress:  56%|█████▌    | 140041/250000 [09:09<07:19, 250.04iteration/s]"
     ]
    },
    {
     "name": "stdout",
     "output_type": "stream",
     "text": [
      "140000: Best Eval: 315.43118, PDAC: 0.01161, Tick: 108576\n"
     ]
    },
    {
     "name": "stderr",
     "output_type": "stream",
     "text": [
      "Simulated annealing progress:  58%|█████▊    | 145035/250000 [09:30<07:15, 241.06iteration/s]"
     ]
    },
    {
     "name": "stdout",
     "output_type": "stream",
     "text": [
      "145000: Best Eval: 315.43118, PDAC: 0.01161, Tick: 113576\n"
     ]
    },
    {
     "name": "stderr",
     "output_type": "stream",
     "text": [
      "Simulated annealing progress:  60%|██████    | 150041/250000 [09:50<06:37, 251.42iteration/s]"
     ]
    },
    {
     "name": "stdout",
     "output_type": "stream",
     "text": [
      "150000: Best Eval: 315.43118, PDAC: 0.01161, Tick: 118576\n",
      "Detailed Progress Report, Iteration = 150000\n",
      "   From State    To State   Age 30   Age 75      Min      Max      Avg\n",
      "0     healthy  u_PDAC_loc  0.00139  0.00967  0.00000  0.00984  0.00595\n",
      "1  u_PDAC_loc  u_PDAC_reg  0.00149  0.00980  0.00000  0.01025  0.00621\n",
      "2  u_PDAC_reg  u_PDAC_dis  0.00503  0.02093  0.00000  0.03590  0.01976\n",
      "3  u_PDAC_loc  d_PDAC_loc  0.00016  0.00022  0.00005  0.00040  0.00014\n",
      "4  u_PDAC_reg  d_PDAC_reg  0.02729  0.00864  0.00682  0.03644  0.01614\n",
      "5  u_PDAC_dis  d_PDAC_dis  0.12749  0.17180  0.12638  0.18750  0.15415\n"
     ]
    },
    {
     "name": "stderr",
     "output_type": "stream",
     "text": [
      "Simulated annealing progress:  62%|██████▏   | 155043/250000 [10:11<06:07, 258.39iteration/s]"
     ]
    },
    {
     "name": "stdout",
     "output_type": "stream",
     "text": [
      "155000: Best Eval: 315.43118, PDAC: 0.01161, Tick: 123576\n"
     ]
    },
    {
     "name": "stderr",
     "output_type": "stream",
     "text": [
      "Simulated annealing progress:  64%|██████▍   | 160038/250000 [10:31<05:46, 259.50iteration/s]"
     ]
    },
    {
     "name": "stdout",
     "output_type": "stream",
     "text": [
      "160000: Best Eval: 315.43118, PDAC: 0.01161, Tick: 128576\n"
     ]
    },
    {
     "name": "stderr",
     "output_type": "stream",
     "text": [
      "Simulated annealing progress:  66%|██████▌   | 165038/250000 [10:51<05:26, 260.56iteration/s]"
     ]
    },
    {
     "name": "stdout",
     "output_type": "stream",
     "text": [
      "165000: Best Eval: 315.43118, PDAC: 0.01161, Tick: 133576\n"
     ]
    },
    {
     "name": "stderr",
     "output_type": "stream",
     "text": [
      "Simulated annealing progress:  68%|██████▊   | 170055/250000 [11:10<05:04, 262.97iteration/s]"
     ]
    },
    {
     "name": "stdout",
     "output_type": "stream",
     "text": [
      "170000: Best Eval: 315.43118, PDAC: 0.01161, Tick: 138576\n"
     ]
    },
    {
     "name": "stderr",
     "output_type": "stream",
     "text": [
      "Simulated annealing progress:  70%|███████   | 175046/250000 [11:30<04:57, 252.06iteration/s]"
     ]
    },
    {
     "name": "stdout",
     "output_type": "stream",
     "text": [
      "175000: Best Eval: 315.43118, PDAC: 0.01161, Tick: 143576\n"
     ]
    },
    {
     "name": "stderr",
     "output_type": "stream",
     "text": [
      "Simulated annealing progress:  72%|███████▏  | 180037/250000 [11:49<04:32, 256.61iteration/s]"
     ]
    },
    {
     "name": "stdout",
     "output_type": "stream",
     "text": [
      "180000: Best Eval: 315.43118, PDAC: 0.01161, Tick: 148576\n"
     ]
    },
    {
     "name": "stderr",
     "output_type": "stream",
     "text": [
      "Simulated annealing progress:  74%|███████▍  | 185043/250000 [12:12<04:46, 226.78iteration/s]"
     ]
    },
    {
     "name": "stdout",
     "output_type": "stream",
     "text": [
      "185000: Best Eval: 315.43118, PDAC: 0.01161, Tick: 153576\n"
     ]
    },
    {
     "name": "stderr",
     "output_type": "stream",
     "text": [
      "Simulated annealing progress:  76%|███████▌  | 190049/250000 [12:32<03:47, 263.91iteration/s]"
     ]
    },
    {
     "name": "stdout",
     "output_type": "stream",
     "text": [
      "190000: Best Eval: 315.43118, PDAC: 0.01161, Tick: 158576\n"
     ]
    },
    {
     "name": "stderr",
     "output_type": "stream",
     "text": [
      "Simulated annealing progress:  78%|███████▊  | 195039/250000 [12:51<03:29, 262.60iteration/s]"
     ]
    },
    {
     "name": "stdout",
     "output_type": "stream",
     "text": [
      "195000: Best Eval: 315.43118, PDAC: 0.01161, Tick: 163576\n"
     ]
    },
    {
     "name": "stderr",
     "output_type": "stream",
     "text": [
      "Simulated annealing progress:  80%|████████  | 200039/250000 [13:11<03:20, 248.67iteration/s]"
     ]
    },
    {
     "name": "stdout",
     "output_type": "stream",
     "text": [
      "200000: Best Eval: 315.43118, PDAC: 0.01161, Tick: 168576\n",
      "Detailed Progress Report, Iteration = 200000\n",
      "   From State    To State   Age 30   Age 75      Min      Max      Avg\n",
      "0     healthy  u_PDAC_loc  0.00139  0.00967  0.00000  0.00984  0.00595\n",
      "1  u_PDAC_loc  u_PDAC_reg  0.00149  0.00980  0.00000  0.01025  0.00621\n",
      "2  u_PDAC_reg  u_PDAC_dis  0.00503  0.02093  0.00000  0.03590  0.01976\n",
      "3  u_PDAC_loc  d_PDAC_loc  0.00016  0.00022  0.00005  0.00040  0.00014\n",
      "4  u_PDAC_reg  d_PDAC_reg  0.02729  0.00864  0.00682  0.03644  0.01614\n",
      "5  u_PDAC_dis  d_PDAC_dis  0.12749  0.17180  0.12638  0.18750  0.15415\n"
     ]
    },
    {
     "name": "stderr",
     "output_type": "stream",
     "text": [
      "Simulated annealing progress:  82%|████████▏ | 205025/250000 [13:30<02:51, 261.52iteration/s]"
     ]
    },
    {
     "name": "stdout",
     "output_type": "stream",
     "text": [
      "205000: Best Eval: 315.43118, PDAC: 0.01161, Tick: 173576\n"
     ]
    },
    {
     "name": "stderr",
     "output_type": "stream",
     "text": [
      "Simulated annealing progress:  84%|████████▍ | 210040/250000 [13:50<02:39, 251.13iteration/s]"
     ]
    },
    {
     "name": "stdout",
     "output_type": "stream",
     "text": [
      "210000: Best Eval: 315.43118, PDAC: 0.01161, Tick: 178576\n"
     ]
    },
    {
     "name": "stderr",
     "output_type": "stream",
     "text": [
      "Simulated annealing progress:  86%|████████▌ | 215026/250000 [14:09<02:15, 258.72iteration/s]"
     ]
    },
    {
     "name": "stdout",
     "output_type": "stream",
     "text": [
      "215000: Best Eval: 315.43118, PDAC: 0.01161, Tick: 183576\n"
     ]
    },
    {
     "name": "stderr",
     "output_type": "stream",
     "text": [
      "Simulated annealing progress:  88%|████████▊ | 220055/250000 [14:29<01:57, 254.24iteration/s]"
     ]
    },
    {
     "name": "stdout",
     "output_type": "stream",
     "text": [
      "220000: Best Eval: 315.43118, PDAC: 0.01161, Tick: 188576\n"
     ]
    },
    {
     "name": "stderr",
     "output_type": "stream",
     "text": [
      "Simulated annealing progress:  90%|█████████ | 225033/250000 [14:48<01:36, 259.65iteration/s]"
     ]
    },
    {
     "name": "stdout",
     "output_type": "stream",
     "text": [
      "225000: Best Eval: 315.43118, PDAC: 0.01161, Tick: 193576\n"
     ]
    },
    {
     "name": "stderr",
     "output_type": "stream",
     "text": [
      "Simulated annealing progress:  92%|█████████▏| 230041/250000 [15:08<01:18, 253.33iteration/s]"
     ]
    },
    {
     "name": "stdout",
     "output_type": "stream",
     "text": [
      "230000: Best Eval: 315.43118, PDAC: 0.01161, Tick: 198576\n"
     ]
    },
    {
     "name": "stderr",
     "output_type": "stream",
     "text": [
      "Simulated annealing progress:  94%|█████████▍| 235024/250000 [15:28<00:59, 250.83iteration/s]"
     ]
    },
    {
     "name": "stdout",
     "output_type": "stream",
     "text": [
      "235000: Best Eval: 315.43118, PDAC: 0.01161, Tick: 203576\n"
     ]
    },
    {
     "name": "stderr",
     "output_type": "stream",
     "text": [
      "Simulated annealing progress:  96%|█████████▌| 240036/250000 [15:47<00:38, 258.50iteration/s]"
     ]
    },
    {
     "name": "stdout",
     "output_type": "stream",
     "text": [
      "240000: Best Eval: 315.43118, PDAC: 0.01161, Tick: 208576\n"
     ]
    },
    {
     "name": "stderr",
     "output_type": "stream",
     "text": [
      "Simulated annealing progress:  98%|█████████▊| 245040/250000 [16:07<00:19, 258.53iteration/s]"
     ]
    },
    {
     "name": "stdout",
     "output_type": "stream",
     "text": [
      "245000: Best Eval: 315.43118, PDAC: 0.01161, Tick: 213576\n"
     ]
    },
    {
     "name": "stderr",
     "output_type": "stream",
     "text": [
      "Simulated annealing progress: 100%|██████████| 250000/250000 [16:26<00:00, 253.31iteration/s]\n"
     ]
    },
    {
     "name": "stdout",
     "output_type": "stream",
     "text": [
      "Best evaluation: 315.4311752516247\n",
      "Done.\n",
      "EPOCH 5/5 ----------------------------------------------------------\n",
      "Initial score: 315.43118\n",
      "Starting calibration...\n"
     ]
    },
    {
     "name": "stderr",
     "output_type": "stream",
     "text": [
      "Simulated annealing progress:   2%|▏         | 5055/250000 [00:19<15:31, 263.00iteration/s]"
     ]
    },
    {
     "name": "stdout",
     "output_type": "stream",
     "text": [
      "5000: Best Eval: 315.43118, PDAC: 0.01161, Tick: 5001\n"
     ]
    },
    {
     "name": "stderr",
     "output_type": "stream",
     "text": [
      "Simulated annealing progress:   4%|▍         | 10043/250000 [00:39<15:19, 260.90iteration/s]"
     ]
    },
    {
     "name": "stdout",
     "output_type": "stream",
     "text": [
      "10000: Best Eval: 315.43118, PDAC: 0.01161, Tick: 10001\n"
     ]
    },
    {
     "name": "stderr",
     "output_type": "stream",
     "text": [
      "Simulated annealing progress:   6%|▌         | 15030/250000 [00:58<15:12, 257.45iteration/s]"
     ]
    },
    {
     "name": "stdout",
     "output_type": "stream",
     "text": [
      "15000: Best Eval: 315.43118, PDAC: 0.01161, Tick: 15001\n"
     ]
    },
    {
     "name": "stderr",
     "output_type": "stream",
     "text": [
      "Simulated annealing progress:   8%|▊         | 20031/250000 [01:17<14:29, 264.53iteration/s]"
     ]
    },
    {
     "name": "stdout",
     "output_type": "stream",
     "text": [
      "20000: Best Eval: 315.43118, PDAC: 0.01161, Tick: 20001\n"
     ]
    },
    {
     "name": "stderr",
     "output_type": "stream",
     "text": [
      "Simulated annealing progress:  10%|█         | 25045/250000 [01:37<14:24, 260.10iteration/s]"
     ]
    },
    {
     "name": "stdout",
     "output_type": "stream",
     "text": [
      "25000: Best Eval: 315.43118, PDAC: 0.01161, Tick: 25001\n"
     ]
    },
    {
     "name": "stderr",
     "output_type": "stream",
     "text": [
      "Simulated annealing progress:  12%|█▏        | 30030/250000 [01:56<14:05, 260.10iteration/s]"
     ]
    },
    {
     "name": "stdout",
     "output_type": "stream",
     "text": [
      "30000: Best Eval: 315.43118, PDAC: 0.01161, Tick: 30001\n"
     ]
    },
    {
     "name": "stderr",
     "output_type": "stream",
     "text": [
      "Simulated annealing progress:  14%|█▍        | 35049/250000 [02:16<13:50, 258.88iteration/s]"
     ]
    },
    {
     "name": "stdout",
     "output_type": "stream",
     "text": [
      "35000: Best Eval: 315.43118, PDAC: 0.01161, Tick: 35001\n"
     ]
    },
    {
     "name": "stderr",
     "output_type": "stream",
     "text": [
      "Simulated annealing progress:  16%|█▌        | 40029/250000 [02:35<13:15, 263.78iteration/s]"
     ]
    },
    {
     "name": "stdout",
     "output_type": "stream",
     "text": [
      "40000: Best Eval: 315.43118, PDAC: 0.01161, Tick: 40001\n"
     ]
    },
    {
     "name": "stderr",
     "output_type": "stream",
     "text": [
      "Simulated annealing progress:  18%|█▊        | 45030/250000 [02:57<12:58, 263.38iteration/s]"
     ]
    },
    {
     "name": "stdout",
     "output_type": "stream",
     "text": [
      "45000: Best Eval: 315.43118, PDAC: 0.01161, Tick: 45001\n"
     ]
    },
    {
     "name": "stderr",
     "output_type": "stream",
     "text": [
      "Simulated annealing progress:  20%|██        | 50037/250000 [03:16<13:16, 251.10iteration/s]"
     ]
    },
    {
     "name": "stdout",
     "output_type": "stream",
     "text": [
      "50000: Best Eval: 315.43118, PDAC: 0.01161, Tick: 50001\n",
      "Detailed Progress Report, Iteration = 50000\n",
      "   From State    To State   Age 30   Age 75      Min      Max      Avg\n",
      "0     healthy  u_PDAC_loc  0.00139  0.00967  0.00000  0.00984  0.00595\n",
      "1  u_PDAC_loc  u_PDAC_reg  0.00149  0.00980  0.00000  0.01025  0.00621\n",
      "2  u_PDAC_reg  u_PDAC_dis  0.00503  0.02093  0.00000  0.03590  0.01976\n",
      "3  u_PDAC_loc  d_PDAC_loc  0.00016  0.00022  0.00005  0.00040  0.00014\n",
      "4  u_PDAC_reg  d_PDAC_reg  0.02729  0.00864  0.00682  0.03644  0.01614\n",
      "5  u_PDAC_dis  d_PDAC_dis  0.12749  0.17180  0.12638  0.18750  0.15415\n"
     ]
    },
    {
     "name": "stderr",
     "output_type": "stream",
     "text": [
      "Simulated annealing progress:  22%|██▏       | 55044/250000 [03:36<12:21, 262.84iteration/s]"
     ]
    },
    {
     "name": "stdout",
     "output_type": "stream",
     "text": [
      "55000: Best Eval: 315.43118, PDAC: 0.01161, Tick: 55001\n"
     ]
    },
    {
     "name": "stderr",
     "output_type": "stream",
     "text": [
      "Simulated annealing progress:  24%|██▍       | 60047/250000 [03:56<12:21, 256.17iteration/s]"
     ]
    },
    {
     "name": "stdout",
     "output_type": "stream",
     "text": [
      "60000: Best Eval: 315.43118, PDAC: 0.01161, Tick: 60001\n"
     ]
    },
    {
     "name": "stderr",
     "output_type": "stream",
     "text": [
      "Simulated annealing progress:  26%|██▌       | 65044/250000 [04:15<12:04, 255.15iteration/s]"
     ]
    },
    {
     "name": "stdout",
     "output_type": "stream",
     "text": [
      "65000: Best Eval: 315.43118, PDAC: 0.01161, Tick: 65001\n"
     ]
    },
    {
     "name": "stderr",
     "output_type": "stream",
     "text": [
      "Simulated annealing progress:  28%|██▊       | 70039/250000 [04:35<12:16, 244.26iteration/s]"
     ]
    },
    {
     "name": "stdout",
     "output_type": "stream",
     "text": [
      "70000: Best Eval: 315.43118, PDAC: 0.01161, Tick: 70001\n"
     ]
    },
    {
     "name": "stderr",
     "output_type": "stream",
     "text": [
      "Simulated annealing progress:  30%|███       | 75036/250000 [04:54<10:57, 266.15iteration/s]"
     ]
    },
    {
     "name": "stdout",
     "output_type": "stream",
     "text": [
      "75000: Best Eval: 315.43118, PDAC: 0.01161, Tick: 75001\n"
     ]
    },
    {
     "name": "stderr",
     "output_type": "stream",
     "text": [
      "Simulated annealing progress:  32%|███▏      | 80045/250000 [05:14<11:15, 251.77iteration/s]"
     ]
    },
    {
     "name": "stdout",
     "output_type": "stream",
     "text": [
      "80000: Best Eval: 315.43118, PDAC: 0.01161, Tick: 80001\n"
     ]
    },
    {
     "name": "stderr",
     "output_type": "stream",
     "text": [
      "Simulated annealing progress:  34%|███▍      | 85038/250000 [05:34<10:36, 259.10iteration/s]"
     ]
    },
    {
     "name": "stdout",
     "output_type": "stream",
     "text": [
      "85000: Best Eval: 315.43118, PDAC: 0.01161, Tick: 85001\n"
     ]
    },
    {
     "name": "stderr",
     "output_type": "stream",
     "text": [
      "Simulated annealing progress:  36%|███▌      | 90037/250000 [05:54<10:12, 261.34iteration/s]"
     ]
    },
    {
     "name": "stdout",
     "output_type": "stream",
     "text": [
      "90000: Best Eval: 315.43118, PDAC: 0.01161, Tick: 90001\n"
     ]
    },
    {
     "name": "stderr",
     "output_type": "stream",
     "text": [
      "Simulated annealing progress:  38%|███▊      | 95044/250000 [06:14<10:16, 251.30iteration/s]"
     ]
    },
    {
     "name": "stdout",
     "output_type": "stream",
     "text": [
      "95000: Best Eval: 315.43118, PDAC: 0.01161, Tick: 95001\n"
     ]
    },
    {
     "name": "stderr",
     "output_type": "stream",
     "text": [
      "Simulated annealing progress:  40%|████      | 100034/250000 [06:33<10:03, 248.66iteration/s]"
     ]
    },
    {
     "name": "stdout",
     "output_type": "stream",
     "text": [
      "100000: Best Eval: 315.43118, PDAC: 0.01161, Tick: 100001\n",
      "Detailed Progress Report, Iteration = 100000\n",
      "   From State    To State   Age 30   Age 75      Min      Max      Avg\n",
      "0     healthy  u_PDAC_loc  0.00139  0.00967  0.00000  0.00984  0.00595\n",
      "1  u_PDAC_loc  u_PDAC_reg  0.00149  0.00980  0.00000  0.01025  0.00621\n",
      "2  u_PDAC_reg  u_PDAC_dis  0.00503  0.02093  0.00000  0.03590  0.01976\n",
      "3  u_PDAC_loc  d_PDAC_loc  0.00016  0.00022  0.00005  0.00040  0.00014\n",
      "4  u_PDAC_reg  d_PDAC_reg  0.02729  0.00864  0.00682  0.03644  0.01614\n",
      "5  u_PDAC_dis  d_PDAC_dis  0.12749  0.17180  0.12638  0.18750  0.15415\n"
     ]
    },
    {
     "name": "stderr",
     "output_type": "stream",
     "text": [
      "Simulated annealing progress:  42%|████▏     | 105049/250000 [06:53<09:22, 257.51iteration/s]"
     ]
    },
    {
     "name": "stdout",
     "output_type": "stream",
     "text": [
      "105000: Best Eval: 315.43118, PDAC: 0.01161, Tick: 105001\n"
     ]
    },
    {
     "name": "stderr",
     "output_type": "stream",
     "text": [
      "Simulated annealing progress:  44%|████▍     | 110051/250000 [07:13<09:14, 252.18iteration/s]"
     ]
    },
    {
     "name": "stdout",
     "output_type": "stream",
     "text": [
      "110000: Best Eval: 315.43118, PDAC: 0.01161, Tick: 110001\n"
     ]
    },
    {
     "name": "stderr",
     "output_type": "stream",
     "text": [
      "Simulated annealing progress:  46%|████▌     | 115042/250000 [07:32<08:41, 258.95iteration/s]"
     ]
    },
    {
     "name": "stdout",
     "output_type": "stream",
     "text": [
      "115000: Best Eval: 315.43118, PDAC: 0.01161, Tick: 115001\n"
     ]
    },
    {
     "name": "stderr",
     "output_type": "stream",
     "text": [
      "Simulated annealing progress:  48%|████▊     | 120034/250000 [07:52<08:22, 258.56iteration/s]"
     ]
    },
    {
     "name": "stdout",
     "output_type": "stream",
     "text": [
      "120000: Best Eval: 315.43118, PDAC: 0.01161, Tick: 120001\n"
     ]
    },
    {
     "name": "stderr",
     "output_type": "stream",
     "text": [
      "Simulated annealing progress:  50%|█████     | 125042/250000 [08:11<07:58, 261.31iteration/s]"
     ]
    },
    {
     "name": "stdout",
     "output_type": "stream",
     "text": [
      "125000: Best Eval: 315.43118, PDAC: 0.01161, Tick: 125001\n"
     ]
    },
    {
     "name": "stderr",
     "output_type": "stream",
     "text": [
      "Simulated annealing progress:  52%|█████▏    | 130043/250000 [08:31<07:48, 255.86iteration/s]"
     ]
    },
    {
     "name": "stdout",
     "output_type": "stream",
     "text": [
      "130000: Best Eval: 315.43118, PDAC: 0.01161, Tick: 130001\n"
     ]
    },
    {
     "name": "stderr",
     "output_type": "stream",
     "text": [
      "Simulated annealing progress:  54%|█████▍    | 135044/250000 [08:51<07:35, 252.21iteration/s]"
     ]
    },
    {
     "name": "stdout",
     "output_type": "stream",
     "text": [
      "135000: Best Eval: 315.43118, PDAC: 0.01161, Tick: 135001\n"
     ]
    },
    {
     "name": "stderr",
     "output_type": "stream",
     "text": [
      "Simulated annealing progress:  56%|█████▌    | 140031/250000 [09:11<07:02, 260.32iteration/s]"
     ]
    },
    {
     "name": "stdout",
     "output_type": "stream",
     "text": [
      "140000: Best Eval: 315.43118, PDAC: 0.01161, Tick: 140001\n"
     ]
    },
    {
     "name": "stderr",
     "output_type": "stream",
     "text": [
      "Simulated annealing progress:  58%|█████▊    | 145042/250000 [09:30<06:36, 264.85iteration/s]"
     ]
    },
    {
     "name": "stdout",
     "output_type": "stream",
     "text": [
      "145000: Best Eval: 315.43118, PDAC: 0.01161, Tick: 145001\n"
     ]
    },
    {
     "name": "stderr",
     "output_type": "stream",
     "text": [
      "Simulated annealing progress:  60%|██████    | 150041/250000 [09:50<06:34, 253.23iteration/s]"
     ]
    },
    {
     "name": "stdout",
     "output_type": "stream",
     "text": [
      "150000: Best Eval: 315.43118, PDAC: 0.01161, Tick: 150001\n",
      "Detailed Progress Report, Iteration = 150000\n",
      "   From State    To State   Age 30   Age 75      Min      Max      Avg\n",
      "0     healthy  u_PDAC_loc  0.00139  0.00967  0.00000  0.00984  0.00595\n",
      "1  u_PDAC_loc  u_PDAC_reg  0.00149  0.00980  0.00000  0.01025  0.00621\n",
      "2  u_PDAC_reg  u_PDAC_dis  0.00503  0.02093  0.00000  0.03590  0.01976\n",
      "3  u_PDAC_loc  d_PDAC_loc  0.00016  0.00022  0.00005  0.00040  0.00014\n",
      "4  u_PDAC_reg  d_PDAC_reg  0.02729  0.00864  0.00682  0.03644  0.01614\n",
      "5  u_PDAC_dis  d_PDAC_dis  0.12749  0.17180  0.12638  0.18750  0.15415\n"
     ]
    },
    {
     "name": "stderr",
     "output_type": "stream",
     "text": [
      "Simulated annealing progress:  62%|██████▏   | 155031/250000 [10:09<06:20, 249.88iteration/s]"
     ]
    },
    {
     "name": "stdout",
     "output_type": "stream",
     "text": [
      "155000: Best Eval: 315.43118, PDAC: 0.01161, Tick: 155001\n"
     ]
    },
    {
     "name": "stderr",
     "output_type": "stream",
     "text": [
      "Simulated annealing progress:  64%|██████▍   | 160046/250000 [10:29<05:48, 257.78iteration/s]"
     ]
    },
    {
     "name": "stdout",
     "output_type": "stream",
     "text": [
      "160000: Best Eval: 315.43118, PDAC: 0.01161, Tick: 160001\n"
     ]
    },
    {
     "name": "stderr",
     "output_type": "stream",
     "text": [
      "Simulated annealing progress:  66%|██████▌   | 165029/250000 [10:49<05:44, 246.59iteration/s]"
     ]
    },
    {
     "name": "stdout",
     "output_type": "stream",
     "text": [
      "165000: Best Eval: 315.43118, PDAC: 0.01161, Tick: 165001\n"
     ]
    },
    {
     "name": "stderr",
     "output_type": "stream",
     "text": [
      "Simulated annealing progress:  68%|██████▊   | 170027/250000 [11:09<05:22, 248.14iteration/s]"
     ]
    },
    {
     "name": "stdout",
     "output_type": "stream",
     "text": [
      "170000: Best Eval: 315.43118, PDAC: 0.01161, Tick: 170001\n"
     ]
    },
    {
     "name": "stderr",
     "output_type": "stream",
     "text": [
      "Simulated annealing progress:  70%|███████   | 175027/250000 [11:28<04:50, 258.11iteration/s]"
     ]
    },
    {
     "name": "stdout",
     "output_type": "stream",
     "text": [
      "175000: Best Eval: 315.43118, PDAC: 0.01161, Tick: 175001\n"
     ]
    },
    {
     "name": "stderr",
     "output_type": "stream",
     "text": [
      "Simulated annealing progress:  72%|███████▏  | 180029/250000 [11:48<04:38, 251.03iteration/s]"
     ]
    },
    {
     "name": "stdout",
     "output_type": "stream",
     "text": [
      "180000: Best Eval: 315.43118, PDAC: 0.01161, Tick: 180001\n"
     ]
    },
    {
     "name": "stderr",
     "output_type": "stream",
     "text": [
      "Simulated annealing progress:  74%|███████▍  | 185048/250000 [12:08<04:31, 239.06iteration/s]"
     ]
    },
    {
     "name": "stdout",
     "output_type": "stream",
     "text": [
      "185000: Best Eval: 315.43118, PDAC: 0.01161, Tick: 185001\n"
     ]
    },
    {
     "name": "stderr",
     "output_type": "stream",
     "text": [
      "Simulated annealing progress:  76%|███████▌  | 190044/250000 [12:28<03:51, 258.83iteration/s]"
     ]
    },
    {
     "name": "stdout",
     "output_type": "stream",
     "text": [
      "190000: Best Eval: 315.43118, PDAC: 0.01161, Tick: 190001\n"
     ]
    },
    {
     "name": "stderr",
     "output_type": "stream",
     "text": [
      "Simulated annealing progress:  78%|███████▊  | 195032/250000 [12:47<03:31, 259.64iteration/s]"
     ]
    },
    {
     "name": "stdout",
     "output_type": "stream",
     "text": [
      "195000: Best Eval: 315.43118, PDAC: 0.01161, Tick: 195001\n"
     ]
    },
    {
     "name": "stderr",
     "output_type": "stream",
     "text": [
      "Simulated annealing progress:  80%|████████  | 200036/250000 [13:07<03:16, 254.67iteration/s]"
     ]
    },
    {
     "name": "stdout",
     "output_type": "stream",
     "text": [
      "200000: Best Eval: 315.43118, PDAC: 0.01161, Tick: 200001\n",
      "Detailed Progress Report, Iteration = 200000\n",
      "   From State    To State   Age 30   Age 75      Min      Max      Avg\n",
      "0     healthy  u_PDAC_loc  0.00139  0.00967  0.00000  0.00984  0.00595\n",
      "1  u_PDAC_loc  u_PDAC_reg  0.00149  0.00980  0.00000  0.01025  0.00621\n",
      "2  u_PDAC_reg  u_PDAC_dis  0.00503  0.02093  0.00000  0.03590  0.01976\n",
      "3  u_PDAC_loc  d_PDAC_loc  0.00016  0.00022  0.00005  0.00040  0.00014\n",
      "4  u_PDAC_reg  d_PDAC_reg  0.02729  0.00864  0.00682  0.03644  0.01614\n",
      "5  u_PDAC_dis  d_PDAC_dis  0.12749  0.17180  0.12638  0.18750  0.15415\n"
     ]
    },
    {
     "name": "stderr",
     "output_type": "stream",
     "text": [
      "Simulated annealing progress:  82%|████████▏ | 205037/250000 [13:26<02:54, 256.98iteration/s]"
     ]
    },
    {
     "name": "stdout",
     "output_type": "stream",
     "text": [
      "205000: Best Eval: 315.43118, PDAC: 0.01161, Tick: 205001\n"
     ]
    },
    {
     "name": "stderr",
     "output_type": "stream",
     "text": [
      "Simulated annealing progress:  84%|████████▍ | 210027/250000 [13:46<02:33, 259.57iteration/s]"
     ]
    },
    {
     "name": "stdout",
     "output_type": "stream",
     "text": [
      "210000: Best Eval: 315.43118, PDAC: 0.01161, Tick: 210001\n"
     ]
    },
    {
     "name": "stderr",
     "output_type": "stream",
     "text": [
      "Simulated annealing progress:  86%|████████▌ | 215042/250000 [14:05<02:13, 262.27iteration/s]"
     ]
    },
    {
     "name": "stdout",
     "output_type": "stream",
     "text": [
      "215000: Best Eval: 315.43118, PDAC: 0.01161, Tick: 215001\n"
     ]
    },
    {
     "name": "stderr",
     "output_type": "stream",
     "text": [
      "Simulated annealing progress:  88%|████████▊ | 220041/250000 [14:25<01:55, 259.14iteration/s]"
     ]
    },
    {
     "name": "stdout",
     "output_type": "stream",
     "text": [
      "220000: Best Eval: 315.43118, PDAC: 0.01161, Tick: 220001\n"
     ]
    },
    {
     "name": "stderr",
     "output_type": "stream",
     "text": [
      "Simulated annealing progress:  90%|█████████ | 225043/250000 [14:44<01:37, 256.08iteration/s]"
     ]
    },
    {
     "name": "stdout",
     "output_type": "stream",
     "text": [
      "225000: Best Eval: 315.43118, PDAC: 0.01161, Tick: 225001\n"
     ]
    },
    {
     "name": "stderr",
     "output_type": "stream",
     "text": [
      "Simulated annealing progress:  92%|█████████▏| 230049/250000 [15:04<01:16, 259.74iteration/s]"
     ]
    },
    {
     "name": "stdout",
     "output_type": "stream",
     "text": [
      "230000: Best Eval: 315.43118, PDAC: 0.01161, Tick: 230001\n"
     ]
    },
    {
     "name": "stderr",
     "output_type": "stream",
     "text": [
      "Simulated annealing progress:  94%|█████████▍| 235032/250000 [15:24<00:59, 251.41iteration/s]"
     ]
    },
    {
     "name": "stdout",
     "output_type": "stream",
     "text": [
      "235000: Best Eval: 315.43118, PDAC: 0.01161, Tick: 235001\n"
     ]
    },
    {
     "name": "stderr",
     "output_type": "stream",
     "text": [
      "Simulated annealing progress:  96%|█████████▌| 240041/250000 [15:44<00:39, 253.23iteration/s]"
     ]
    },
    {
     "name": "stdout",
     "output_type": "stream",
     "text": [
      "240000: Best Eval: 315.43118, PDAC: 0.01161, Tick: 240001\n"
     ]
    },
    {
     "name": "stderr",
     "output_type": "stream",
     "text": [
      "Simulated annealing progress:  98%|█████████▊| 245040/250000 [16:04<00:18, 265.11iteration/s]"
     ]
    },
    {
     "name": "stdout",
     "output_type": "stream",
     "text": [
      "245000: Best Eval: 315.43118, PDAC: 0.01161, Tick: 245001\n"
     ]
    },
    {
     "name": "stderr",
     "output_type": "stream",
     "text": [
      "Simulated annealing progress: 100%|██████████| 250000/250000 [16:23<00:00, 254.20iteration/s]\n"
     ]
    },
    {
     "name": "stdout",
     "output_type": "stream",
     "text": [
      "Best evaluation: 315.4311752516247\n",
      "Done.\n"
     ]
    }
   ],
   "source": [
    "result = np.load(\"../out/double/tmats/20241226_1726_tmat.npy\")\n",
    "lr=0.25\n",
    "for epoch in range(5):\n",
    "    print(f\"EPOCH {(epoch+1)}/5 ----------------------------------------------------------\")\n",
    "    result = run_sa(tmat=result, save_all=True, n_iterations=250000, step_size=lr, n_adj=3, starting_temp=10)\n",
    "    lr -= 0.025"
   ]
  },
  {
   "cell_type": "markdown",
   "metadata": {},
   "source": [
    "### Manhandling tmat avg risk"
   ]
  },
  {
   "cell_type": "code",
   "execution_count": 158,
   "metadata": {},
   "outputs": [
    {
     "data": {
      "image/png": "[encoded data removed]",
      "text/plain": [
       "<Figure size 640x480 with 1 Axes>"
      ]
     },
     "metadata": {},
     "output_type": "display_data"
    }
   ],
   "source": [
    "temp = tmat.copy()\n",
    "\n",
    "# Healthy to local\n",
    "temp[:30, 0, 1] *= 0.2\n",
    "temp[30:, 0, 1] *= 1.2\n",
    "temp[50:, 0, 1] *= 1.4\n",
    "\n",
    "# Loc to Reg\n",
    "temp[:, 1, 2] = 0.2\n",
    "temp[50:, 1, 2] = np.linspace(0.2, 0.05, 15)\n",
    "\n",
    "# Reg to Dis\n",
    "temp[:, 2, 3] = 0.45\n",
    "temp[25:35, 2, 3] = np.linspace(0.45, 0.55, 10)\n",
    "temp[35:, 2, 3] = 0.55\n",
    "temp[50:, 2, 3] = np.linspace(0.55, 0.5, 15)\n",
    "\n",
    "# Detection\n",
    "temp[:, 2, 5] = 0.3\n",
    "temp[:, 3, 6] = 0.50\n",
    "\n",
    "temp = temp[::5,:,:]\n",
    "tmat_smoothed = csaps([22.5,27.5,32.5,37.5,42.5,47.5,52.5,57.5,62.5,67.5,72.5,77.5,82.5], temp, axis=0, smooth=0.001)(c.ages_1y)\n",
    "tmat_smoothed = add_acm(tmat_smoothed)\n",
    "tmat_smoothed = add_csd(tmat_smoothed)\n",
    "tmat_smoothed = constrain_matrix(tmat_smoothed)\n",
    "tmat_smoothed = row_normalize(tmat_smoothed)\n",
    "p.plot_vs_seer(run_markov(tmat_smoothed)[0], c.seer_inc, show_plot=True)"
   ]
  },
  {
   "cell_type": "code",
   "execution_count": 159,
   "metadata": {},
   "outputs": [],
   "source": [
    "np.save(\"../out/tmats/20241219_2250.npy\", tmat_smoothed)"
   ]
  },
  {
   "cell_type": "code",
   "execution_count": 56,
   "metadata": {},
   "outputs": [
    {
     "data": {
      "text/plain": [
       "[<matplotlib.lines.Line2D at 0x1eda3b5a1e0>]"
      ]
     },
     "execution_count": 56,
     "metadata": {},
     "output_type": "execute_result"
    },
    {
     "data": {
      "image/png": "[encoded data removed]",
      "text/plain": [
       "<Figure size 640x480 with 1 Axes>"
      ]
     },
     "metadata": {},
     "output_type": "display_data"
    }
   ],
   "source": [
    "smooth=csaps(c.ages_5y, c.seer_inc_5y['LocalU'], smooth=0.01)(c.ages_1y)\n",
    "plt.plot(c.ages_1y, smooth, linestyle=\"--\")"
   ]
  },
  {
   "cell_type": "code",
   "execution_count": 17,
   "metadata": {},
   "outputs": [],
   "source": [
    "tmat=np.load(\"../out/tmats/20241219_2250_tmat.npy\")"
   ]
  },
  {
   "cell_type": "code",
   "execution_count": 19,
   "metadata": {},
   "outputs": [
    {
     "data": {
      "image/png": "[encoded data removed]",
      "text/plain": [
       "<Figure size 640x480 with 1 Axes>"
      ]
     },
     "metadata": {},
     "output_type": "display_data"
    },
    {
     "data": {
      "image/png": "[encoded data removed]",
      "text/plain": [
       "<Figure size 640x480 with 1 Axes>"
      ]
     },
     "metadata": {},
     "output_type": "display_data"
    }
   ],
   "source": [
    "temp = tmat[::5,:,:].copy()\n",
    "tmat_smoothed = csaps([22.5,27.5,32.5,37.5,42.5,47.5,52.5,57.5,62.5,67.5,72.5,77.5,82.5], temp, axis=0, smooth=0.001)(c.ages_1y)\n",
    "tmat_smoothed = add_acm(tmat_smoothed)\n",
    "tmat_smoothed = add_csd(tmat_smoothed)\n",
    "tmat_smoothed = constrain_matrix(tmat_smoothed)\n",
    "tmat_smoothed = row_normalize(tmat_smoothed)\n",
    "p.plot_vs_seer(run_markov(tmat_smoothed)[0], c.seer_inc, show_plot=True)\n",
    "p.plot_vs_seer(run_markov(tmat)[0], c.seer_inc, show_plot=True)"
   ]
  },
  {
   "cell_type": "code",
   "execution_count": null,
   "metadata": {},
   "outputs": [],
   "source": [
    "np.save(\"../out/tmats/20241220_0723_tmat.npy\", tmat_smoothed)"
   ]
  },
  {
   "cell_type": "markdown",
   "metadata": {},
   "source": [
    "### Manhandling tmat double risk"
   ]
  },
  {
   "cell_type": "code",
   "execution_count": 8,
   "metadata": {},
   "outputs": [],
   "source": [
    "tmat = np.load(\"../out/double/tmats/20241226_1938_tmat.npy\")"
   ]
  },
  {
   "cell_type": "code",
   "execution_count": 24,
   "metadata": {},
   "outputs": [
    {
     "data": {
      "text/html": [
       "<div>\n",
       "<style scoped>\n",
       "    .dataframe tbody tr th:only-of-type {\n",
       "        vertical-align: middle;\n",
       "    }\n",
       "\n",
       "    .dataframe tbody tr th {\n",
       "        vertical-align: top;\n",
       "    }\n",
       "\n",
       "    .dataframe thead th {\n",
       "        text-align: right;\n",
       "    }\n",
       "</style>\n",
       "<table border=\"1\" class=\"dataframe\">\n",
       "  <thead>\n",
       "    <tr style=\"text-align: right;\">\n",
       "      <th></th>\n",
       "      <th>From State</th>\n",
       "      <th>To State</th>\n",
       "      <th>Age 30</th>\n",
       "      <th>Age 75</th>\n",
       "      <th>Min</th>\n",
       "      <th>Max</th>\n",
       "      <th>Avg</th>\n",
       "    </tr>\n",
       "  </thead>\n",
       "  <tbody>\n",
       "    <tr>\n",
       "      <th>0</th>\n",
       "      <td>healthy</td>\n",
       "      <td>u_PDAC_loc</td>\n",
       "      <td>0.00139</td>\n",
       "      <td>0.00996</td>\n",
       "      <td>0.00000</td>\n",
       "      <td>0.01060</td>\n",
       "      <td>0.00607</td>\n",
       "    </tr>\n",
       "    <tr>\n",
       "      <th>1</th>\n",
       "      <td>u_PDAC_loc</td>\n",
       "      <td>u_PDAC_reg</td>\n",
       "      <td>0.00150</td>\n",
       "      <td>0.01009</td>\n",
       "      <td>0.00000</td>\n",
       "      <td>0.01104</td>\n",
       "      <td>0.00633</td>\n",
       "    </tr>\n",
       "    <tr>\n",
       "      <th>2</th>\n",
       "      <td>u_PDAC_reg</td>\n",
       "      <td>u_PDAC_dis</td>\n",
       "      <td>0.00518</td>\n",
       "      <td>0.02172</td>\n",
       "      <td>0.00000</td>\n",
       "      <td>0.03655</td>\n",
       "      <td>0.02027</td>\n",
       "    </tr>\n",
       "    <tr>\n",
       "      <th>3</th>\n",
       "      <td>u_PDAC_loc</td>\n",
       "      <td>d_PDAC_loc</td>\n",
       "      <td>0.00016</td>\n",
       "      <td>0.00023</td>\n",
       "      <td>0.00005</td>\n",
       "      <td>0.00043</td>\n",
       "      <td>0.00015</td>\n",
       "    </tr>\n",
       "    <tr>\n",
       "      <th>4</th>\n",
       "      <td>u_PDAC_reg</td>\n",
       "      <td>d_PDAC_reg</td>\n",
       "      <td>0.02732</td>\n",
       "      <td>0.00890</td>\n",
       "      <td>0.00735</td>\n",
       "      <td>0.03647</td>\n",
       "      <td>0.01626</td>\n",
       "    </tr>\n",
       "    <tr>\n",
       "      <th>5</th>\n",
       "      <td>u_PDAC_dis</td>\n",
       "      <td>d_PDAC_dis</td>\n",
       "      <td>0.12766</td>\n",
       "      <td>0.17680</td>\n",
       "      <td>0.12658</td>\n",
       "      <td>0.18998</td>\n",
       "      <td>0.15622</td>\n",
       "    </tr>\n",
       "  </tbody>\n",
       "</table>\n",
       "</div>"
      ],
      "text/plain": [
       "   From State    To State   Age 30   Age 75      Min      Max      Avg\n",
       "0     healthy  u_PDAC_loc  0.00139  0.00996  0.00000  0.01060  0.00607\n",
       "1  u_PDAC_loc  u_PDAC_reg  0.00150  0.01009  0.00000  0.01104  0.00633\n",
       "2  u_PDAC_reg  u_PDAC_dis  0.00518  0.02172  0.00000  0.03655  0.02027\n",
       "3  u_PDAC_loc  d_PDAC_loc  0.00016  0.00023  0.00005  0.00043  0.00015\n",
       "4  u_PDAC_reg  d_PDAC_reg  0.02732  0.00890  0.00735  0.03647  0.01626\n",
       "5  u_PDAC_dis  d_PDAC_dis  0.12766  0.17680  0.12658  0.18998  0.15622"
      ]
     },
     "execution_count": 24,
     "metadata": {},
     "output_type": "execute_result"
    }
   ],
   "source": [
    "p.extract_transition_probs(tmat, type=\"treeage\", metric=\"avg\", age_range=c.ages_1y)"
   ]
  },
  {
   "cell_type": "markdown",
   "metadata": {},
   "source": [
    "There is no reason that u_Reg to d_Reg should be less than 10%... I think I need to introduce some constraints. "
   ]
  },
  {
   "cell_type": "markdown",
   "metadata": {},
   "source": [
    "## Post-processing"
   ]
  },
  {
   "cell_type": "code",
   "execution_count": 28,
   "metadata": {},
   "outputs": [],
   "source": [
    "def smooth_tmat(mat, save=False, outpath=c.OUTPUT_PATHS['tmats'], timestamp=\"\"): # (sex: 2, race: 2, age_buckets: 10, state: 18, state: 18)\n",
    "    \n",
    "    # Anchor with mean at 100 and Smooth interpolation over age\n",
    "    tmat_anchored = np.concatenate([mat, np.minimum(mat[-1:, :, :], np.mean(mat, axis=0, keepdims=True))], axis=0) # take mean of values over age buckets and set at age 100 (only if mean lower than last age bucket)\n",
    "    tmat = csaps([25,35,45,52.5,57.5,62.5,67.5,72.5,77.5,82.5], mat, smooth=0.01, axis=0)(np.linspace(20,100,81)) # interpolation without anchoring\n",
    "    tmat_anchored = csaps([25,35,45,52.5,57.5,62.5,67.5,72.5,77.5,82.5,100], tmat_anchored, smooth=0.01, axis=0)(np.linspace(20,100,81)).clip(0.0, 1.0)\n",
    "\n",
    "    # If smoothed tmat is exp increasing towards end, used anchored probs\n",
    "    increasing_at_100 = tmat[-2:-1, :, :] < tmat[-1:, :, :]\n",
    "    tmat_anchored = np.where(increasing_at_100, tmat_anchored, tmat)\n",
    "    transition_mask = np.zeros((13, 13), dtype=bool)\n",
    "    from_states, to_states= c.transitions_itos.keys()\n",
    "    transition_mask[from_states, to_states] = True\n",
    "    tmat_anchored = np.where(increasing_at_100 & transition_mask[np.newaxis, ...], tmat_anchored, tmat)\n",
    "\n",
    "    tmat = tmat_anchored\n",
    "    tmat = row_normalize(tmat)\n",
    "\n",
    "    if save:\n",
    "      os.makedirs(outpath, exist_ok=True)\n",
    "      name = f\"tmat_{timestamp}\"\n",
    "      np.save(f\"{outpath}/{name}.npy\", tmat)\n",
    "      \n",
    "    return tmat"
   ]
  },
  {
   "cell_type": "code",
   "execution_count": 31,
   "metadata": {},
   "outputs": [
    {
     "data": {
      "image/png": "[encoded data removed]",
      "text/plain": [
       "<Figure size 1000x500 with 6 Axes>"
      ]
     },
     "metadata": {},
     "output_type": "display_data"
    }
   ],
   "source": [
    "p.plot_params(result, show_plot=True)\n",
    "markov_tmat = result\n",
    "treeage_tmat = smooth_tmat(markov_tmat, save=False, timestamp=\"20241218_1605\")\n",
    "p.plot_params(markov_tmat, treeage_tmat, save_imgs=False, show_plot=True)"
   ]
  },
  {
   "cell_type": "markdown",
   "metadata": {},
   "source": [
    "### Sojourn times (come back later)"
   ]
  },
  {
   "cell_type": "code",
   "execution_count": 8,
   "metadata": {},
   "outputs": [
    {
     "name": "stdout",
     "output_type": "stream",
     "text": [
      "[ 9.242638983  9.144135678  9.048945383  8.957385353  8.869105969  8.783535464  8.700025200  8.618639626  8.538966578  8.461144263  8.385411792  8.311878992  8.240429363  8.171276166  8.104339088  8.039165376  7.975992482  7.915140784  7.856662344  7.800204778  7.745089195  7.691003524  7.637836677\n",
      "  7.585572069  7.534315127  7.483885900  7.434284092  7.385505084  7.337328716  7.289244414  7.241702916  7.193991891  7.144917020  7.094489973  7.043770407  6.994253749  6.945881586  6.897412505  6.848076170  6.797774461  6.746434139  6.695278120  6.645320441  6.597111196  6.549582097  6.501442204\n",
      "  6.449376386  6.395371526  6.338205659  6.278191419  6.216234165  6.149672338  6.085499349  5.999418085  5.923526163  5.832141131  5.743434043  5.637694661  5.533300249  5.420961133  5.304933966  5.181399963  5.039498691  4.892215559  4.747208732]\n",
      "[ 3.577456701  3.538797869  3.501370334  3.465235886  3.430281440  3.396337049  3.363214378  3.330912254  3.299306101  3.268415833  3.238288205  3.208936438  3.180315604  3.152466037  3.125356716  3.098865935  3.073048964  3.047981492  3.023670642  3.000026294  2.976881978  2.954165149  2.931854190\n",
      "  2.909951269  2.888491752  2.867442682  2.846815780  2.826621323  2.806816227  2.787285705  2.768150275  2.749245327  2.730290275  2.711299161  2.692535034  2.674359916  2.656757734  2.639427088  2.622181364  2.604991113  2.587827486  2.570973320  2.554660943  2.539011152  2.523752321  2.508556276\n",
      "  2.492606305  2.476362498  2.459510683  2.442105581  2.424345357  2.405561565  2.387435868  2.364004557  2.343089643  2.318359707  2.294261554  2.265865741  2.237703911  2.207415093  2.176029893  2.142528895  2.104021191  2.063755233  2.023696629]\n"
     ]
    }
   ],
   "source": [
    "tmat = np.load(\"../out/avg/tmats/20241220_0922_tmat.npy\")\n",
    "cp = gof.cancer_progression(tmat)\n",
    "st = gof.sojourn_time(tmat)\n",
    "print(cp)\n",
    "print(st)"
   ]
  },
  {
   "cell_type": "code",
   "execution_count": null,
   "metadata": {},
   "outputs": [
    {
     "data": {
      "text/plain": [
       "<matplotlib.legend.Legend at 0x21f7ed8f5c0>"
      ]
     },
     "execution_count": 16,
     "metadata": {},
     "output_type": "execute_result"
    },
    {
     "data": {
      "image/png": "[encoded data removed]",
      "text/plain": [
       "<Figure size 640x480 with 1 Axes>"
      ]
     },
     "metadata": {},
     "output_type": "display_data"
    }
   ],
   "source": [
    "plt.plot(c.ages_1y, cp, linestyle='--', label=\"Mean cancer progression times\")\n",
    "plt.plot(c.ages_1y, st, linestyle='--', label=\"Mean sojourn times\")\n",
    "plt.xlabel(\"Age\")\n",
    "plt.ylabel(\"Time (years)\")\n",
    "plt.legend()"
   ]
  },
  {
   "cell_type": "code",
   "execution_count": null,
   "metadata": {},
   "outputs": [],
   "source": []
  }
 ],
 "metadata": {
  "kernelspec": {
   "display_name": "drcrc_env",
   "language": "python",
   "name": "python3"
  },
  "language_info": {
   "codemirror_mode": {
    "name": "ipython",
    "version": 3
   },
   "file_extension": ".py",
   "mimetype": "text/x-python",
   "name": "python",
   "nbconvert_exporter": "python",
   "pygments_lexer": "ipython3",
   "version": "3.12.4"
  }
 },
 "nbformat": 4,
 "nbformat_minor": 2
}
