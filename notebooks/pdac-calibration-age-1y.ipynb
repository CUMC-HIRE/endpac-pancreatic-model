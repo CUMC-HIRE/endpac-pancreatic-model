{
 "cells": [
  {
   "cell_type": "markdown",
   "metadata": {},
   "source": [
    "# PDAC Calibration - 1y probability changes\n",
    "\n",
    "Author: Sophie Wagner, sw3767@cumc.columbia.edu"
   ]
  },
  {
   "cell_type": "code",
   "execution_count": 1,
   "metadata": {},
   "outputs": [],
   "source": [
    "# Required Packages\n",
    "import numpy as np  # For matrix manipulation\n",
    "import pandas as pd  # For output/input data processing\n",
    "import matplotlib.pyplot as plt  # For visualizations\n",
    "from csaps import csaps\n",
    "from tqdm import tqdm\n",
    "from datetime import datetime\n",
    "import random \n",
    "\n",
    "# Add the src directory to the Python path\n",
    "import sys\n",
    "import os\n",
    "sys.path.append(os.path.abspath('../src'))\n",
    "\n",
    "# Load .py files\n",
    "import common_functions as func\n",
    "import calibration_plots as p\n",
    "import configs as c\n",
    "import gof\n",
    "\n",
    "# Some aesthetic options\n",
    "np.set_printoptions(suppress=True, linewidth=300, formatter={'float': '{: 0.9f}'.format})\n",
    "pd.set_option('display.max_columns', None)\n",
    "pd.set_option('display.max_rows', None)"
   ]
  },
  {
   "cell_type": "markdown",
   "metadata": {},
   "source": [
    "## Set up matrix"
   ]
  },
  {
   "cell_type": "code",
   "execution_count": 68,
   "metadata": {},
   "outputs": [],
   "source": [
    "def row_normalize(matrix):\n",
    "    for age_layer in range(matrix.shape[0]):  # Loop over each age layer\n",
    "        layer = matrix[age_layer]\n",
    "        for row_idx in range(layer.shape[0]):  # Loop over each row\n",
    "            row = layer[row_idx]\n",
    "            \n",
    "            # Exclude diagonal (stay-in-state) and ACM (all-cause mortality) from scaling\n",
    "            non_diag_sum = np.sum(row) - row[row_idx] \n",
    "            \n",
    "            if non_diag_sum > 1:  # If the non-diag probabilities exceed 1\n",
    "                scaling_factor = 1 / non_diag_sum\n",
    "                row *= scaling_factor  # Scale \n",
    "            \n",
    "            # Adjust diagonal (stay-in-state probability)\n",
    "            row[row_idx] = max(0, 1 - non_diag_sum)\n",
    "    \n",
    "    return matrix.clip(0.0,1.0)\n",
    "\n",
    "def create_matrix():\n",
    "    \n",
    "    matrix = np.zeros((len(c.age_layers), len(c.health_states_itos), len(c.health_states_itos)))\n",
    "    age_50_idx = 6 if c.param_interval == 5 else 30\n",
    "    matrix[:, 0, 1] = 1-(1-0.0011)**(1/25) # average risk after 50 ~ 0.0011, transformed to annual prob\n",
    "    matrix[:age_50_idx, 0, 1] = np.linspace(0.000001,matrix[-1,0,1],age_50_idx)\n",
    "    matrix[:, 1, 2] = c.model_inputs_dict['p_Local_to_Regional_PC']  \n",
    "    matrix[:, 2, 3] = c.model_inputs_dict['p_Regional_to_Distant_PC']\n",
    "    matrix[:, 1, 4] = c.model_inputs_dict['p_symptom_local'] \n",
    "    matrix[:, 2, 5] = c.model_inputs_dict['p_symptom_regional']\n",
    "    matrix[:, 3, 6] = c.model_inputs_dict['p_symptom_distant']\n",
    "    \n",
    "    matrix = add_acm(matrix)  # ACM\n",
    "    matrix = add_csd(matrix)  # CSD\n",
    "    matrix = constrain_matrix(matrix)  # constrain\n",
    "    matrix = row_normalize(matrix)  # normalize\n",
    "\n",
    "    return matrix\n",
    "\n",
    "\n",
    "def constrain_matrix(matrix):\n",
    "    \n",
    "    matrix[:, 0, 1] = np.maximum(matrix[:,0,1], 0.0000001)\n",
    "    matrix[:, 0, 1] = np.maximum.accumulate(matrix[:, 0, 1])\n",
    "    matrix[:, 1, 2] = np.maximum(matrix[:, 0, 1], matrix[:, 1, 2])\n",
    "    matrix[:, 2, 3] = np.maximum(matrix[:, 1, 2], matrix[:, 2, 3])\n",
    "    matrix[:, 2, 5] = np.maximum(matrix[:, 1, 4], matrix[:, 2, 5])\n",
    "    matrix[:, 3, 6] = np.maximum(matrix[:, 2, 5], matrix[:, 3, 6])\n",
    "    \n",
    "    return matrix\n",
    "\n",
    "\n",
    "def add_acm(matrix):\n",
    "    \n",
    "    # Note: c.acm_rates configured for either 1y or 5y acm\n",
    "    matrix[:, :7, 8] = c.acm_rates[:, np.newaxis]\n",
    "    matrix[:, 8, 8] = 1\n",
    "    \n",
    "    return matrix\n",
    "\n",
    "\n",
    "def add_csd(matrix):  # Constant death rate in calibration\n",
    "    \n",
    "    matrix[:, 4, 7] = c.model_inputs_dict['p_local_death']\n",
    "    matrix[:, 5, 7] = c.model_inputs_dict['p_regional_death']\n",
    "    matrix[:, 6, 7] = c.model_inputs_dict['p_distant_death']\n",
    "    matrix[:, 7, 7] = 1\n",
    "    \n",
    "    return matrix"
   ]
  },
  {
   "cell_type": "markdown",
   "metadata": {},
   "source": [
    "## Markov model"
   ]
  },
  {
   "cell_type": "code",
   "execution_count": 61,
   "metadata": {},
   "outputs": [],
   "source": [
    "def run_markov(matrix, starting_age=20, max_age=84):\n",
    "    \n",
    "    current_age = starting_age\n",
    "    age_layer = 0\n",
    "    month_pop, pop_log = c.starting_pop, c.starting_pop  # (13, 1)\n",
    "    inc_log = np.zeros(pop_log.shape)  # to track new incidences in each state\n",
    "    matrixT = matrix.transpose(0,2,1)  # (13, 9, 9)\n",
    "    inflow_matrix = np.tril(matrixT, k=-1)\n",
    "    \n",
    "    while current_age < max_age:            \n",
    "\n",
    "        # Matrix multiplication (state transition)\n",
    "        mat, inflow_mat = matrixT[age_layer], inflow_matrix[age_layer] \n",
    "        month_inc = np.matmul(inflow_mat, month_pop)  # (9, 9)(9, 1)->(9, 1)\n",
    "        month_pop = np.matmul(mat, month_pop)  # (9, 9)(9, 1)->(9, 1)\n",
    "         \n",
    "        # Add to log\n",
    "        inc_log = np.concatenate((inc_log, month_inc), axis=1)  # (13, 65)\n",
    "        pop_log = np.concatenate((pop_log, month_pop), axis=1)  # (13, 65)\n",
    "        \n",
    "        current_age += 1\n",
    "        if current_age in c.ages_5y:\n",
    "            age_layer += 1\n",
    "            \n",
    "    incidence, incidence_unadj = inc_log.copy(), inc_log.copy()\n",
    "    dead_factor = np.divide(c.N, c.N - pop_log[7:, :].sum(axis=0))  # inc and prev denominator is out of living only\n",
    "    prevalence = np.zeros(pop_log.shape) \n",
    "\n",
    "    for state in range(9):\n",
    "        incidence[state, :] = np.multiply(incidence[state, :], dead_factor)\n",
    "        prevalence[state, :] = np.multiply(pop_log[state, :], dead_factor)\n",
    "\n",
    "    return incidence, prevalence, incidence_unadj, pop_log"
   ]
  },
  {
   "cell_type": "markdown",
   "metadata": {},
   "source": [
    "## Calibration"
   ]
  },
  {
   "cell_type": "code",
   "execution_count": 69,
   "metadata": {},
   "outputs": [],
   "source": [
    "def step(matrix, step_size, num_adj=3):\n",
    "    points = list(c.transitions_itos.keys()) \n",
    "    step_tp = random.choices(points, k=num_adj)\n",
    "    step_age = random.choices(c.age_layers_5y, k=num_adj)\n",
    "    # print(f\"selected transitions: {step_tp}\")\n",
    "    # print(f\"selected ages: {step_age}\")\n",
    "    small_matrix = matrix[2::5, :, :]\n",
    "    # print(f\"old matrix: {matrix}\")\n",
    "    # print(f\"small_matrix: {new_matrix}\")\n",
    "    assert small_matrix.shape[0] == 13\n",
    "    for i in range(num_adj):\n",
    "        (from_state, to_state), age = step_tp[i], step_age[i]\n",
    "        old_param = small_matrix[age, from_state, to_state] \n",
    "        step_param = old_param * step_size\n",
    "        small_matrix[age, from_state, to_state] += np.random.uniform(low=-step_param, high=step_param)\n",
    "        # print(f\"{from_state} -> {to_state} , age_layer {age}: old = {round(old_param,5)} ; new = {round(new_matrix[age, from_state, to_state],5)}\")\n",
    "    \n",
    "    # print(f\"new matrix after adj, pre constraints: {new_matrix}\")\n",
    "    small_matrix[-1, :, :] = np.minimum(small_matrix[-1, :, :], small_matrix[-2, :, :])\n",
    "    new_matrix = csaps([22.5,27.5,32.5,37.5,42.5,47.5,52.5,57.5,62.5,67.5,72.5,77.5,82.5], small_matrix, axis=0, smooth=0.001)(c.ages_1y).clip(0.0,1.0)\n",
    "    assert new_matrix.shape[0]==65\n",
    "    \n",
    "    # print(f\"new matrix after smoothing: {new_matrix}\")\n",
    "    \n",
    "    # # new_matrix = constrain_matrix(new_matrix)\n",
    "    # # new_matrix = add_acm(new_matrix)\n",
    "    # # new_matrix = add_csd(new_matrix)\n",
    "    # # new_matrix = row_normalize(new_matrix)\n",
    "    \n",
    "    # print(f\"new matrix after constraints: {new_matrix}\")\n",
    "\n",
    "    return new_matrix"
   ]
  },
  {
   "cell_type": "code",
   "execution_count": 70,
   "metadata": {},
   "outputs": [],
   "source": [
    "def simulated_annealing(n_iterations, step_size, start_tmat, n_adj=5, starting_temp = 1, verbose=False, print_interval=1000):\n",
    "\n",
    "    best_t = np.copy(start_tmat)\n",
    "    best_log = run_markov(best_t)\n",
    "    best_eval = gof.objective(best_log)  # evaluate the initial point\n",
    "    curr_t, curr_eval = best_t, best_eval  # current working solution\n",
    "    ticker = 0\n",
    "\n",
    "    with tqdm(total=n_iterations, desc=\"Simulated annealing progress\", unit=\"iteration\") as pbar:\n",
    "        \n",
    "        for i in range(n_iterations):\n",
    "\n",
    "            # Run model\n",
    "            candidate_t = np.copy(curr_t)\n",
    "            candidate_t = step(candidate_t, step_size, n_adj)\n",
    "            candidate_log = run_markov(candidate_t)\n",
    "            candidate_eval = gof.objective(candidate_log)  # Evaluate candidate point\n",
    "\n",
    "            # Update \"best\" if better than candidate\n",
    "            if candidate_eval < best_eval:\n",
    "                ticker = 0\n",
    "                best_t, best_eval = np.copy(candidate_t), np.copy(candidate_eval)\n",
    "                best_log = run_markov(best_t)\n",
    "\n",
    "            else:\n",
    "                ticker += 1\n",
    "\n",
    "            t = starting_temp / (1 + 0.1 * np.log(i + 1))  # Slower cooling\n",
    "\n",
    "            # Progress report\n",
    "            if verbose and i>0 and i % print_interval == 0:\n",
    "                log_adj, _, inc_log, _ = best_log\n",
    "                total_dxd = np.sum(inc_log[4:7, :]) / c.N\n",
    "                print(i, \": \", best_eval, \"   PDAC: \", round(total_dxd, 5),\"   tick:\",ticker)\n",
    "                if i % 50000 == 0:\n",
    "                    transition_probs = p.extract_transition_probs(best_t, metric=\"avg\")\n",
    "                    print(f\"Progress report, i = {i}\")\n",
    "                    print(transition_probs)\n",
    "                    p.plot_vs_seer(log_adj, c.seer_inc)\n",
    "\n",
    "            # Check if we should update \"curr\"\n",
    "            diff = (candidate_eval - curr_eval)  # difference between candidate and current point evaluation\n",
    "            metropolis = np.exp(-diff / t)  # calculate metropolis acceptance criterion\n",
    "            if (diff < 0 or np.random.random() < metropolis):  # check if we should keep the new point\n",
    "                curr_t, curr_eval = np.copy(candidate_t), np.copy(candidate_eval)  # store the new current point\n",
    "                ticker = 0\n",
    "\n",
    "            pbar.update(1)\n",
    "\n",
    "    print(best_eval)\n",
    "    \n",
    "    return best_t"
   ]
  },
  {
   "cell_type": "markdown",
   "metadata": {},
   "source": [
    "## Run "
   ]
  },
  {
   "cell_type": "code",
   "execution_count": 64,
   "metadata": {},
   "outputs": [],
   "source": [
    "def run_sa(tmat=None, save_all=False, n_iterations=50000, step_size=0.2, n_adj=5, starting_temp=1, print_interval=5000):\n",
    "    start_tmat = None\n",
    "    if tmat is not None:\n",
    "        start_tmat = tmat\n",
    "    else:\n",
    "        start_tmat = create_matrix()\n",
    "        print(start_tmat[0])\n",
    "        \n",
    "    initial_score = gof.objective(run_markov(start_tmat))\n",
    "    print(f\"Initial score: {round(initial_score, 5)}\")\n",
    "    print(\"Starting calibration...\")\n",
    "    result = simulated_annealing(n_iterations=n_iterations, step_size=step_size, start_tmat=start_tmat, n_adj=n_adj, starting_temp=starting_temp, verbose=True, print_interval=print_interval)\n",
    "    \n",
    "    # Gather results\n",
    "    timestamp = datetime.now().strftime(\"%Y%m%d_%H%M\")\n",
    "    curr_tmat = result.copy()\n",
    "    curr_log = run_markov(curr_tmat)\n",
    "    final_score = gof.objective(curr_log)\n",
    "    log_adj, log_prev, log_inc, pop_log = curr_log\n",
    "    tps = p.extract_transition_probs(curr_tmat, \"markov\", metric=\"avg\", save=save_all, timestamp=timestamp)\n",
    "    \n",
    "    print(\"Done.\")\n",
    "    print(\"\\nOUTPUTS:\")\n",
    "    \n",
    "    # Saving\n",
    "    if save_all:\n",
    "        log_path, tmat_path, plot_path = c.OUTPUT_PATHS[\"logs\"], c.OUTPUT_PATHS[\"tmats\"], c.OUTPUT_PATHS[\"plots\"]\n",
    "        np.save(f\"{tmat_path}/{timestamp}_tmat.npy\", curr_tmat)\n",
    "        pd.DataFrame(log_adj).to_csv(f\"{log_path}/{timestamp}_inc_adj.csv\")\n",
    "        pd.DataFrame(log_prev).to_csv(f\"{log_path}/{timestamp}_prev.csv\")\n",
    "        pd.DataFrame(log_inc).to_csv(f\"{log_path}/{timestamp}_inc_unadj.csv\")\n",
    "        pd.DataFrame(pop_log.T).to_csv(f\"{log_path}/{timestamp}_pop_log.csv\")\n",
    "        p.plot_vs_seer(log_adj, c.seer_inc, save_imgs=True, show_plot=False, outpath=plot_path, timestamp=timestamp)\n",
    "        p.plot_vs_seer_total(log_adj, c.seer_inc, save_imgs=True, show_plot=False, outpath=plot_path, timestamp=timestamp)\n",
    "        \n",
    "    # else:\n",
    "        # print(tps)\n",
    "        # p.plot_vs_seer(log_adj, c.seer_inc, show_plot=True)\n",
    "        # p.plot_vs_seer_total(log_adj, c.seer_inc, show_plot=True)\n",
    "        # p.plot_params(curr_tmat,  show_plot=True)\n",
    "\n",
    "    return curr_tmat"
   ]
  },
  {
   "cell_type": "code",
   "execution_count": 65,
   "metadata": {},
   "outputs": [
    {
     "name": "stdout",
     "output_type": "stream",
     "text": [
      "EPOCH 1/5 ----------------------------------------------------------\n",
      "[[ 0.999242000  0.000010000  0.000000000  0.000000000  0.000000000  0.000000000  0.000000000  0.000000000  0.000748000]\n",
      " [ 0.000000000  0.399252000  0.500000000  0.000000000  0.100000000  0.000000000  0.000000000  0.000000000  0.000748000]\n",
      " [ 0.000000000  0.000000000  0.119252000  0.500000000  0.000000000  0.380000000  0.000000000  0.000000000  0.000748000]\n",
      " [ 0.000000000  0.000000000  0.000000000  0.479252000  0.000000000  0.000000000  0.520000000  0.000000000  0.000748000]\n",
      " [ 0.000000000  0.000000000  0.000000000  0.000000000  0.789252000  0.000000000  0.000000000  0.210000000  0.000748000]\n",
      " [ 0.000000000  0.000000000  0.000000000  0.000000000  0.000000000  0.659252000  0.000000000  0.340000000  0.000748000]\n",
      " [ 0.000000000  0.000000000  0.000000000  0.000000000  0.000000000  0.000000000  0.499252000  0.500000000  0.000748000]\n",
      " [ 0.000000000  0.000000000  0.000000000  0.000000000  0.000000000  0.000000000  0.000000000  1.000000000  0.000000000]\n",
      " [ 0.000000000  0.000000000  0.000000000  0.000000000  0.000000000  0.000000000  0.000000000  0.000000000  1.000000000]]\n",
      "Initial score: 2630.64117\n",
      "Starting calibration...\n"
     ]
    },
    {
     "name": "stderr",
     "output_type": "stream",
     "text": [
      "Simulated annealing progress:   3%|▎         | 5063/200000 [00:13<08:36, 377.60iteration/s]"
     ]
    },
    {
     "name": "stdout",
     "output_type": "stream",
     "text": [
      "5000 :  1283.088176083722    PDAC:  0.00716    tick: 139\n"
     ]
    },
    {
     "name": "stderr",
     "output_type": "stream",
     "text": [
      "Simulated annealing progress:   5%|▌         | 10023/200000 [00:29<17:37, 179.67iteration/s]"
     ]
    },
    {
     "name": "stdout",
     "output_type": "stream",
     "text": [
      "10000 :  1192.7163806417395    PDAC:  0.00787    tick: 1527\n"
     ]
    },
    {
     "name": "stderr",
     "output_type": "stream",
     "text": [
      "Simulated annealing progress:   8%|▊         | 15026/200000 [00:47<14:38, 210.44iteration/s]"
     ]
    },
    {
     "name": "stdout",
     "output_type": "stream",
     "text": [
      "15000 :  1138.3723413301964    PDAC:  0.00843    tick: 583\n"
     ]
    },
    {
     "name": "stderr",
     "output_type": "stream",
     "text": [
      "Simulated annealing progress:  10%|█         | 20067/200000 [01:04<07:54, 378.98iteration/s]"
     ]
    },
    {
     "name": "stdout",
     "output_type": "stream",
     "text": [
      "20000 :  1047.3492385042475    PDAC:  0.00902    tick: 1214\n"
     ]
    },
    {
     "name": "stderr",
     "output_type": "stream",
     "text": [
      "Simulated annealing progress:  13%|█▎        | 25052/200000 [01:17<07:55, 367.99iteration/s]"
     ]
    },
    {
     "name": "stdout",
     "output_type": "stream",
     "text": [
      "25000 :  1035.0729305369618    PDAC:  0.00898    tick: 282\n"
     ]
    },
    {
     "name": "stderr",
     "output_type": "stream",
     "text": [
      "Simulated annealing progress:  15%|█▌        | 30052/200000 [01:31<07:24, 382.51iteration/s]"
     ]
    },
    {
     "name": "stdout",
     "output_type": "stream",
     "text": [
      "30000 :  1035.0729305369618    PDAC:  0.00898    tick: 5282\n"
     ]
    },
    {
     "name": "stderr",
     "output_type": "stream",
     "text": [
      "Simulated annealing progress:  18%|█▊        | 35056/200000 [01:45<07:22, 372.88iteration/s]"
     ]
    },
    {
     "name": "stdout",
     "output_type": "stream",
     "text": [
      "35000 :  1014.9819660354613    PDAC:  0.00943    tick: 704\n"
     ]
    },
    {
     "name": "stderr",
     "output_type": "stream",
     "text": [
      "Simulated annealing progress:  20%|██        | 40042/200000 [01:58<07:17, 365.43iteration/s]"
     ]
    },
    {
     "name": "stdout",
     "output_type": "stream",
     "text": [
      "40000 :  1004.534928222706    PDAC:  0.01035    tick: 3298\n"
     ]
    },
    {
     "name": "stderr",
     "output_type": "stream",
     "text": [
      "Simulated annealing progress:  23%|██▎       | 45042/200000 [02:12<06:50, 377.15iteration/s]"
     ]
    },
    {
     "name": "stdout",
     "output_type": "stream",
     "text": [
      "45000 :  998.0028858644636    PDAC:  0.00949    tick: 1008\n"
     ]
    },
    {
     "name": "stderr",
     "output_type": "stream",
     "text": [
      "Simulated annealing progress:  25%|██▌       | 50039/200000 [02:25<06:45, 369.90iteration/s]"
     ]
    },
    {
     "name": "stdout",
     "output_type": "stream",
     "text": [
      "50000 :  967.7480074503051    PDAC:  0.00942    tick: 391\n",
      "Progress report, i = 50000\n",
      "   From State    To State   Age 30   Age 75      Min      Max      Avg\n",
      "0     healthy  u_PDAC_loc  0.00006  0.00005  0.00005  0.00006  0.00006\n",
      "1  u_PDAC_loc  u_PDAC_reg  0.82319  0.99713  0.64592  1.00000  0.93609\n",
      "2  u_PDAC_reg  u_PDAC_dis  0.96400  0.87198  0.79130  1.00000  0.94500\n",
      "3  u_PDAC_loc  d_PDAC_loc  0.09293  0.08547  0.08242  0.09306  0.09016\n",
      "4  u_PDAC_reg  d_PDAC_reg  0.47395  0.35219  0.31819  0.49487  0.41703\n",
      "5  u_PDAC_dis  d_PDAC_dis  0.50829  0.99512  0.35133  1.00000  0.76613\n"
     ]
    },
    {
     "name": "stderr",
     "output_type": "stream",
     "text": [
      "Simulated annealing progress:  28%|██▊       | 55042/200000 [02:39<06:29, 371.90iteration/s]"
     ]
    },
    {
     "name": "stdout",
     "output_type": "stream",
     "text": [
      "55000 :  962.1555698281195    PDAC:  0.00928    tick: 4319\n"
     ]
    },
    {
     "name": "stderr",
     "output_type": "stream",
     "text": [
      "Simulated annealing progress:  30%|███       | 60046/200000 [02:52<06:10, 378.14iteration/s]"
     ]
    },
    {
     "name": "stdout",
     "output_type": "stream",
     "text": [
      "60000 :  962.1555698281195    PDAC:  0.00928    tick: 322\n"
     ]
    },
    {
     "name": "stderr",
     "output_type": "stream",
     "text": [
      "Simulated annealing progress:  33%|███▎      | 65045/200000 [03:06<05:56, 378.37iteration/s]"
     ]
    },
    {
     "name": "stdout",
     "output_type": "stream",
     "text": [
      "65000 :  962.1555698281195    PDAC:  0.00928    tick: 5322\n"
     ]
    },
    {
     "name": "stderr",
     "output_type": "stream",
     "text": [
      "Simulated annealing progress:  35%|███▌      | 70076/200000 [03:20<05:45, 375.80iteration/s]"
     ]
    },
    {
     "name": "stdout",
     "output_type": "stream",
     "text": [
      "70000 :  962.1555698281195    PDAC:  0.00928    tick: 52\n"
     ]
    },
    {
     "name": "stderr",
     "output_type": "stream",
     "text": [
      "Simulated annealing progress:  38%|███▊      | 75061/200000 [03:33<05:41, 365.91iteration/s]"
     ]
    },
    {
     "name": "stdout",
     "output_type": "stream",
     "text": [
      "75000 :  962.1555698281195    PDAC:  0.00928    tick: 5052\n"
     ]
    },
    {
     "name": "stderr",
     "output_type": "stream",
     "text": [
      "Simulated annealing progress:  40%|████      | 80053/200000 [03:48<05:14, 381.29iteration/s]"
     ]
    },
    {
     "name": "stdout",
     "output_type": "stream",
     "text": [
      "80000 :  962.1555698281195    PDAC:  0.00928    tick: 2748\n"
     ]
    },
    {
     "name": "stderr",
     "output_type": "stream",
     "text": [
      "Simulated annealing progress:  43%|████▎     | 85056/200000 [04:02<05:02, 379.66iteration/s]"
     ]
    },
    {
     "name": "stdout",
     "output_type": "stream",
     "text": [
      "85000 :  962.1555698281195    PDAC:  0.00928    tick: 150\n"
     ]
    },
    {
     "name": "stderr",
     "output_type": "stream",
     "text": [
      "Simulated annealing progress:  45%|████▌     | 90045/200000 [04:16<04:51, 376.64iteration/s]"
     ]
    },
    {
     "name": "stdout",
     "output_type": "stream",
     "text": [
      "90000 :  952.8458302990651    PDAC:  0.00882    tick: 4655\n"
     ]
    },
    {
     "name": "stderr",
     "output_type": "stream",
     "text": [
      "Simulated annealing progress:  48%|████▊     | 95050/200000 [04:29<04:41, 373.36iteration/s]"
     ]
    },
    {
     "name": "stdout",
     "output_type": "stream",
     "text": [
      "95000 :  926.909834450287    PDAC:  0.00895    tick: 595\n"
     ]
    },
    {
     "name": "stderr",
     "output_type": "stream",
     "text": [
      "Simulated annealing progress:  50%|█████     | 100078/200000 [04:44<04:31, 368.57iteration/s]"
     ]
    },
    {
     "name": "stdout",
     "output_type": "stream",
     "text": [
      "100000 :  924.5747175747551    PDAC:  0.00944    tick: 4435\n",
      "Progress report, i = 100000\n",
      "   From State    To State   Age 30   Age 75      Min      Max      Avg\n",
      "0     healthy  u_PDAC_loc  0.00006  0.00006  0.00005  0.00007  0.00006\n",
      "1  u_PDAC_loc  u_PDAC_reg  0.79327  0.98154  0.58575  1.00000  0.92020\n",
      "2  u_PDAC_reg  u_PDAC_dis  0.96107  0.93689  0.90327  0.99240  0.96312\n",
      "3  u_PDAC_loc  d_PDAC_loc  0.09388  0.09073  0.08931  0.09400  0.09273\n",
      "4  u_PDAC_reg  d_PDAC_reg  0.51057  0.37232  0.31893  0.52026  0.45113\n",
      "5  u_PDAC_dis  d_PDAC_dis  0.52631  0.93998  0.38520  0.96941  0.74702\n"
     ]
    },
    {
     "name": "stderr",
     "output_type": "stream",
     "text": [
      "Simulated annealing progress:  53%|█████▎    | 105020/200000 [04:58<09:26, 167.56iteration/s]"
     ]
    },
    {
     "name": "stdout",
     "output_type": "stream",
     "text": [
      "105000 :  924.5747175747551    PDAC:  0.00944    tick: 9435\n"
     ]
    },
    {
     "name": "stderr",
     "output_type": "stream",
     "text": [
      "Simulated annealing progress:  55%|█████▌    | 110074/200000 [05:12<03:56, 379.71iteration/s]"
     ]
    },
    {
     "name": "stdout",
     "output_type": "stream",
     "text": [
      "110000 :  919.4067072466282    PDAC:  0.00906    tick: 3474\n"
     ]
    },
    {
     "name": "stderr",
     "output_type": "stream",
     "text": [
      "Simulated annealing progress:  58%|█████▊    | 115042/200000 [05:25<03:46, 374.37iteration/s]"
     ]
    },
    {
     "name": "stdout",
     "output_type": "stream",
     "text": [
      "115000 :  919.4067072466282    PDAC:  0.00906    tick: 8474\n"
     ]
    },
    {
     "name": "stderr",
     "output_type": "stream",
     "text": [
      "Simulated annealing progress:  60%|██████    | 120057/200000 [05:39<03:30, 380.44iteration/s]"
     ]
    },
    {
     "name": "stdout",
     "output_type": "stream",
     "text": [
      "120000 :  919.4067072466282    PDAC:  0.00906    tick: 13474\n"
     ]
    },
    {
     "name": "stderr",
     "output_type": "stream",
     "text": [
      "Simulated annealing progress:  63%|██████▎   | 125054/200000 [05:52<03:16, 382.08iteration/s]"
     ]
    },
    {
     "name": "stdout",
     "output_type": "stream",
     "text": [
      "125000 :  919.4067072466282    PDAC:  0.00906    tick: 18474\n"
     ]
    },
    {
     "name": "stderr",
     "output_type": "stream",
     "text": [
      "Simulated annealing progress:  65%|██████▌   | 130064/200000 [06:07<03:41, 315.28iteration/s]"
     ]
    },
    {
     "name": "stdout",
     "output_type": "stream",
     "text": [
      "130000 :  919.4067072466282    PDAC:  0.00906    tick: 1161\n"
     ]
    },
    {
     "name": "stderr",
     "output_type": "stream",
     "text": [
      "Simulated annealing progress:  68%|██████▊   | 135068/200000 [06:20<02:47, 386.94iteration/s]"
     ]
    },
    {
     "name": "stdout",
     "output_type": "stream",
     "text": [
      "135000 :  919.4067072466282    PDAC:  0.00906    tick: 6161\n"
     ]
    },
    {
     "name": "stderr",
     "output_type": "stream",
     "text": [
      "Simulated annealing progress:  70%|███████   | 140081/200000 [06:34<02:36, 382.88iteration/s]"
     ]
    },
    {
     "name": "stdout",
     "output_type": "stream",
     "text": [
      "140000 :  919.4067072466282    PDAC:  0.00906    tick: 11161\n"
     ]
    },
    {
     "name": "stderr",
     "output_type": "stream",
     "text": [
      "Simulated annealing progress:  73%|███████▎  | 145041/200000 [06:47<02:20, 391.24iteration/s]"
     ]
    },
    {
     "name": "stdout",
     "output_type": "stream",
     "text": [
      "145000 :  919.4067072466282    PDAC:  0.00906    tick: 16161\n"
     ]
    },
    {
     "name": "stderr",
     "output_type": "stream",
     "text": [
      "Simulated annealing progress:  75%|███████▌  | 150053/200000 [07:00<02:20, 355.36iteration/s]"
     ]
    },
    {
     "name": "stdout",
     "output_type": "stream",
     "text": [
      "150000 :  919.4067072466282    PDAC:  0.00906    tick: 21161\n",
      "Progress report, i = 150000\n",
      "   From State    To State   Age 30   Age 75      Min      Max      Avg\n",
      "0     healthy  u_PDAC_loc  0.00006  0.00006  0.00005  0.00007  0.00006\n",
      "1  u_PDAC_loc  u_PDAC_reg  0.81607  0.98521  0.64522  1.00000  0.92855\n",
      "2  u_PDAC_reg  u_PDAC_dis  0.91788  0.94064  0.81762  0.99537  0.94889\n",
      "3  u_PDAC_loc  d_PDAC_loc  0.09392  0.09086  0.08953  0.09396  0.09276\n",
      "4  u_PDAC_reg  d_PDAC_reg  0.51198  0.37480  0.32874  0.52446  0.45269\n",
      "5  u_PDAC_dis  d_PDAC_dis  0.52029  0.92164  0.38728  0.94353  0.73726\n"
     ]
    },
    {
     "name": "stderr",
     "output_type": "stream",
     "text": [
      "Simulated annealing progress:  78%|███████▊  | 155055/200000 [07:14<02:02, 365.45iteration/s]"
     ]
    },
    {
     "name": "stdout",
     "output_type": "stream",
     "text": [
      "155000 :  919.4067072466282    PDAC:  0.00906    tick: 26161\n"
     ]
    },
    {
     "name": "stderr",
     "output_type": "stream",
     "text": [
      "Simulated annealing progress:  80%|████████  | 160064/200000 [07:27<01:45, 377.89iteration/s]"
     ]
    },
    {
     "name": "stdout",
     "output_type": "stream",
     "text": [
      "160000 :  919.4067072466282    PDAC:  0.00906    tick: 31161\n"
     ]
    },
    {
     "name": "stderr",
     "output_type": "stream",
     "text": [
      "Simulated annealing progress:  83%|████████▎ | 165064/200000 [07:40<01:31, 381.58iteration/s]"
     ]
    },
    {
     "name": "stdout",
     "output_type": "stream",
     "text": [
      "165000 :  919.4067072466282    PDAC:  0.00906    tick: 36161\n"
     ]
    },
    {
     "name": "stderr",
     "output_type": "stream",
     "text": [
      "Simulated annealing progress:  85%|████████▌ | 170062/200000 [07:54<01:16, 390.72iteration/s]"
     ]
    },
    {
     "name": "stdout",
     "output_type": "stream",
     "text": [
      "170000 :  919.4067072466282    PDAC:  0.00906    tick: 41161\n"
     ]
    },
    {
     "name": "stderr",
     "output_type": "stream",
     "text": [
      "Simulated annealing progress:  88%|████████▊ | 175060/200000 [08:07<01:04, 385.02iteration/s]"
     ]
    },
    {
     "name": "stdout",
     "output_type": "stream",
     "text": [
      "175000 :  919.4067072466282    PDAC:  0.00906    tick: 526\n"
     ]
    },
    {
     "name": "stderr",
     "output_type": "stream",
     "text": [
      "Simulated annealing progress:  90%|█████████ | 180054/200000 [08:20<00:52, 382.31iteration/s]"
     ]
    },
    {
     "name": "stdout",
     "output_type": "stream",
     "text": [
      "180000 :  918.8629625753092    PDAC:  0.00988    tick: 4985\n"
     ]
    },
    {
     "name": "stderr",
     "output_type": "stream",
     "text": [
      "Simulated annealing progress:  93%|█████████▎| 185066/200000 [08:34<00:40, 370.12iteration/s]"
     ]
    },
    {
     "name": "stdout",
     "output_type": "stream",
     "text": [
      "185000 :  918.8629625753092    PDAC:  0.00988    tick: 9985\n"
     ]
    },
    {
     "name": "stderr",
     "output_type": "stream",
     "text": [
      "Simulated annealing progress:  95%|█████████▌| 190050/200000 [08:47<00:25, 383.61iteration/s]"
     ]
    },
    {
     "name": "stdout",
     "output_type": "stream",
     "text": [
      "190000 :  918.8629625753092    PDAC:  0.00988    tick: 14985\n"
     ]
    },
    {
     "name": "stderr",
     "output_type": "stream",
     "text": [
      "Simulated annealing progress:  98%|█████████▊| 195067/200000 [09:01<00:12, 381.80iteration/s]"
     ]
    },
    {
     "name": "stdout",
     "output_type": "stream",
     "text": [
      "195000 :  918.8629625753092    PDAC:  0.00988    tick: 19985\n"
     ]
    },
    {
     "name": "stderr",
     "output_type": "stream",
     "text": [
      "Simulated annealing progress: 100%|██████████| 200000/200000 [09:16<00:00, 359.28iteration/s]\n"
     ]
    },
    {
     "name": "stdout",
     "output_type": "stream",
     "text": [
      "918.8629625753092\n",
      "Done.\n",
      "\n",
      "OUTPUTS:\n",
      "EPOCH 2/5 ----------------------------------------------------------\n",
      "Initial score: 918.86296\n",
      "Starting calibration...\n"
     ]
    },
    {
     "name": "stderr",
     "output_type": "stream",
     "text": [
      "Simulated annealing progress:   3%|▎         | 5064/200000 [00:13<08:45, 370.80iteration/s]"
     ]
    },
    {
     "name": "stdout",
     "output_type": "stream",
     "text": [
      "5000 :  918.8629625753092    PDAC:  0.00988    tick: 5001\n"
     ]
    },
    {
     "name": "stderr",
     "output_type": "stream",
     "text": [
      "Simulated annealing progress:   5%|▌         | 10050/200000 [00:27<08:17, 381.65iteration/s]"
     ]
    },
    {
     "name": "stdout",
     "output_type": "stream",
     "text": [
      "10000 :  918.8629625753092    PDAC:  0.00988    tick: 10001\n"
     ]
    },
    {
     "name": "stderr",
     "output_type": "stream",
     "text": [
      "Simulated annealing progress:   8%|▊         | 15070/200000 [00:43<08:50, 348.41iteration/s]"
     ]
    },
    {
     "name": "stdout",
     "output_type": "stream",
     "text": [
      "15000 :  918.6271054274807    PDAC:  0.00907    tick: 4050\n"
     ]
    },
    {
     "name": "stderr",
     "output_type": "stream",
     "text": [
      "Simulated annealing progress:  10%|█         | 20038/200000 [01:00<08:15, 363.43iteration/s]"
     ]
    },
    {
     "name": "stdout",
     "output_type": "stream",
     "text": [
      "20000 :  907.776347860169    PDAC:  0.00975    tick: 1548\n"
     ]
    },
    {
     "name": "stderr",
     "output_type": "stream",
     "text": [
      "Simulated annealing progress:  13%|█▎        | 25068/200000 [01:15<07:35, 384.34iteration/s]"
     ]
    },
    {
     "name": "stdout",
     "output_type": "stream",
     "text": [
      "25000 :  901.856505475618    PDAC:  0.00977    tick: 3873\n"
     ]
    },
    {
     "name": "stderr",
     "output_type": "stream",
     "text": [
      "Simulated annealing progress:  15%|█▌        | 30057/200000 [01:30<07:35, 372.92iteration/s]"
     ]
    },
    {
     "name": "stdout",
     "output_type": "stream",
     "text": [
      "30000 :  901.856505475618    PDAC:  0.00977    tick: 8873\n"
     ]
    },
    {
     "name": "stderr",
     "output_type": "stream",
     "text": [
      "Simulated annealing progress:  18%|█▊        | 35064/200000 [01:44<07:03, 389.63iteration/s]"
     ]
    },
    {
     "name": "stdout",
     "output_type": "stream",
     "text": [
      "35000 :  901.856505475618    PDAC:  0.00977    tick: 13873\n"
     ]
    },
    {
     "name": "stderr",
     "output_type": "stream",
     "text": [
      "Simulated annealing progress:  20%|██        | 40049/200000 [01:57<06:58, 382.18iteration/s]"
     ]
    },
    {
     "name": "stdout",
     "output_type": "stream",
     "text": [
      "40000 :  901.856505475618    PDAC:  0.00977    tick: 18873\n"
     ]
    },
    {
     "name": "stderr",
     "output_type": "stream",
     "text": [
      "Simulated annealing progress:  23%|██▎       | 45056/200000 [02:11<06:51, 376.83iteration/s]"
     ]
    },
    {
     "name": "stdout",
     "output_type": "stream",
     "text": [
      "45000 :  901.856505475618    PDAC:  0.00977    tick: 23873\n"
     ]
    },
    {
     "name": "stderr",
     "output_type": "stream",
     "text": [
      "Simulated annealing progress:  25%|██▌       | 50036/200000 [02:24<06:49, 366.55iteration/s]"
     ]
    },
    {
     "name": "stdout",
     "output_type": "stream",
     "text": [
      "50000 :  901.856505475618    PDAC:  0.00977    tick: 28873\n",
      "Progress report, i = 50000\n",
      "   From State    To State   Age 30   Age 75      Min      Max      Avg\n",
      "0     healthy  u_PDAC_loc  0.00006  0.00006  0.00005  0.00007  0.00007\n",
      "1  u_PDAC_loc  u_PDAC_reg  0.74286  1.00000  0.54461  1.00000  0.91003\n",
      "2  u_PDAC_reg  u_PDAC_dis  0.99150  0.95531  0.93730  0.99939  0.98055\n",
      "3  u_PDAC_loc  d_PDAC_loc  0.09756  0.09058  0.08990  0.09801  0.09414\n",
      "4  u_PDAC_reg  d_PDAC_reg  0.54408  0.39223  0.35737  0.56973  0.47249\n",
      "5  u_PDAC_dis  d_PDAC_dis  0.51260  0.82021  0.40659  0.84852  0.67992\n"
     ]
    },
    {
     "name": "stderr",
     "output_type": "stream",
     "text": [
      "Simulated annealing progress:  28%|██▊       | 55076/200000 [02:38<06:37, 364.21iteration/s]"
     ]
    },
    {
     "name": "stdout",
     "output_type": "stream",
     "text": [
      "55000 :  901.856505475618    PDAC:  0.00977    tick: 33873\n"
     ]
    },
    {
     "name": "stderr",
     "output_type": "stream",
     "text": [
      "Simulated annealing progress:  30%|███       | 60043/200000 [02:52<06:24, 363.81iteration/s]"
     ]
    },
    {
     "name": "stdout",
     "output_type": "stream",
     "text": [
      "60000 :  890.6161665524976    PDAC:  0.01001    tick: 542\n"
     ]
    },
    {
     "name": "stderr",
     "output_type": "stream",
     "text": [
      "Simulated annealing progress:  33%|███▎      | 65040/200000 [03:06<06:03, 371.04iteration/s]"
     ]
    },
    {
     "name": "stdout",
     "output_type": "stream",
     "text": [
      "65000 :  851.2739673305177    PDAC:  0.00928    tick: 988\n"
     ]
    },
    {
     "name": "stderr",
     "output_type": "stream",
     "text": [
      "Simulated annealing progress:  35%|███▌      | 70035/200000 [03:19<05:47, 374.06iteration/s]"
     ]
    },
    {
     "name": "stdout",
     "output_type": "stream",
     "text": [
      "70000 :  838.962713746376    PDAC:  0.01035    tick: 549\n"
     ]
    },
    {
     "name": "stderr",
     "output_type": "stream",
     "text": [
      "Simulated annealing progress:  38%|███▊      | 75028/200000 [03:33<05:35, 373.03iteration/s]"
     ]
    },
    {
     "name": "stdout",
     "output_type": "stream",
     "text": [
      "75000 :  818.7505279307761    PDAC:  0.01039    tick: 246\n"
     ]
    },
    {
     "name": "stderr",
     "output_type": "stream",
     "text": [
      "Simulated annealing progress:  40%|████      | 80082/200000 [03:48<05:12, 383.80iteration/s]"
     ]
    },
    {
     "name": "stdout",
     "output_type": "stream",
     "text": [
      "80000 :  809.4361465647883    PDAC:  0.01021    tick: 2993\n"
     ]
    },
    {
     "name": "stderr",
     "output_type": "stream",
     "text": [
      "Simulated annealing progress:  43%|████▎     | 85073/200000 [04:02<05:03, 379.08iteration/s]"
     ]
    },
    {
     "name": "stdout",
     "output_type": "stream",
     "text": [
      "85000 :  809.4361465647883    PDAC:  0.01021    tick: 7993\n"
     ]
    },
    {
     "name": "stderr",
     "output_type": "stream",
     "text": [
      "Simulated annealing progress:  45%|████▌     | 90036/200000 [04:15<05:04, 360.73iteration/s]"
     ]
    },
    {
     "name": "stdout",
     "output_type": "stream",
     "text": [
      "90000 :  809.4361465647883    PDAC:  0.01021    tick: 12993\n"
     ]
    },
    {
     "name": "stderr",
     "output_type": "stream",
     "text": [
      "Simulated annealing progress:  48%|████▊     | 95063/200000 [04:29<04:36, 379.49iteration/s]"
     ]
    },
    {
     "name": "stdout",
     "output_type": "stream",
     "text": [
      "95000 :  809.4361465647883    PDAC:  0.01021    tick: 17993\n"
     ]
    },
    {
     "name": "stderr",
     "output_type": "stream",
     "text": [
      "Simulated annealing progress:  50%|█████     | 100052/200000 [04:43<04:30, 369.94iteration/s]"
     ]
    },
    {
     "name": "stdout",
     "output_type": "stream",
     "text": [
      "100000 :  782.6850928819284    PDAC:  0.00991    tick: 557\n",
      "Progress report, i = 100000\n",
      "   From State    To State   Age 30   Age 75      Min      Max      Avg\n",
      "0     healthy  u_PDAC_loc  0.00008  0.00008  0.00005  0.00010  0.00008\n",
      "1  u_PDAC_loc  u_PDAC_reg  0.61353  0.94060  0.38624  0.98122  0.82817\n",
      "2  u_PDAC_reg  u_PDAC_dis  0.99457  0.99504  0.98936  1.00000  0.99650\n",
      "3  u_PDAC_loc  d_PDAC_loc  0.10523  0.09206  0.09010  0.10877  0.09842\n",
      "4  u_PDAC_reg  d_PDAC_reg  0.60043  0.41232  0.36824  0.64177  0.51002\n",
      "5  u_PDAC_dis  d_PDAC_dis  0.51532  0.77551  0.42226  0.79713  0.65593\n"
     ]
    },
    {
     "name": "stderr",
     "output_type": "stream",
     "text": [
      "Simulated annealing progress:  53%|█████▎    | 105054/200000 [04:58<04:19, 366.04iteration/s]"
     ]
    },
    {
     "name": "stdout",
     "output_type": "stream",
     "text": [
      "105000 :  773.8812777653936    PDAC:  0.00993    tick: 1351\n"
     ]
    },
    {
     "name": "stderr",
     "output_type": "stream",
     "text": [
      "Simulated annealing progress:  55%|█████▌    | 110065/200000 [05:11<03:55, 382.45iteration/s]"
     ]
    },
    {
     "name": "stdout",
     "output_type": "stream",
     "text": [
      "110000 :  773.8812777653936    PDAC:  0.00993    tick: 6351\n"
     ]
    },
    {
     "name": "stderr",
     "output_type": "stream",
     "text": [
      "Simulated annealing progress:  58%|█████▊    | 115051/200000 [05:25<03:47, 372.64iteration/s]"
     ]
    },
    {
     "name": "stdout",
     "output_type": "stream",
     "text": [
      "115000 :  729.9899605427413    PDAC:  0.00983    tick: 868\n"
     ]
    },
    {
     "name": "stderr",
     "output_type": "stream",
     "text": [
      "Simulated annealing progress:  60%|██████    | 120058/200000 [05:38<03:34, 373.19iteration/s]"
     ]
    },
    {
     "name": "stdout",
     "output_type": "stream",
     "text": [
      "120000 :  716.1992746472663    PDAC:  0.01014    tick: 1681\n"
     ]
    },
    {
     "name": "stderr",
     "output_type": "stream",
     "text": [
      "Simulated annealing progress:  63%|██████▎   | 125062/200000 [05:52<03:14, 384.59iteration/s]"
     ]
    },
    {
     "name": "stdout",
     "output_type": "stream",
     "text": [
      "125000 :  716.1992746472663    PDAC:  0.01014    tick: 6681\n"
     ]
    },
    {
     "name": "stderr",
     "output_type": "stream",
     "text": [
      "Simulated annealing progress:  65%|██████▌   | 130060/200000 [06:06<03:00, 387.46iteration/s]"
     ]
    },
    {
     "name": "stdout",
     "output_type": "stream",
     "text": [
      "130000 :  716.1992746472663    PDAC:  0.01014    tick: 3390\n"
     ]
    },
    {
     "name": "stderr",
     "output_type": "stream",
     "text": [
      "Simulated annealing progress:  68%|██████▊   | 135054/200000 [06:20<02:51, 377.82iteration/s]"
     ]
    },
    {
     "name": "stdout",
     "output_type": "stream",
     "text": [
      "135000 :  716.1992746472663    PDAC:  0.01014    tick: 3463\n"
     ]
    },
    {
     "name": "stderr",
     "output_type": "stream",
     "text": [
      "Simulated annealing progress:  70%|███████   | 140060/200000 [06:34<02:39, 374.72iteration/s]"
     ]
    },
    {
     "name": "stdout",
     "output_type": "stream",
     "text": [
      "140000 :  711.65369907567    PDAC:  0.01006    tick: 4689\n"
     ]
    },
    {
     "name": "stderr",
     "output_type": "stream",
     "text": [
      "Simulated annealing progress:  73%|███████▎  | 145067/200000 [06:47<02:28, 371.12iteration/s]"
     ]
    },
    {
     "name": "stdout",
     "output_type": "stream",
     "text": [
      "145000 :  711.65369907567    PDAC:  0.01006    tick: 9689\n"
     ]
    },
    {
     "name": "stderr",
     "output_type": "stream",
     "text": [
      "Simulated annealing progress:  75%|███████▌  | 150047/200000 [07:01<02:13, 374.08iteration/s]"
     ]
    },
    {
     "name": "stdout",
     "output_type": "stream",
     "text": [
      "150000 :  711.65369907567    PDAC:  0.01006    tick: 14689\n",
      "Progress report, i = 150000\n",
      "   From State    To State   Age 30   Age 75      Min      Max      Avg\n",
      "0     healthy  u_PDAC_loc  0.00009  0.00009  0.00006  0.00011  0.00010\n",
      "1  u_PDAC_loc  u_PDAC_reg  0.57978  0.93788  0.32408  0.96769  0.81316\n",
      "2  u_PDAC_reg  u_PDAC_dis  0.99789  0.99850  0.99508  1.00000  0.99876\n",
      "3  u_PDAC_loc  d_PDAC_loc  0.10620  0.09864  0.09600  0.10792  0.10113\n",
      "4  u_PDAC_reg  d_PDAC_reg  0.57130  0.46012  0.42848  0.58590  0.52128\n",
      "5  u_PDAC_dis  d_PDAC_dis  0.50176  0.74256  0.40451  0.74924  0.63703\n"
     ]
    },
    {
     "name": "stderr",
     "output_type": "stream",
     "text": [
      "Simulated annealing progress:  78%|███████▊  | 155044/200000 [07:14<01:57, 383.18iteration/s]"
     ]
    },
    {
     "name": "stdout",
     "output_type": "stream",
     "text": [
      "155000 :  711.65369907567    PDAC:  0.01006    tick: 19689\n"
     ]
    },
    {
     "name": "stderr",
     "output_type": "stream",
     "text": [
      "Simulated annealing progress:  80%|████████  | 160049/200000 [07:28<01:44, 383.24iteration/s]"
     ]
    },
    {
     "name": "stdout",
     "output_type": "stream",
     "text": [
      "160000 :  711.65369907567    PDAC:  0.01006    tick: 4383\n"
     ]
    },
    {
     "name": "stderr",
     "output_type": "stream",
     "text": [
      "Simulated annealing progress:  83%|████████▎ | 165077/200000 [07:41<01:32, 377.55iteration/s]"
     ]
    },
    {
     "name": "stdout",
     "output_type": "stream",
     "text": [
      "165000 :  711.65369907567    PDAC:  0.01006    tick: 9383\n"
     ]
    },
    {
     "name": "stderr",
     "output_type": "stream",
     "text": [
      "Simulated annealing progress:  85%|████████▌ | 170054/200000 [07:55<01:18, 383.33iteration/s]"
     ]
    },
    {
     "name": "stdout",
     "output_type": "stream",
     "text": [
      "170000 :  711.65369907567    PDAC:  0.01006    tick: 14383\n"
     ]
    },
    {
     "name": "stderr",
     "output_type": "stream",
     "text": [
      "Simulated annealing progress:  88%|████████▊ | 175058/200000 [08:08<01:03, 393.21iteration/s]"
     ]
    },
    {
     "name": "stdout",
     "output_type": "stream",
     "text": [
      "175000 :  711.65369907567    PDAC:  0.01006    tick: 19383\n"
     ]
    },
    {
     "name": "stderr",
     "output_type": "stream",
     "text": [
      "Simulated annealing progress:  90%|█████████ | 180062/200000 [08:22<00:50, 391.31iteration/s]"
     ]
    },
    {
     "name": "stdout",
     "output_type": "stream",
     "text": [
      "180000 :  711.65369907567    PDAC:  0.01006    tick: 24383\n"
     ]
    },
    {
     "name": "stderr",
     "output_type": "stream",
     "text": [
      "Simulated annealing progress:  93%|█████████▎| 185015/200000 [08:36<01:18, 190.26iteration/s]"
     ]
    },
    {
     "name": "stdout",
     "output_type": "stream",
     "text": [
      "185000 :  711.65369907567    PDAC:  0.01006    tick: 29383\n"
     ]
    },
    {
     "name": "stderr",
     "output_type": "stream",
     "text": [
      "Simulated annealing progress:  95%|█████████▌| 190014/200000 [09:07<01:07, 148.17iteration/s]"
     ]
    },
    {
     "name": "stdout",
     "output_type": "stream",
     "text": [
      "190000 :  711.65369907567    PDAC:  0.01006    tick: 34383\n"
     ]
    },
    {
     "name": "stderr",
     "output_type": "stream",
     "text": [
      "Simulated annealing progress:  98%|█████████▊| 195019/200000 [09:35<00:25, 192.83iteration/s]"
     ]
    },
    {
     "name": "stdout",
     "output_type": "stream",
     "text": [
      "195000 :  711.65369907567    PDAC:  0.01006    tick: 39383\n"
     ]
    },
    {
     "name": "stderr",
     "output_type": "stream",
     "text": [
      "Simulated annealing progress: 100%|██████████| 200000/200000 [10:08<00:00, 328.61iteration/s]\n"
     ]
    },
    {
     "name": "stdout",
     "output_type": "stream",
     "text": [
      "711.65369907567\n",
      "Done.\n",
      "\n",
      "OUTPUTS:\n",
      "EPOCH 3/5 ----------------------------------------------------------\n",
      "Initial score: 711.6537\n",
      "Starting calibration...\n"
     ]
    },
    {
     "name": "stderr",
     "output_type": "stream",
     "text": [
      "Simulated annealing progress:   3%|▎         | 5030/200000 [00:26<21:10, 153.45iteration/s]"
     ]
    },
    {
     "name": "stdout",
     "output_type": "stream",
     "text": [
      "5000 :  711.65369907567    PDAC:  0.01006    tick: 5001\n"
     ]
    },
    {
     "name": "stderr",
     "output_type": "stream",
     "text": [
      "Simulated annealing progress:   5%|▌         | 10035/200000 [00:51<09:50, 321.60iteration/s]"
     ]
    },
    {
     "name": "stdout",
     "output_type": "stream",
     "text": [
      "10000 :  711.65369907567    PDAC:  0.01006    tick: 10001\n"
     ]
    },
    {
     "name": "stderr",
     "output_type": "stream",
     "text": [
      "Simulated annealing progress:   8%|▊         | 15008/200000 [01:17<47:53, 64.38iteration/s] "
     ]
    },
    {
     "name": "stdout",
     "output_type": "stream",
     "text": [
      "15000 :  700.2228805724876    PDAC:  0.01029    tick: 2739\n"
     ]
    },
    {
     "name": "stderr",
     "output_type": "stream",
     "text": [
      "Simulated annealing progress:  10%|█         | 20020/200000 [02:05<26:08, 114.78iteration/s] "
     ]
    },
    {
     "name": "stdout",
     "output_type": "stream",
     "text": [
      "20000 :  700.2228805724876    PDAC:  0.01029    tick: 7739\n"
     ]
    },
    {
     "name": "stderr",
     "output_type": "stream",
     "text": [
      "Simulated annealing progress:  13%|█▎        | 25026/200000 [02:46<21:25, 136.08iteration/s]"
     ]
    },
    {
     "name": "stdout",
     "output_type": "stream",
     "text": [
      "25000 :  700.2228805724876    PDAC:  0.01029    tick: 12739\n"
     ]
    },
    {
     "name": "stderr",
     "output_type": "stream",
     "text": [
      "Simulated annealing progress:  15%|█▌        | 30020/200000 [03:21<27:04, 104.60iteration/s]"
     ]
    },
    {
     "name": "stdout",
     "output_type": "stream",
     "text": [
      "30000 :  700.2228805724876    PDAC:  0.01029    tick: 17739\n"
     ]
    },
    {
     "name": "stderr",
     "output_type": "stream",
     "text": [
      "Simulated annealing progress:  18%|█▊        | 35014/200000 [03:52<19:53, 138.19iteration/s]"
     ]
    },
    {
     "name": "stdout",
     "output_type": "stream",
     "text": [
      "35000 :  700.2228805724876    PDAC:  0.01029    tick: 22739\n"
     ]
    },
    {
     "name": "stderr",
     "output_type": "stream",
     "text": [
      "Simulated annealing progress:  20%|██        | 40019/200000 [04:19<20:25, 130.52iteration/s]"
     ]
    },
    {
     "name": "stdout",
     "output_type": "stream",
     "text": [
      "40000 :  700.2228805724876    PDAC:  0.01029    tick: 27739\n"
     ]
    },
    {
     "name": "stderr",
     "output_type": "stream",
     "text": [
      "Simulated annealing progress:  23%|██▎       | 45072/200000 [04:55<11:12, 230.53iteration/s]"
     ]
    },
    {
     "name": "stdout",
     "output_type": "stream",
     "text": [
      "45000 :  700.2228805724876    PDAC:  0.01029    tick: 32739\n"
     ]
    },
    {
     "name": "stderr",
     "output_type": "stream",
     "text": [
      "Simulated annealing progress:  25%|██▌       | 50054/200000 [05:28<09:09, 272.68iteration/s]"
     ]
    },
    {
     "name": "stdout",
     "output_type": "stream",
     "text": [
      "50000 :  700.2228805724876    PDAC:  0.01029    tick: 37739\n",
      "Progress report, i = 50000\n",
      "   From State    To State   Age 30   Age 75      Min      Max      Avg\n",
      "0     healthy  u_PDAC_loc  0.00008  0.00009  0.00007  0.00011  0.00009\n",
      "1  u_PDAC_loc  u_PDAC_reg  0.60623  0.94518  0.31823  0.96992  0.82814\n",
      "2  u_PDAC_reg  u_PDAC_dis  0.99772  0.99847  0.99568  1.00000  0.99873\n",
      "3  u_PDAC_loc  d_PDAC_loc  0.10601  0.09787  0.09712  0.10877  0.10102\n",
      "4  u_PDAC_reg  d_PDAC_reg  0.57509  0.46228  0.43206  0.58992  0.52337\n",
      "5  u_PDAC_dis  d_PDAC_dis  0.48748  0.74332  0.37676  0.75518  0.63033\n"
     ]
    },
    {
     "name": "stderr",
     "output_type": "stream",
     "text": [
      "Simulated annealing progress:  28%|██▊       | 55013/200000 [05:57<16:43, 144.46iteration/s]"
     ]
    },
    {
     "name": "stdout",
     "output_type": "stream",
     "text": [
      "55000 :  700.2228805724876    PDAC:  0.01029    tick: 42739\n"
     ]
    },
    {
     "name": "stderr",
     "output_type": "stream",
     "text": [
      "Simulated annealing progress:  30%|███       | 60054/200000 [06:23<07:16, 320.40iteration/s]"
     ]
    },
    {
     "name": "stdout",
     "output_type": "stream",
     "text": [
      "60000 :  700.2228805724876    PDAC:  0.01029    tick: 47739\n"
     ]
    },
    {
     "name": "stderr",
     "output_type": "stream",
     "text": [
      "Simulated annealing progress:  33%|███▎      | 65019/200000 [06:54<16:28, 136.58iteration/s]"
     ]
    },
    {
     "name": "stdout",
     "output_type": "stream",
     "text": [
      "65000 :  700.2228805724876    PDAC:  0.01029    tick: 52739\n"
     ]
    },
    {
     "name": "stderr",
     "output_type": "stream",
     "text": [
      "Simulated annealing progress:  35%|███▌      | 70021/200000 [07:23<15:30, 139.68iteration/s]"
     ]
    },
    {
     "name": "stdout",
     "output_type": "stream",
     "text": [
      "70000 :  700.2228805724876    PDAC:  0.01029    tick: 57739\n"
     ]
    },
    {
     "name": "stderr",
     "output_type": "stream",
     "text": [
      "Simulated annealing progress:  38%|███▊      | 75043/200000 [07:53<06:17, 330.61iteration/s]"
     ]
    },
    {
     "name": "stdout",
     "output_type": "stream",
     "text": [
      "75000 :  700.2228805724876    PDAC:  0.01029    tick: 62739\n"
     ]
    },
    {
     "name": "stderr",
     "output_type": "stream",
     "text": [
      "Simulated annealing progress:  40%|████      | 80064/200000 [08:17<06:44, 296.37iteration/s]"
     ]
    },
    {
     "name": "stdout",
     "output_type": "stream",
     "text": [
      "80000 :  700.2228805724876    PDAC:  0.01029    tick: 67739\n"
     ]
    },
    {
     "name": "stderr",
     "output_type": "stream",
     "text": [
      "Simulated annealing progress:  43%|████▎     | 85032/200000 [08:50<14:52, 128.82iteration/s]"
     ]
    },
    {
     "name": "stdout",
     "output_type": "stream",
     "text": [
      "85000 :  700.2228805724876    PDAC:  0.01029    tick: 72739\n"
     ]
    },
    {
     "name": "stderr",
     "output_type": "stream",
     "text": [
      "Simulated annealing progress:  45%|████▌     | 90027/200000 [09:29<12:18, 148.93iteration/s]"
     ]
    },
    {
     "name": "stdout",
     "output_type": "stream",
     "text": [
      "90000 :  700.2228805724876    PDAC:  0.01029    tick: 77739\n"
     ]
    },
    {
     "name": "stderr",
     "output_type": "stream",
     "text": [
      "Simulated annealing progress:  48%|████▊     | 95017/200000 [10:04<14:05, 124.15iteration/s]"
     ]
    },
    {
     "name": "stdout",
     "output_type": "stream",
     "text": [
      "95000 :  700.2228805724876    PDAC:  0.01029    tick: 82739\n"
     ]
    },
    {
     "name": "stderr",
     "output_type": "stream",
     "text": [
      "Simulated annealing progress:  50%|█████     | 100061/200000 [10:38<04:54, 339.05iteration/s]"
     ]
    },
    {
     "name": "stdout",
     "output_type": "stream",
     "text": [
      "100000 :  700.2228805724876    PDAC:  0.01029    tick: 87739\n",
      "Progress report, i = 100000\n",
      "   From State    To State   Age 30   Age 75      Min      Max      Avg\n",
      "0     healthy  u_PDAC_loc  0.00008  0.00009  0.00007  0.00011  0.00009\n",
      "1  u_PDAC_loc  u_PDAC_reg  0.60623  0.94518  0.31823  0.96992  0.82814\n",
      "2  u_PDAC_reg  u_PDAC_dis  0.99772  0.99847  0.99568  1.00000  0.99873\n",
      "3  u_PDAC_loc  d_PDAC_loc  0.10601  0.09787  0.09712  0.10877  0.10102\n",
      "4  u_PDAC_reg  d_PDAC_reg  0.57509  0.46228  0.43206  0.58992  0.52337\n",
      "5  u_PDAC_dis  d_PDAC_dis  0.48748  0.74332  0.37676  0.75518  0.63033\n"
     ]
    },
    {
     "name": "stderr",
     "output_type": "stream",
     "text": [
      "Simulated annealing progress:  53%|█████▎    | 105020/200000 [10:59<10:29, 150.94iteration/s]"
     ]
    },
    {
     "name": "stdout",
     "output_type": "stream",
     "text": [
      "105000 :  700.2228805724876    PDAC:  0.01029    tick: 92739\n"
     ]
    },
    {
     "name": "stderr",
     "output_type": "stream",
     "text": [
      "Simulated annealing progress:  55%|█████▌    | 110015/200000 [11:35<10:21, 144.68iteration/s]"
     ]
    },
    {
     "name": "stdout",
     "output_type": "stream",
     "text": [
      "110000 :  700.2228805724876    PDAC:  0.01029    tick: 97739\n"
     ]
    },
    {
     "name": "stderr",
     "output_type": "stream",
     "text": [
      "Simulated annealing progress:  58%|█████▊    | 115019/200000 [12:05<09:38, 146.78iteration/s]"
     ]
    },
    {
     "name": "stdout",
     "output_type": "stream",
     "text": [
      "115000 :  700.2228805724876    PDAC:  0.01029    tick: 102739\n"
     ]
    },
    {
     "name": "stderr",
     "output_type": "stream",
     "text": [
      "Simulated annealing progress:  60%|██████    | 120020/200000 [12:21<05:11, 256.93iteration/s]"
     ]
    },
    {
     "name": "stdout",
     "output_type": "stream",
     "text": [
      "120000 :  700.2228805724876    PDAC:  0.01029    tick: 107739\n"
     ]
    },
    {
     "name": "stderr",
     "output_type": "stream",
     "text": [
      "Simulated annealing progress:  63%|██████▎   | 125046/200000 [12:36<03:12, 389.07iteration/s]"
     ]
    },
    {
     "name": "stdout",
     "output_type": "stream",
     "text": [
      "125000 :  696.7175250848718    PDAC:  0.01044    tick: 2580\n"
     ]
    },
    {
     "name": "stderr",
     "output_type": "stream",
     "text": [
      "Simulated annealing progress:  65%|██████▌   | 130066/200000 [12:49<03:00, 387.92iteration/s]"
     ]
    },
    {
     "name": "stdout",
     "output_type": "stream",
     "text": [
      "130000 :  696.7175250848718    PDAC:  0.01044    tick: 7580\n"
     ]
    },
    {
     "name": "stderr",
     "output_type": "stream",
     "text": [
      "Simulated annealing progress:  68%|██████▊   | 135059/200000 [13:04<02:42, 398.81iteration/s]"
     ]
    },
    {
     "name": "stdout",
     "output_type": "stream",
     "text": [
      "135000 :  696.7175250848718    PDAC:  0.01044    tick: 12580\n"
     ]
    },
    {
     "name": "stderr",
     "output_type": "stream",
     "text": [
      "Simulated annealing progress:  70%|███████   | 140068/200000 [13:17<02:36, 381.88iteration/s]"
     ]
    },
    {
     "name": "stdout",
     "output_type": "stream",
     "text": [
      "140000 :  696.7175250848718    PDAC:  0.01044    tick: 17580\n"
     ]
    },
    {
     "name": "stderr",
     "output_type": "stream",
     "text": [
      "Simulated annealing progress:  71%|███████▏  | 142821/200000 [13:27<05:23, 176.96iteration/s]\n"
     ]
    },
    {
     "ename": "KeyboardInterrupt",
     "evalue": "",
     "output_type": "error",
     "traceback": [
      "\u001b[1;31m---------------------------------------------------------------------------\u001b[0m",
      "\u001b[1;31mKeyboardInterrupt\u001b[0m                         Traceback (most recent call last)",
      "Cell \u001b[1;32mIn[65], line 5\u001b[0m\n\u001b[0;32m      3\u001b[0m \u001b[38;5;28;01mfor\u001b[39;00m epoch \u001b[38;5;129;01min\u001b[39;00m \u001b[38;5;28mrange\u001b[39m(\u001b[38;5;241m5\u001b[39m):\n\u001b[0;32m      4\u001b[0m     \u001b[38;5;28mprint\u001b[39m(\u001b[38;5;124mf\u001b[39m\u001b[38;5;124m\"\u001b[39m\u001b[38;5;124mEPOCH \u001b[39m\u001b[38;5;132;01m{\u001b[39;00m(epoch\u001b[38;5;241m+\u001b[39m\u001b[38;5;241m1\u001b[39m)\u001b[38;5;132;01m}\u001b[39;00m\u001b[38;5;124m/5 ----------------------------------------------------------\u001b[39m\u001b[38;5;124m\"\u001b[39m)\n\u001b[1;32m----> 5\u001b[0m     result \u001b[38;5;241m=\u001b[39m \u001b[43mrun_sa\u001b[49m\u001b[43m(\u001b[49m\u001b[43mtmat\u001b[49m\u001b[38;5;241;43m=\u001b[39;49m\u001b[43mresult\u001b[49m\u001b[43m,\u001b[49m\u001b[43m \u001b[49m\u001b[43msave_all\u001b[49m\u001b[38;5;241;43m=\u001b[39;49m\u001b[38;5;28;43;01mTrue\u001b[39;49;00m\u001b[43m,\u001b[49m\u001b[43m \u001b[49m\u001b[43mn_iterations\u001b[49m\u001b[38;5;241;43m=\u001b[39;49m\u001b[38;5;241;43m200000\u001b[39;49m\u001b[43m,\u001b[49m\u001b[43m \u001b[49m\u001b[43mstep_size\u001b[49m\u001b[38;5;241;43m=\u001b[39;49m\u001b[43mstep_sizes\u001b[49m\u001b[43m[\u001b[49m\u001b[43mepoch\u001b[49m\u001b[43m]\u001b[49m\u001b[43m,\u001b[49m\u001b[43m \u001b[49m\u001b[43mn_adj\u001b[49m\u001b[38;5;241;43m=\u001b[39;49m\u001b[38;5;241;43m7\u001b[39;49m\u001b[43m,\u001b[49m\u001b[43m \u001b[49m\u001b[43mstarting_temp\u001b[49m\u001b[38;5;241;43m=\u001b[39;49m\u001b[43mtemps\u001b[49m\u001b[43m[\u001b[49m\u001b[43mepoch\u001b[49m\u001b[43m]\u001b[49m\u001b[43m)\u001b[49m\n",
      "Cell \u001b[1;32mIn[64], line 12\u001b[0m, in \u001b[0;36mrun_sa\u001b[1;34m(tmat, save_all, n_iterations, step_size, n_adj, starting_temp, print_interval)\u001b[0m\n\u001b[0;32m     10\u001b[0m \u001b[38;5;28mprint\u001b[39m(\u001b[38;5;124mf\u001b[39m\u001b[38;5;124m\"\u001b[39m\u001b[38;5;124mInitial score: \u001b[39m\u001b[38;5;132;01m{\u001b[39;00m\u001b[38;5;28mround\u001b[39m(initial_score,\u001b[38;5;250m \u001b[39m\u001b[38;5;241m5\u001b[39m)\u001b[38;5;132;01m}\u001b[39;00m\u001b[38;5;124m\"\u001b[39m)\n\u001b[0;32m     11\u001b[0m \u001b[38;5;28mprint\u001b[39m(\u001b[38;5;124m\"\u001b[39m\u001b[38;5;124mStarting calibration...\u001b[39m\u001b[38;5;124m\"\u001b[39m)\n\u001b[1;32m---> 12\u001b[0m result \u001b[38;5;241m=\u001b[39m \u001b[43msimulated_annealing\u001b[49m\u001b[43m(\u001b[49m\u001b[43mn_iterations\u001b[49m\u001b[38;5;241;43m=\u001b[39;49m\u001b[43mn_iterations\u001b[49m\u001b[43m,\u001b[49m\u001b[43m \u001b[49m\u001b[43mstep_size\u001b[49m\u001b[38;5;241;43m=\u001b[39;49m\u001b[43mstep_size\u001b[49m\u001b[43m,\u001b[49m\u001b[43m \u001b[49m\u001b[43mstart_tmat\u001b[49m\u001b[38;5;241;43m=\u001b[39;49m\u001b[43mstart_tmat\u001b[49m\u001b[43m,\u001b[49m\u001b[43m \u001b[49m\u001b[43mn_adj\u001b[49m\u001b[38;5;241;43m=\u001b[39;49m\u001b[43mn_adj\u001b[49m\u001b[43m,\u001b[49m\u001b[43m \u001b[49m\u001b[43mstarting_temp\u001b[49m\u001b[38;5;241;43m=\u001b[39;49m\u001b[43mstarting_temp\u001b[49m\u001b[43m,\u001b[49m\u001b[43m \u001b[49m\u001b[43mverbose\u001b[49m\u001b[38;5;241;43m=\u001b[39;49m\u001b[38;5;28;43;01mTrue\u001b[39;49;00m\u001b[43m,\u001b[49m\u001b[43m \u001b[49m\u001b[43mprint_interval\u001b[49m\u001b[38;5;241;43m=\u001b[39;49m\u001b[43mprint_interval\u001b[49m\u001b[43m)\u001b[49m\n\u001b[0;32m     14\u001b[0m \u001b[38;5;66;03m# Gather results\u001b[39;00m\n\u001b[0;32m     15\u001b[0m timestamp \u001b[38;5;241m=\u001b[39m datetime\u001b[38;5;241m.\u001b[39mnow()\u001b[38;5;241m.\u001b[39mstrftime(\u001b[38;5;124m\"\u001b[39m\u001b[38;5;124m%\u001b[39m\u001b[38;5;124mY\u001b[39m\u001b[38;5;124m%\u001b[39m\u001b[38;5;124mm\u001b[39m\u001b[38;5;132;01m%d\u001b[39;00m\u001b[38;5;124m_\u001b[39m\u001b[38;5;124m%\u001b[39m\u001b[38;5;124mH\u001b[39m\u001b[38;5;124m%\u001b[39m\u001b[38;5;124mM\u001b[39m\u001b[38;5;124m\"\u001b[39m)\n",
      "Cell \u001b[1;32mIn[63], line 15\u001b[0m, in \u001b[0;36msimulated_annealing\u001b[1;34m(n_iterations, step_size, start_tmat, n_adj, starting_temp, verbose, print_interval)\u001b[0m\n\u001b[0;32m     11\u001b[0m \u001b[38;5;28;01mfor\u001b[39;00m i \u001b[38;5;129;01min\u001b[39;00m \u001b[38;5;28mrange\u001b[39m(n_iterations):\n\u001b[0;32m     12\u001b[0m \n\u001b[0;32m     13\u001b[0m     \u001b[38;5;66;03m# Run model\u001b[39;00m\n\u001b[0;32m     14\u001b[0m     candidate_t \u001b[38;5;241m=\u001b[39m np\u001b[38;5;241m.\u001b[39mcopy(curr_t)\n\u001b[1;32m---> 15\u001b[0m     candidate_t \u001b[38;5;241m=\u001b[39m \u001b[43mstep\u001b[49m\u001b[43m(\u001b[49m\u001b[43mcandidate_t\u001b[49m\u001b[43m,\u001b[49m\u001b[43m \u001b[49m\u001b[43mstep_size\u001b[49m\u001b[43m,\u001b[49m\u001b[43m \u001b[49m\u001b[43mn_adj\u001b[49m\u001b[43m)\u001b[49m\n\u001b[0;32m     16\u001b[0m     candidate_log \u001b[38;5;241m=\u001b[39m run_markov(candidate_t)\n\u001b[0;32m     17\u001b[0m     candidate_eval \u001b[38;5;241m=\u001b[39m gof\u001b[38;5;241m.\u001b[39mobjective(candidate_log)  \u001b[38;5;66;03m# Evaluate candidate point\u001b[39;00m\n",
      "Cell \u001b[1;32mIn[62], line 20\u001b[0m, in \u001b[0;36mstep\u001b[1;34m(matrix, step_size, num_adj)\u001b[0m\n\u001b[0;32m     16\u001b[0m     \u001b[38;5;66;03m# print(f\"{from_state} -> {to_state} , age_layer {age}: old = {round(old_param,5)} ; new = {round(new_matrix[age, from_state, to_state],5)}\")\u001b[39;00m\n\u001b[0;32m     17\u001b[0m \n\u001b[0;32m     18\u001b[0m \u001b[38;5;66;03m# print(f\"new matrix after adj, pre constraints: {new_matrix}\")\u001b[39;00m\n\u001b[0;32m     19\u001b[0m small_matrix[\u001b[38;5;241m-\u001b[39m\u001b[38;5;241m1\u001b[39m, :, :] \u001b[38;5;241m=\u001b[39m np\u001b[38;5;241m.\u001b[39mminimum(small_matrix[\u001b[38;5;241m-\u001b[39m\u001b[38;5;241m1\u001b[39m, :, :], small_matrix[\u001b[38;5;241m-\u001b[39m\u001b[38;5;241m2\u001b[39m, :, :])\n\u001b[1;32m---> 20\u001b[0m new_matrix \u001b[38;5;241m=\u001b[39m \u001b[43mcsaps\u001b[49m\u001b[43m(\u001b[49m\u001b[43m[\u001b[49m\u001b[38;5;241;43m22.5\u001b[39;49m\u001b[43m,\u001b[49m\u001b[38;5;241;43m27.5\u001b[39;49m\u001b[43m,\u001b[49m\u001b[38;5;241;43m32.5\u001b[39;49m\u001b[43m,\u001b[49m\u001b[38;5;241;43m37.5\u001b[39;49m\u001b[43m,\u001b[49m\u001b[38;5;241;43m42.5\u001b[39;49m\u001b[43m,\u001b[49m\u001b[38;5;241;43m47.5\u001b[39;49m\u001b[43m,\u001b[49m\u001b[38;5;241;43m52.5\u001b[39;49m\u001b[43m,\u001b[49m\u001b[38;5;241;43m57.5\u001b[39;49m\u001b[43m,\u001b[49m\u001b[38;5;241;43m62.5\u001b[39;49m\u001b[43m,\u001b[49m\u001b[38;5;241;43m67.5\u001b[39;49m\u001b[43m,\u001b[49m\u001b[38;5;241;43m72.5\u001b[39;49m\u001b[43m,\u001b[49m\u001b[38;5;241;43m77.5\u001b[39;49m\u001b[43m,\u001b[49m\u001b[38;5;241;43m82.5\u001b[39;49m\u001b[43m]\u001b[49m\u001b[43m,\u001b[49m\u001b[43m \u001b[49m\u001b[43msmall_matrix\u001b[49m\u001b[43m,\u001b[49m\u001b[43m \u001b[49m\u001b[43maxis\u001b[49m\u001b[38;5;241;43m=\u001b[39;49m\u001b[38;5;241;43m0\u001b[39;49m\u001b[43m,\u001b[49m\u001b[43m \u001b[49m\u001b[43msmooth\u001b[49m\u001b[38;5;241;43m=\u001b[39;49m\u001b[38;5;241;43m0.001\u001b[39;49m\u001b[43m)\u001b[49m(c\u001b[38;5;241m.\u001b[39mages_1y)\u001b[38;5;241m.\u001b[39mclip(\u001b[38;5;241m0.0\u001b[39m,\u001b[38;5;241m1.0\u001b[39m)\n\u001b[0;32m     21\u001b[0m \u001b[38;5;28;01massert\u001b[39;00m new_matrix\u001b[38;5;241m.\u001b[39mshape[\u001b[38;5;241m0\u001b[39m]\u001b[38;5;241m==\u001b[39m\u001b[38;5;241m65\u001b[39m\n\u001b[0;32m     23\u001b[0m \u001b[38;5;66;03m# print(f\"new matrix after smoothing: {new_matrix}\")\u001b[39;00m\n\u001b[0;32m     24\u001b[0m \n\u001b[0;32m     25\u001b[0m \u001b[38;5;66;03m# # new_matrix = constrain_matrix(new_matrix)\u001b[39;00m\n\u001b[1;32m   (...)\u001b[0m\n\u001b[0;32m     29\u001b[0m \n\u001b[0;32m     30\u001b[0m \u001b[38;5;66;03m# print(f\"new matrix after constraints: {new_matrix}\")\u001b[39;00m\n",
      "File \u001b[1;32mc:\\Users\\sophi\\anaconda3\\envs\\drcrc_env\\Lib\\site-packages\\csaps\\_shortcut.py:216\u001b[0m, in \u001b[0;36mcsaps\u001b[1;34m(xdata, ydata, xidata, weights, smooth, axis, normalizedsmooth)\u001b[0m\n\u001b[0;32m    214\u001b[0m \u001b[38;5;28;01mif\u001b[39;00m umv:\n\u001b[0;32m    215\u001b[0m     axis \u001b[38;5;241m=\u001b[39m \u001b[38;5;241m-\u001b[39m\u001b[38;5;241m1\u001b[39m \u001b[38;5;28;01mif\u001b[39;00m axis \u001b[38;5;129;01mis\u001b[39;00m \u001b[38;5;28;01mNone\u001b[39;00m \u001b[38;5;28;01melse\u001b[39;00m axis\n\u001b[1;32m--> 216\u001b[0m     sp \u001b[38;5;241m=\u001b[39m \u001b[43mCubicSmoothingSpline\u001b[49m\u001b[43m(\u001b[49m\u001b[43mxdata\u001b[49m\u001b[43m,\u001b[49m\u001b[43m \u001b[49m\u001b[43mydata\u001b[49m\u001b[43m,\u001b[49m\u001b[43m \u001b[49m\u001b[43mweights\u001b[49m\u001b[38;5;241;43m=\u001b[39;49m\u001b[43mweights\u001b[49m\u001b[43m,\u001b[49m\u001b[43m \u001b[49m\u001b[43msmooth\u001b[49m\u001b[38;5;241;43m=\u001b[39;49m\u001b[43msmooth\u001b[49m\u001b[43m,\u001b[49m\u001b[43m \u001b[49m\u001b[43maxis\u001b[49m\u001b[38;5;241;43m=\u001b[39;49m\u001b[43maxis\u001b[49m\u001b[43m,\u001b[49m\n\u001b[0;32m    217\u001b[0m \u001b[43m                              \u001b[49m\u001b[43mnormalizedsmooth\u001b[49m\u001b[38;5;241;43m=\u001b[39;49m\u001b[43mnormalizedsmooth\u001b[49m\u001b[43m)\u001b[49m\n\u001b[0;32m    218\u001b[0m \u001b[38;5;28;01melse\u001b[39;00m:\n\u001b[0;32m    219\u001b[0m     sp \u001b[38;5;241m=\u001b[39m NdGridCubicSmoothingSpline(xdata, ydata, weights, smooth, normalizedsmooth\u001b[38;5;241m=\u001b[39mnormalizedsmooth)\n",
      "File \u001b[1;32mc:\\Users\\sophi\\anaconda3\\envs\\drcrc_env\\Lib\\site-packages\\csaps\\_sspumv.py:137\u001b[0m, in \u001b[0;36mCubicSmoothingSpline.__init__\u001b[1;34m(self, xdata, ydata, weights, smooth, axis, normalizedsmooth)\u001b[0m\n\u001b[0;32m    128\u001b[0m \u001b[38;5;28;01mdef\u001b[39;00m \u001b[38;5;21m__init__\u001b[39m(\u001b[38;5;28mself\u001b[39m,\n\u001b[0;32m    129\u001b[0m              xdata: UnivariateDataType,\n\u001b[0;32m    130\u001b[0m              ydata: MultivariateDataType,\n\u001b[1;32m   (...)\u001b[0m\n\u001b[0;32m    133\u001b[0m              axis: \u001b[38;5;28mint\u001b[39m \u001b[38;5;241m=\u001b[39m \u001b[38;5;241m-\u001b[39m\u001b[38;5;241m1\u001b[39m,\n\u001b[0;32m    134\u001b[0m              normalizedsmooth: \u001b[38;5;28mbool\u001b[39m \u001b[38;5;241m=\u001b[39m \u001b[38;5;28;01mFalse\u001b[39;00m):\n\u001b[0;32m    136\u001b[0m     x, y, w, shape, axis \u001b[38;5;241m=\u001b[39m \u001b[38;5;28mself\u001b[39m\u001b[38;5;241m.\u001b[39m_prepare_data(xdata, ydata, weights, axis)\n\u001b[1;32m--> 137\u001b[0m     coeffs, smooth \u001b[38;5;241m=\u001b[39m \u001b[38;5;28;43mself\u001b[39;49m\u001b[38;5;241;43m.\u001b[39;49m\u001b[43m_make_spline\u001b[49m\u001b[43m(\u001b[49m\u001b[43mx\u001b[49m\u001b[43m,\u001b[49m\u001b[43m \u001b[49m\u001b[43my\u001b[49m\u001b[43m,\u001b[49m\u001b[43m \u001b[49m\u001b[43mw\u001b[49m\u001b[43m,\u001b[49m\u001b[43m \u001b[49m\u001b[43msmooth\u001b[49m\u001b[43m,\u001b[49m\u001b[43m \u001b[49m\u001b[43mshape\u001b[49m\u001b[43m,\u001b[49m\u001b[43m \u001b[49m\u001b[43mnormalizedsmooth\u001b[49m\u001b[43m)\u001b[49m\n\u001b[0;32m    138\u001b[0m     spline \u001b[38;5;241m=\u001b[39m SplinePPForm\u001b[38;5;241m.\u001b[39mconstruct_fast(coeffs, x, axis\u001b[38;5;241m=\u001b[39maxis)\n\u001b[0;32m    140\u001b[0m     \u001b[38;5;28mself\u001b[39m\u001b[38;5;241m.\u001b[39m_smooth \u001b[38;5;241m=\u001b[39m smooth\n",
      "File \u001b[1;32mc:\\Users\\sophi\\anaconda3\\envs\\drcrc_env\\Lib\\site-packages\\csaps\\_sspumv.py:308\u001b[0m, in \u001b[0;36mCubicSmoothingSpline._make_spline\u001b[1;34m(x, y, w, smooth, shape, normalizedsmooth)\u001b[0m\n\u001b[0;32m    305\u001b[0m pp \u001b[38;5;241m=\u001b[39m (\u001b[38;5;241m6.\u001b[39m \u001b[38;5;241m*\u001b[39m (\u001b[38;5;241m1.\u001b[39m \u001b[38;5;241m-\u001b[39m p))\n\u001b[0;32m    307\u001b[0m \u001b[38;5;66;03m# Solve linear system for the 2nd derivatives\u001b[39;00m\n\u001b[1;32m--> 308\u001b[0m a \u001b[38;5;241m=\u001b[39m pp \u001b[38;5;241m*\u001b[39m qtw \u001b[38;5;241m+\u001b[39m \u001b[43mp\u001b[49m\u001b[43m \u001b[49m\u001b[38;5;241;43m*\u001b[39;49m\u001b[43m \u001b[49m\u001b[43mr\u001b[49m\n\u001b[0;32m    309\u001b[0m b \u001b[38;5;241m=\u001b[39m np\u001b[38;5;241m.\u001b[39mdiff(dy_dx, axis\u001b[38;5;241m=\u001b[39m\u001b[38;5;241m1\u001b[39m)\u001b[38;5;241m.\u001b[39mT\n\u001b[0;32m    311\u001b[0m u \u001b[38;5;241m=\u001b[39m la\u001b[38;5;241m.\u001b[39mspsolve(a, b)\n",
      "File \u001b[1;32mc:\\Users\\sophi\\anaconda3\\envs\\drcrc_env\\Lib\\site-packages\\scipy\\sparse\\_matrix.py:47\u001b[0m, in \u001b[0;36mspmatrix.__rmul__\u001b[1;34m(self, other)\u001b[0m\n\u001b[0;32m     46\u001b[0m \u001b[38;5;28;01mdef\u001b[39;00m \u001b[38;5;21m__rmul__\u001b[39m(\u001b[38;5;28mself\u001b[39m, other):\n\u001b[1;32m---> 47\u001b[0m     \u001b[38;5;28;01mreturn\u001b[39;00m \u001b[38;5;28;43mself\u001b[39;49m\u001b[38;5;241;43m.\u001b[39;49m\u001b[43m_rmatmul_dispatch\u001b[49m\u001b[43m(\u001b[49m\u001b[43mother\u001b[49m\u001b[43m)\u001b[49m\n",
      "File \u001b[1;32mc:\\Users\\sophi\\anaconda3\\envs\\drcrc_env\\Lib\\site-packages\\scipy\\sparse\\_base.py:675\u001b[0m, in \u001b[0;36m_spbase._rmatmul_dispatch\u001b[1;34m(self, other)\u001b[0m\n\u001b[0;32m    673\u001b[0m \u001b[38;5;28;01mdef\u001b[39;00m \u001b[38;5;21m_rmatmul_dispatch\u001b[39m(\u001b[38;5;28mself\u001b[39m, other):\n\u001b[0;32m    674\u001b[0m     \u001b[38;5;28;01mif\u001b[39;00m isscalarlike(other):\n\u001b[1;32m--> 675\u001b[0m         \u001b[38;5;28;01mreturn\u001b[39;00m \u001b[38;5;28;43mself\u001b[39;49m\u001b[38;5;241;43m.\u001b[39;49m\u001b[43m_mul_scalar\u001b[49m\u001b[43m(\u001b[49m\u001b[43mother\u001b[49m\u001b[43m)\u001b[49m\n\u001b[0;32m    676\u001b[0m     \u001b[38;5;28;01melse\u001b[39;00m:\n\u001b[0;32m    677\u001b[0m         \u001b[38;5;66;03m# Don't use asarray unless we have to\u001b[39;00m\n\u001b[0;32m    678\u001b[0m         \u001b[38;5;28;01mtry\u001b[39;00m:\n",
      "File \u001b[1;32mc:\\Users\\sophi\\anaconda3\\envs\\drcrc_env\\Lib\\site-packages\\scipy\\sparse\\_data.py:140\u001b[0m, in \u001b[0;36m_data_matrix._mul_scalar\u001b[1;34m(self, other)\u001b[0m\n\u001b[0;32m    139\u001b[0m \u001b[38;5;28;01mdef\u001b[39;00m \u001b[38;5;21m_mul_scalar\u001b[39m(\u001b[38;5;28mself\u001b[39m, other):\n\u001b[1;32m--> 140\u001b[0m     \u001b[38;5;28;01mreturn\u001b[39;00m \u001b[38;5;28;43mself\u001b[39;49m\u001b[38;5;241;43m.\u001b[39;49m\u001b[43m_with_data\u001b[49m\u001b[43m(\u001b[49m\u001b[38;5;28;43mself\u001b[39;49m\u001b[38;5;241;43m.\u001b[39;49m\u001b[43mdata\u001b[49m\u001b[43m \u001b[49m\u001b[38;5;241;43m*\u001b[39;49m\u001b[43m \u001b[49m\u001b[43mother\u001b[49m\u001b[43m)\u001b[49m\n",
      "File \u001b[1;32mc:\\Users\\sophi\\anaconda3\\envs\\drcrc_env\\Lib\\site-packages\\scipy\\sparse\\_dia.py:365\u001b[0m, in \u001b[0;36m_dia_base._with_data\u001b[1;34m(self, data, copy)\u001b[0m\n\u001b[0;32m    361\u001b[0m \u001b[38;5;250m\u001b[39m\u001b[38;5;124;03m\"\"\"Returns a matrix with the same sparsity structure as self,\u001b[39;00m\n\u001b[0;32m    362\u001b[0m \u001b[38;5;124;03mbut with different data.  By default the structure arrays are copied.\u001b[39;00m\n\u001b[0;32m    363\u001b[0m \u001b[38;5;124;03m\"\"\"\u001b[39;00m\n\u001b[0;32m    364\u001b[0m \u001b[38;5;28;01mif\u001b[39;00m copy:\n\u001b[1;32m--> 365\u001b[0m     \u001b[38;5;28;01mreturn\u001b[39;00m \u001b[38;5;28;43mself\u001b[39;49m\u001b[38;5;241;43m.\u001b[39;49m\u001b[43m_dia_container\u001b[49m\u001b[43m(\u001b[49m\n\u001b[0;32m    366\u001b[0m \u001b[43m        \u001b[49m\u001b[43m(\u001b[49m\u001b[43mdata\u001b[49m\u001b[43m,\u001b[49m\u001b[43m \u001b[49m\u001b[38;5;28;43mself\u001b[39;49m\u001b[38;5;241;43m.\u001b[39;49m\u001b[43moffsets\u001b[49m\u001b[38;5;241;43m.\u001b[39;49m\u001b[43mcopy\u001b[49m\u001b[43m(\u001b[49m\u001b[43m)\u001b[49m\u001b[43m)\u001b[49m\u001b[43m,\u001b[49m\u001b[43m \u001b[49m\u001b[43mshape\u001b[49m\u001b[38;5;241;43m=\u001b[39;49m\u001b[38;5;28;43mself\u001b[39;49m\u001b[38;5;241;43m.\u001b[39;49m\u001b[43mshape\u001b[49m\n\u001b[0;32m    367\u001b[0m \u001b[43m    \u001b[49m\u001b[43m)\u001b[49m\n\u001b[0;32m    368\u001b[0m \u001b[38;5;28;01melse\u001b[39;00m:\n\u001b[0;32m    369\u001b[0m     \u001b[38;5;28;01mreturn\u001b[39;00m \u001b[38;5;28mself\u001b[39m\u001b[38;5;241m.\u001b[39m_dia_container(\n\u001b[0;32m    370\u001b[0m         (data, \u001b[38;5;28mself\u001b[39m\u001b[38;5;241m.\u001b[39moffsets), shape\u001b[38;5;241m=\u001b[39m\u001b[38;5;28mself\u001b[39m\u001b[38;5;241m.\u001b[39mshape\n\u001b[0;32m    371\u001b[0m     )\n",
      "File \u001b[1;32mc:\\Users\\sophi\\anaconda3\\envs\\drcrc_env\\Lib\\site-packages\\scipy\\sparse\\_dia.py:95\u001b[0m, in \u001b[0;36m_dia_base.__init__\u001b[1;34m(self, arg1, shape, dtype, copy)\u001b[0m\n\u001b[0;32m     90\u001b[0m \u001b[38;5;28;01mif\u001b[39;00m \u001b[38;5;28mself\u001b[39m\u001b[38;5;241m.\u001b[39mdata\u001b[38;5;241m.\u001b[39mshape[\u001b[38;5;241m0\u001b[39m] \u001b[38;5;241m!=\u001b[39m \u001b[38;5;28mlen\u001b[39m(\u001b[38;5;28mself\u001b[39m\u001b[38;5;241m.\u001b[39moffsets):\n\u001b[0;32m     91\u001b[0m     \u001b[38;5;28;01mraise\u001b[39;00m \u001b[38;5;167;01mValueError\u001b[39;00m(\u001b[38;5;124m'\u001b[39m\u001b[38;5;124mnumber of diagonals (\u001b[39m\u001b[38;5;132;01m%d\u001b[39;00m\u001b[38;5;124m) \u001b[39m\u001b[38;5;124m'\u001b[39m\n\u001b[0;32m     92\u001b[0m             \u001b[38;5;124m'\u001b[39m\u001b[38;5;124mdoes not match the number of offsets (\u001b[39m\u001b[38;5;132;01m%d\u001b[39;00m\u001b[38;5;124m)\u001b[39m\u001b[38;5;124m'\u001b[39m\n\u001b[0;32m     93\u001b[0m             \u001b[38;5;241m%\u001b[39m (\u001b[38;5;28mself\u001b[39m\u001b[38;5;241m.\u001b[39mdata\u001b[38;5;241m.\u001b[39mshape[\u001b[38;5;241m0\u001b[39m], \u001b[38;5;28mlen\u001b[39m(\u001b[38;5;28mself\u001b[39m\u001b[38;5;241m.\u001b[39moffsets)))\n\u001b[1;32m---> 95\u001b[0m \u001b[38;5;28;01mif\u001b[39;00m \u001b[38;5;28mlen\u001b[39m(\u001b[43mnp\u001b[49m\u001b[38;5;241;43m.\u001b[39;49m\u001b[43munique\u001b[49m\u001b[43m(\u001b[49m\u001b[38;5;28;43mself\u001b[39;49m\u001b[38;5;241;43m.\u001b[39;49m\u001b[43moffsets\u001b[49m\u001b[43m)\u001b[49m) \u001b[38;5;241m!=\u001b[39m \u001b[38;5;28mlen\u001b[39m(\u001b[38;5;28mself\u001b[39m\u001b[38;5;241m.\u001b[39moffsets):\n\u001b[0;32m     96\u001b[0m     \u001b[38;5;28;01mraise\u001b[39;00m \u001b[38;5;167;01mValueError\u001b[39;00m(\u001b[38;5;124m'\u001b[39m\u001b[38;5;124moffset array contains duplicate values\u001b[39m\u001b[38;5;124m'\u001b[39m)\n",
      "File \u001b[1;32mc:\\Users\\sophi\\anaconda3\\envs\\drcrc_env\\Lib\\site-packages\\numpy\\lib\\arraysetops.py:274\u001b[0m, in \u001b[0;36munique\u001b[1;34m(ar, return_index, return_inverse, return_counts, axis, equal_nan)\u001b[0m\n\u001b[0;32m    272\u001b[0m ar \u001b[38;5;241m=\u001b[39m np\u001b[38;5;241m.\u001b[39masanyarray(ar)\n\u001b[0;32m    273\u001b[0m \u001b[38;5;28;01mif\u001b[39;00m axis \u001b[38;5;129;01mis\u001b[39;00m \u001b[38;5;28;01mNone\u001b[39;00m:\n\u001b[1;32m--> 274\u001b[0m     ret \u001b[38;5;241m=\u001b[39m \u001b[43m_unique1d\u001b[49m\u001b[43m(\u001b[49m\u001b[43mar\u001b[49m\u001b[43m,\u001b[49m\u001b[43m \u001b[49m\u001b[43mreturn_index\u001b[49m\u001b[43m,\u001b[49m\u001b[43m \u001b[49m\u001b[43mreturn_inverse\u001b[49m\u001b[43m,\u001b[49m\u001b[43m \u001b[49m\u001b[43mreturn_counts\u001b[49m\u001b[43m,\u001b[49m\u001b[43m \u001b[49m\n\u001b[0;32m    275\u001b[0m \u001b[43m                    \u001b[49m\u001b[43mequal_nan\u001b[49m\u001b[38;5;241;43m=\u001b[39;49m\u001b[43mequal_nan\u001b[49m\u001b[43m)\u001b[49m\n\u001b[0;32m    276\u001b[0m     \u001b[38;5;28;01mreturn\u001b[39;00m _unpack_tuple(ret)\n\u001b[0;32m    278\u001b[0m \u001b[38;5;66;03m# axis was specified and not None\u001b[39;00m\n",
      "File \u001b[1;32mc:\\Users\\sophi\\anaconda3\\envs\\drcrc_env\\Lib\\site-packages\\numpy\\lib\\arraysetops.py:328\u001b[0m, in \u001b[0;36m_unique1d\u001b[1;34m(ar, return_index, return_inverse, return_counts, equal_nan)\u001b[0m\n\u001b[0;32m    323\u001b[0m \u001b[38;5;28;01mdef\u001b[39;00m \u001b[38;5;21m_unique1d\u001b[39m(ar, return_index\u001b[38;5;241m=\u001b[39m\u001b[38;5;28;01mFalse\u001b[39;00m, return_inverse\u001b[38;5;241m=\u001b[39m\u001b[38;5;28;01mFalse\u001b[39;00m,\n\u001b[0;32m    324\u001b[0m               return_counts\u001b[38;5;241m=\u001b[39m\u001b[38;5;28;01mFalse\u001b[39;00m, \u001b[38;5;241m*\u001b[39m, equal_nan\u001b[38;5;241m=\u001b[39m\u001b[38;5;28;01mTrue\u001b[39;00m):\n\u001b[0;32m    325\u001b[0m \u001b[38;5;250m    \u001b[39m\u001b[38;5;124;03m\"\"\"\u001b[39;00m\n\u001b[0;32m    326\u001b[0m \u001b[38;5;124;03m    Find the unique elements of an array, ignoring shape.\u001b[39;00m\n\u001b[0;32m    327\u001b[0m \u001b[38;5;124;03m    \"\"\"\u001b[39;00m\n\u001b[1;32m--> 328\u001b[0m     ar \u001b[38;5;241m=\u001b[39m \u001b[43mnp\u001b[49m\u001b[38;5;241;43m.\u001b[39;49m\u001b[43masanyarray\u001b[49m\u001b[43m(\u001b[49m\u001b[43mar\u001b[49m\u001b[43m)\u001b[49m\u001b[38;5;241;43m.\u001b[39;49m\u001b[43mflatten\u001b[49m\u001b[43m(\u001b[49m\u001b[43m)\u001b[49m\n\u001b[0;32m    330\u001b[0m     optional_indices \u001b[38;5;241m=\u001b[39m return_index \u001b[38;5;129;01mor\u001b[39;00m return_inverse\n\u001b[0;32m    332\u001b[0m     \u001b[38;5;28;01mif\u001b[39;00m optional_indices:\n",
      "\u001b[1;31mKeyboardInterrupt\u001b[0m: "
     ]
    }
   ],
   "source": [
    "result=None\n",
    "temps, step_sizes = [5,2,1,1,1], [0.2,0.2,0.2,0.15,0.15]\n",
    "for epoch in range(5):\n",
    "    print(f\"EPOCH {(epoch+1)}/5 ----------------------------------------------------------\")\n",
    "    result = run_sa(tmat=result, save_all=True, n_iterations=200000, step_size=step_sizes[epoch], n_adj=7, starting_temp=temps[epoch])"
   ]
  },
  {
   "cell_type": "code",
   "execution_count": 140,
   "metadata": {},
   "outputs": [
    {
     "data": {
      "image/png": "[encoded data removed]",
      "text/plain": [
       "<Figure size 640x480 with 1 Axes>"
      ]
     },
     "metadata": {},
     "output_type": "display_data"
    }
   ],
   "source": [
    "# result_next.shape\n",
    "# small_tmat = result_next[::5,:,:]\n",
    "# tmat_smoothed = csaps([22.5,27.5,32.5,37.5,42.5,47.5,52.5,57.5,62.5,67.5,72.5,77.5,82.5], small_tmat, axis=0, smooth=0.001)(c.ages_1y)\n",
    "# tmat_smoothed = add_acm(tmat_smoothed)\n",
    "# tmat_smoothed = add_csd(tmat_smoothed)\n",
    "# tmat_smoothed = constrain_matrix(tmat_smoothed)\n",
    "# tmat_smoothed = row_normalize(tmat_smoothed)\n",
    "# result_next_next = run_sa(tmat_smoothed)\n",
    "# temp = result_next_next.copy()\n",
    "# temp[:30, 0, 1] = np.maximum(temp[:30, 0, 1], 0.000001)\n",
    "# temp[30:50,0,1]*=1.3\n",
    "# temp[50:, 0, 1] = 1.5*temp[50,0,1]\n",
    "# temp[:20,1,2]*=0.9\n",
    "# temp[:20,2,3]*=0.9\n",
    "# temp[30:,1,2]=min(result_next_next[:,1,2])\n",
    "# temp[30:,2,3]=min(result_next_next[:,2,3])\n",
    "# temp[50:,1,2]=min(result_next_next[:,1,2])*0.8\n",
    "# temp[50:,2,3]=min(result_next_next[:,2,3])*0.8\n",
    "# temp[50:,1,4]*=1.2\n",
    "# temp = temp[::5,:,:]\n",
    "# tmat_smoothed = csaps([22.5,27.5,32.5,37.5,42.5,47.5,52.5,57.5,62.5,67.5,72.5,77.5,82.5], temp, axis=0, smooth=0.001)(c.ages_1y)\n",
    "# tmat_smoothed = add_acm(tmat_smoothed)\n",
    "# tmat_smoothed = add_csd(tmat_smoothed)\n",
    "# tmat_smoothed = constrain_matrix(tmat_smoothed)\n",
    "# tmat_smoothed = row_normalize(tmat_smoothed)\n",
    "# log = run_markov(tmat_smoothed)\n",
    "# p.plot_vs_seer(log[0], c.seer_inc)"
   ]
  },
  {
   "cell_type": "markdown",
   "metadata": {},
   "source": [
    "### Post-processing"
   ]
  },
  {
   "cell_type": "code",
   "execution_count": 28,
   "metadata": {},
   "outputs": [],
   "source": [
    "import os\n",
    "def smooth_tmat(mat, save=False, outpath=c.OUTPUT_PATHS['tmats'], timestamp=\"\"): # (sex: 2, race: 2, age_buckets: 10, state: 18, state: 18)\n",
    "    \n",
    "    # Anchor with mean at 100 and Smooth interpolation over age\n",
    "    tmat_anchored = np.concatenate([mat, np.minimum(mat[-1:, :, :], np.mean(mat, axis=0, keepdims=True))], axis=0) # take mean of values over age buckets and set at age 100 (only if mean lower than last age bucket)\n",
    "    tmat = csaps([25,35,45,52.5,57.5,62.5,67.5,72.5,77.5,82.5], mat, smooth=0.01, axis=0)(np.linspace(20,100,81)) # interpolation without anchoring\n",
    "    tmat_anchored = csaps([25,35,45,52.5,57.5,62.5,67.5,72.5,77.5,82.5,100], tmat_anchored, smooth=0.01, axis=0)(np.linspace(20,100,81)).clip(0.0, 1.0)\n",
    "\n",
    "    # If smoothed tmat is exp increasing towards end, used anchored probs\n",
    "    increasing_at_100 = tmat[-2:-1, :, :] < tmat[-1:, :, :]\n",
    "    tmat_anchored = np.where(increasing_at_100, tmat_anchored, tmat)\n",
    "    transition_mask = np.zeros((13, 13), dtype=bool)\n",
    "    from_states, to_states= c.transitions_itos.keys()\n",
    "    transition_mask[from_states, to_states] = True\n",
    "    tmat_anchored = np.where(increasing_at_100 & transition_mask[np.newaxis, ...], tmat_anchored, tmat)\n",
    "\n",
    "    tmat = tmat_anchored\n",
    "    tmat = row_normalize(tmat)\n",
    "\n",
    "    if save:\n",
    "      os.makedirs(outpath, exist_ok=True)\n",
    "      name = f\"tmat_{timestamp}\"\n",
    "      np.save(f\"{outpath}/{name}.npy\", tmat)\n",
    "      \n",
    "    return tmat"
   ]
  },
  {
   "cell_type": "code",
   "execution_count": 31,
   "metadata": {},
   "outputs": [
    {
     "data": {
      "image/png": "[encoded data removed]",
      "text/plain": [
       "<Figure size 1000x500 with 6 Axes>"
      ]
     },
     "metadata": {},
     "output_type": "display_data"
    }
   ],
   "source": [
    "p.plot_params(result, show_plot=True)"
   ]
  },
  {
   "cell_type": "code",
   "execution_count": 29,
   "metadata": {},
   "outputs": [
    {
     "ename": "ValueError",
     "evalue": "'ydata' data must be a 1-D or N-D array with shape[0] that is equal to 'xdata' size (10)",
     "output_type": "error",
     "traceback": [
      "\u001b[1;31m---------------------------------------------------------------------------\u001b[0m",
      "\u001b[1;31mValueError\u001b[0m                                Traceback (most recent call last)",
      "Cell \u001b[1;32mIn[29], line 2\u001b[0m\n\u001b[0;32m      1\u001b[0m markov_tmat \u001b[38;5;241m=\u001b[39m result\n\u001b[1;32m----> 2\u001b[0m treeage_tmat \u001b[38;5;241m=\u001b[39m \u001b[43msmooth_tmat\u001b[49m\u001b[43m(\u001b[49m\u001b[43mmarkov_tmat\u001b[49m\u001b[43m,\u001b[49m\u001b[43m \u001b[49m\u001b[43msave\u001b[49m\u001b[38;5;241;43m=\u001b[39;49m\u001b[38;5;28;43;01mFalse\u001b[39;49;00m\u001b[43m,\u001b[49m\u001b[43m \u001b[49m\u001b[43mtimestamp\u001b[49m\u001b[38;5;241;43m=\u001b[39;49m\u001b[38;5;124;43m\"\u001b[39;49m\u001b[38;5;124;43m20241218_1605\u001b[39;49m\u001b[38;5;124;43m\"\u001b[39;49m\u001b[43m)\u001b[49m\n\u001b[0;32m      3\u001b[0m p\u001b[38;5;241m.\u001b[39mplot_params(markov_tmat, treeage_tmat, save_imgs\u001b[38;5;241m=\u001b[39m\u001b[38;5;28;01mFalse\u001b[39;00m, show_plot\u001b[38;5;241m=\u001b[39m\u001b[38;5;28;01mTrue\u001b[39;00m)\n",
      "Cell \u001b[1;32mIn[28], line 6\u001b[0m, in \u001b[0;36msmooth_tmat\u001b[1;34m(mat, save, outpath, timestamp)\u001b[0m\n\u001b[0;32m      2\u001b[0m \u001b[38;5;28;01mdef\u001b[39;00m \u001b[38;5;21msmooth_tmat\u001b[39m(mat, save\u001b[38;5;241m=\u001b[39m\u001b[38;5;28;01mFalse\u001b[39;00m, outpath\u001b[38;5;241m=\u001b[39mc\u001b[38;5;241m.\u001b[39mOUTPUT_PATHS[\u001b[38;5;124m'\u001b[39m\u001b[38;5;124mtmats\u001b[39m\u001b[38;5;124m'\u001b[39m], timestamp\u001b[38;5;241m=\u001b[39m\u001b[38;5;124m\"\u001b[39m\u001b[38;5;124m\"\u001b[39m): \u001b[38;5;66;03m# (sex: 2, race: 2, age_buckets: 10, state: 18, state: 18)\u001b[39;00m\n\u001b[0;32m      3\u001b[0m     \n\u001b[0;32m      4\u001b[0m     \u001b[38;5;66;03m# Anchor with mean at 100 and Smooth interpolation over age\u001b[39;00m\n\u001b[0;32m      5\u001b[0m     tmat_anchored \u001b[38;5;241m=\u001b[39m np\u001b[38;5;241m.\u001b[39mconcatenate([mat, np\u001b[38;5;241m.\u001b[39mminimum(mat[\u001b[38;5;241m-\u001b[39m\u001b[38;5;241m1\u001b[39m:, :, :], np\u001b[38;5;241m.\u001b[39mmean(mat, axis\u001b[38;5;241m=\u001b[39m\u001b[38;5;241m0\u001b[39m, keepdims\u001b[38;5;241m=\u001b[39m\u001b[38;5;28;01mTrue\u001b[39;00m))], axis\u001b[38;5;241m=\u001b[39m\u001b[38;5;241m0\u001b[39m) \u001b[38;5;66;03m# take mean of values over age buckets and set at age 100 (only if mean lower than last age bucket)\u001b[39;00m\n\u001b[1;32m----> 6\u001b[0m     tmat \u001b[38;5;241m=\u001b[39m \u001b[43mcsaps\u001b[49m\u001b[43m(\u001b[49m\u001b[43m[\u001b[49m\u001b[38;5;241;43m25\u001b[39;49m\u001b[43m,\u001b[49m\u001b[38;5;241;43m35\u001b[39;49m\u001b[43m,\u001b[49m\u001b[38;5;241;43m45\u001b[39;49m\u001b[43m,\u001b[49m\u001b[38;5;241;43m52.5\u001b[39;49m\u001b[43m,\u001b[49m\u001b[38;5;241;43m57.5\u001b[39;49m\u001b[43m,\u001b[49m\u001b[38;5;241;43m62.5\u001b[39;49m\u001b[43m,\u001b[49m\u001b[38;5;241;43m67.5\u001b[39;49m\u001b[43m,\u001b[49m\u001b[38;5;241;43m72.5\u001b[39;49m\u001b[43m,\u001b[49m\u001b[38;5;241;43m77.5\u001b[39;49m\u001b[43m,\u001b[49m\u001b[38;5;241;43m82.5\u001b[39;49m\u001b[43m]\u001b[49m\u001b[43m,\u001b[49m\u001b[43m \u001b[49m\u001b[43mmat\u001b[49m\u001b[43m,\u001b[49m\u001b[43m \u001b[49m\u001b[43msmooth\u001b[49m\u001b[38;5;241;43m=\u001b[39;49m\u001b[38;5;241;43m0.01\u001b[39;49m\u001b[43m,\u001b[49m\u001b[43m \u001b[49m\u001b[43maxis\u001b[49m\u001b[38;5;241;43m=\u001b[39;49m\u001b[38;5;241;43m0\u001b[39;49m\u001b[43m)\u001b[49m(np\u001b[38;5;241m.\u001b[39mlinspace(\u001b[38;5;241m20\u001b[39m,\u001b[38;5;241m100\u001b[39m,\u001b[38;5;241m81\u001b[39m)) \u001b[38;5;66;03m# interpolation without anchoring\u001b[39;00m\n\u001b[0;32m      7\u001b[0m     tmat_anchored \u001b[38;5;241m=\u001b[39m csaps([\u001b[38;5;241m25\u001b[39m,\u001b[38;5;241m35\u001b[39m,\u001b[38;5;241m45\u001b[39m,\u001b[38;5;241m52.5\u001b[39m,\u001b[38;5;241m57.5\u001b[39m,\u001b[38;5;241m62.5\u001b[39m,\u001b[38;5;241m67.5\u001b[39m,\u001b[38;5;241m72.5\u001b[39m,\u001b[38;5;241m77.5\u001b[39m,\u001b[38;5;241m82.5\u001b[39m,\u001b[38;5;241m100\u001b[39m], tmat_anchored, smooth\u001b[38;5;241m=\u001b[39m\u001b[38;5;241m0.01\u001b[39m, axis\u001b[38;5;241m=\u001b[39m\u001b[38;5;241m0\u001b[39m)(np\u001b[38;5;241m.\u001b[39mlinspace(\u001b[38;5;241m20\u001b[39m,\u001b[38;5;241m100\u001b[39m,\u001b[38;5;241m81\u001b[39m))\u001b[38;5;241m.\u001b[39mclip(\u001b[38;5;241m0.0\u001b[39m, \u001b[38;5;241m1.0\u001b[39m)\n\u001b[0;32m      9\u001b[0m     \u001b[38;5;66;03m# If smoothed tmat is exp increasing towards end, used anchored probs\u001b[39;00m\n",
      "File \u001b[1;32mc:\\Users\\sophi\\anaconda3\\envs\\drcrc_env\\Lib\\site-packages\\csaps\\_shortcut.py:216\u001b[0m, in \u001b[0;36mcsaps\u001b[1;34m(xdata, ydata, xidata, weights, smooth, axis, normalizedsmooth)\u001b[0m\n\u001b[0;32m    214\u001b[0m \u001b[38;5;28;01mif\u001b[39;00m umv:\n\u001b[0;32m    215\u001b[0m     axis \u001b[38;5;241m=\u001b[39m \u001b[38;5;241m-\u001b[39m\u001b[38;5;241m1\u001b[39m \u001b[38;5;28;01mif\u001b[39;00m axis \u001b[38;5;129;01mis\u001b[39;00m \u001b[38;5;28;01mNone\u001b[39;00m \u001b[38;5;28;01melse\u001b[39;00m axis\n\u001b[1;32m--> 216\u001b[0m     sp \u001b[38;5;241m=\u001b[39m \u001b[43mCubicSmoothingSpline\u001b[49m\u001b[43m(\u001b[49m\u001b[43mxdata\u001b[49m\u001b[43m,\u001b[49m\u001b[43m \u001b[49m\u001b[43mydata\u001b[49m\u001b[43m,\u001b[49m\u001b[43m \u001b[49m\u001b[43mweights\u001b[49m\u001b[38;5;241;43m=\u001b[39;49m\u001b[43mweights\u001b[49m\u001b[43m,\u001b[49m\u001b[43m \u001b[49m\u001b[43msmooth\u001b[49m\u001b[38;5;241;43m=\u001b[39;49m\u001b[43msmooth\u001b[49m\u001b[43m,\u001b[49m\u001b[43m \u001b[49m\u001b[43maxis\u001b[49m\u001b[38;5;241;43m=\u001b[39;49m\u001b[43maxis\u001b[49m\u001b[43m,\u001b[49m\n\u001b[0;32m    217\u001b[0m \u001b[43m                              \u001b[49m\u001b[43mnormalizedsmooth\u001b[49m\u001b[38;5;241;43m=\u001b[39;49m\u001b[43mnormalizedsmooth\u001b[49m\u001b[43m)\u001b[49m\n\u001b[0;32m    218\u001b[0m \u001b[38;5;28;01melse\u001b[39;00m:\n\u001b[0;32m    219\u001b[0m     sp \u001b[38;5;241m=\u001b[39m NdGridCubicSmoothingSpline(xdata, ydata, weights, smooth, normalizedsmooth\u001b[38;5;241m=\u001b[39mnormalizedsmooth)\n",
      "File \u001b[1;32mc:\\Users\\sophi\\anaconda3\\envs\\drcrc_env\\Lib\\site-packages\\csaps\\_sspumv.py:136\u001b[0m, in \u001b[0;36mCubicSmoothingSpline.__init__\u001b[1;34m(self, xdata, ydata, weights, smooth, axis, normalizedsmooth)\u001b[0m\n\u001b[0;32m    128\u001b[0m \u001b[38;5;28;01mdef\u001b[39;00m \u001b[38;5;21m__init__\u001b[39m(\u001b[38;5;28mself\u001b[39m,\n\u001b[0;32m    129\u001b[0m              xdata: UnivariateDataType,\n\u001b[0;32m    130\u001b[0m              ydata: MultivariateDataType,\n\u001b[1;32m   (...)\u001b[0m\n\u001b[0;32m    133\u001b[0m              axis: \u001b[38;5;28mint\u001b[39m \u001b[38;5;241m=\u001b[39m \u001b[38;5;241m-\u001b[39m\u001b[38;5;241m1\u001b[39m,\n\u001b[0;32m    134\u001b[0m              normalizedsmooth: \u001b[38;5;28mbool\u001b[39m \u001b[38;5;241m=\u001b[39m \u001b[38;5;28;01mFalse\u001b[39;00m):\n\u001b[1;32m--> 136\u001b[0m     x, y, w, shape, axis \u001b[38;5;241m=\u001b[39m \u001b[38;5;28;43mself\u001b[39;49m\u001b[38;5;241;43m.\u001b[39;49m\u001b[43m_prepare_data\u001b[49m\u001b[43m(\u001b[49m\u001b[43mxdata\u001b[49m\u001b[43m,\u001b[49m\u001b[43m \u001b[49m\u001b[43mydata\u001b[49m\u001b[43m,\u001b[49m\u001b[43m \u001b[49m\u001b[43mweights\u001b[49m\u001b[43m,\u001b[49m\u001b[43m \u001b[49m\u001b[43maxis\u001b[49m\u001b[43m)\u001b[49m\n\u001b[0;32m    137\u001b[0m     coeffs, smooth \u001b[38;5;241m=\u001b[39m \u001b[38;5;28mself\u001b[39m\u001b[38;5;241m.\u001b[39m_make_spline(x, y, w, smooth, shape, normalizedsmooth)\n\u001b[0;32m    138\u001b[0m     spline \u001b[38;5;241m=\u001b[39m SplinePPForm\u001b[38;5;241m.\u001b[39mconstruct_fast(coeffs, x, axis\u001b[38;5;241m=\u001b[39maxis)\n",
      "File \u001b[1;32mc:\\Users\\sophi\\anaconda3\\envs\\drcrc_env\\Lib\\site-packages\\csaps\\_sspumv.py:212\u001b[0m, in \u001b[0;36mCubicSmoothingSpline._prepare_data\u001b[1;34m(xdata, ydata, weights, axis)\u001b[0m\n\u001b[0;32m    209\u001b[0m axis \u001b[38;5;241m=\u001b[39m ydata\u001b[38;5;241m.\u001b[39mndim \u001b[38;5;241m+\u001b[39m axis \u001b[38;5;28;01mif\u001b[39;00m axis \u001b[38;5;241m<\u001b[39m \u001b[38;5;241m0\u001b[39m \u001b[38;5;28;01melse\u001b[39;00m axis\n\u001b[0;32m    211\u001b[0m \u001b[38;5;28;01mif\u001b[39;00m ydata\u001b[38;5;241m.\u001b[39mshape[axis] \u001b[38;5;241m!=\u001b[39m xdata\u001b[38;5;241m.\u001b[39msize:\n\u001b[1;32m--> 212\u001b[0m     \u001b[38;5;28;01mraise\u001b[39;00m \u001b[38;5;167;01mValueError\u001b[39;00m(\n\u001b[0;32m    213\u001b[0m         \u001b[38;5;124mf\u001b[39m\u001b[38;5;124m\"\u001b[39m\u001b[38;5;124m'\u001b[39m\u001b[38;5;124mydata\u001b[39m\u001b[38;5;124m'\u001b[39m\u001b[38;5;124m data must be a 1-D or N-D array with shape[\u001b[39m\u001b[38;5;132;01m{\u001b[39;00maxis\u001b[38;5;132;01m}\u001b[39;00m\u001b[38;5;124m] \u001b[39m\u001b[38;5;124m\"\u001b[39m\n\u001b[0;32m    214\u001b[0m         \u001b[38;5;124mf\u001b[39m\u001b[38;5;124m\"\u001b[39m\u001b[38;5;124mthat is equal to \u001b[39m\u001b[38;5;124m'\u001b[39m\u001b[38;5;124mxdata\u001b[39m\u001b[38;5;124m'\u001b[39m\u001b[38;5;124m size (\u001b[39m\u001b[38;5;132;01m{\u001b[39;00mxdata\u001b[38;5;241m.\u001b[39msize\u001b[38;5;132;01m}\u001b[39;00m\u001b[38;5;124m)\u001b[39m\u001b[38;5;124m\"\u001b[39m)\n\u001b[0;32m    216\u001b[0m \u001b[38;5;66;03m# Rolling axis for using its shape while constructing coeffs array\u001b[39;00m\n\u001b[0;32m    217\u001b[0m shape \u001b[38;5;241m=\u001b[39m np\u001b[38;5;241m.\u001b[39mrollaxis(ydata, axis)\u001b[38;5;241m.\u001b[39mshape\n",
      "\u001b[1;31mValueError\u001b[0m: 'ydata' data must be a 1-D or N-D array with shape[0] that is equal to 'xdata' size (10)"
     ]
    }
   ],
   "source": [
    "markov_tmat = result\n",
    "treeage_tmat = smooth_tmat(markov_tmat, save=False, timestamp=\"20241218_1605\")\n",
    "p.plot_params(markov_tmat, treeage_tmat, save_imgs=False, show_plot=True)"
   ]
  },
  {
   "cell_type": "code",
   "execution_count": null,
   "metadata": {},
   "outputs": [],
   "source": []
  }
 ],
 "metadata": {
  "kernelspec": {
   "display_name": "drcrc_env",
   "language": "python",
   "name": "python3"
  },
  "language_info": {
   "codemirror_mode": {
    "name": "ipython",
    "version": 3
   },
   "file_extension": ".py",
   "mimetype": "text/x-python",
   "name": "python",
   "nbconvert_exporter": "python",
   "pygments_lexer": "ipython3",
   "version": "3.12.4"
  }
 },
 "nbformat": 4,
 "nbformat_minor": 2
}
