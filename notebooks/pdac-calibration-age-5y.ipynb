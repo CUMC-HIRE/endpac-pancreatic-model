{
 "cells": [
  {
   "cell_type": "markdown",
   "metadata": {},
   "source": [
    "# PDAC Calibration - 5y probability changes\n",
    "\n",
    "Author: Sophie Wagner, sw3767@cumc.columbia.edu"
   ]
  },
  {
   "cell_type": "markdown",
   "metadata": {},
   "source": [
    "## Packages, notebook preferences, etc."
   ]
  },
  {
   "cell_type": "code",
   "execution_count": 1,
   "metadata": {},
   "outputs": [],
   "source": [
    "# Required Packages\n",
    "import numpy as np  # For matrix manipulation\n",
    "import pandas as pd  # For output/input data processing\n",
    "import matplotlib.pyplot as plt  # For visualizations\n",
    "from csaps import csaps\n",
    "from tqdm import tqdm\n",
    "from datetime import datetime\n",
    "import random \n",
    "\n",
    "# Add the src directory to the Python path\n",
    "import sys\n",
    "import os\n",
    "sys.path.append(os.path.abspath('../src'))\n",
    "\n",
    "# Load .py files\n",
    "import common_functions as func\n",
    "import calibration_plots as p\n",
    "import configs as c\n",
    "import gof\n",
    "\n",
    "# Some aesthetic options\n",
    "np.set_printoptions(suppress=True, linewidth=300, formatter={'float': '{: 0.9f}'.format})\n",
    "pd.set_option('display.max_columns', None)\n",
    "pd.set_option('display.max_rows', None)"
   ]
  },
  {
   "cell_type": "markdown",
   "metadata": {},
   "source": [
    "## Set up matrix"
   ]
  },
  {
   "cell_type": "code",
   "execution_count": 2,
   "metadata": {},
   "outputs": [],
   "source": [
    "def row_normalize(matrix):\n",
    "    \n",
    "    for age_layer in range(matrix.shape[0]):\n",
    "        layer = matrix[age_layer, :, :]\n",
    "        non_diag_sum = np.sum(layer, axis=1) - np.diagonal(layer)\n",
    "\n",
    "        # Scale rows if non-diagonal sum exceeds 1\n",
    "        scaling_factors = np.clip(1 / non_diag_sum, None, 1)\n",
    "        layer *= scaling_factors[:, np.newaxis]  # Scale entire row\n",
    "\n",
    "        # Adjust diagonal elements to ensure each row sums to 1\n",
    "        np.fill_diagonal(layer, np.maximum(0, 1 - np.sum(layer, axis=1) + np.diagonal(layer)))\n",
    "\n",
    "        # Update the matrix for the current age layer\n",
    "        matrix[age_layer, :, :] = layer\n",
    "\n",
    "    return matrix.clip(0.0, 1.0)\n",
    "\n",
    "\n",
    "def create_matrix():\n",
    "    \n",
    "    matrix = np.zeros((len(c.age_layers_5y), len(c.health_states_itos), len(c.health_states_itos)))\n",
    "    age_50_idx = 6\n",
    "    matrix[:, 0, 1] = (1-(1-0.0011)**(1/25)) # average risk after 50 ~ 0.0011, transformed to annual prob\n",
    "    matrix[:age_50_idx, 0, 1] = np.linspace(0.000002,matrix[-1,0,1],age_50_idx)\n",
    "    matrix[:, 1, 2] = 0.45 # c.model_inputs_dict['p_Local_to_Regional_PC']\n",
    "    matrix[:, 2, 3] = 0.5 # c.model_inputs_dict['p_Regional_to_Distant_PC']\n",
    "    matrix[:, 1, 4] = 0.05 # c.model_inputs_dict['p_symptom_local'] \n",
    "    matrix[:, 2, 5] = 0.3 # c.model_inputs_dict['p_symptom_regional']\n",
    "    matrix[:, 3, 6] = 0.5 # c.model_inputs_dict['p_symptom_distant']\n",
    "    \n",
    "    matrix = add_acm(matrix)  # ACM\n",
    "    matrix = add_csd(matrix)  # CSD\n",
    "    matrix = constrain_matrix(matrix)  # constrain\n",
    "    matrix = row_normalize(matrix)  # normalize\n",
    "\n",
    "    return matrix\n",
    "\n",
    "\n",
    "def constrain_matrix(matrix):\n",
    "    \n",
    "    matrix[:, 0, 1] = np.maximum(matrix[:,0,1], 0.0000001)\n",
    "    # matrix[:, 0, 1] = np.maximum.accumulate(matrix[:, 0, 1])\n",
    "    matrix[:, 1, 2] = np.maximum(matrix[:, 0, 1], matrix[:, 1, 2]).clip(0.00001, 1.0)\n",
    "    matrix[:, 2, 3] = np.maximum(matrix[:, 1, 2], matrix[:, 2, 3]).clip(0.00001, 1.0)\n",
    "    matrix[:, 2, 5] = np.maximum(matrix[:, 1, 4], matrix[:, 2, 5]).clip(0.00001, 1.0)\n",
    "    matrix[:, 3, 6] = np.maximum(matrix[:, 2, 5], matrix[:, 3, 6]).clip(0.00001, 1.0)\n",
    "    \n",
    "    # Maintain logical consistency\n",
    "    matrix[:, 1, 4] = np.minimum(matrix[:, 1, 4], matrix[:, 2, 5])\n",
    "    matrix[:, 2, 5] = np.minimum(matrix[:, 2, 5], matrix[:, 3, 6])\n",
    "    \n",
    "    return matrix\n",
    "\n",
    "\n",
    "def add_acm(matrix):\n",
    "    \n",
    "    matrix[:, :7, 8] = c.acm_5y[:, np.newaxis]\n",
    "    matrix[:, 8, 8] = 1\n",
    "    \n",
    "    return matrix\n",
    "\n",
    "\n",
    "def add_csd(matrix):  # Constant death rate in calibration\n",
    "    \n",
    "    matrix[:, 4, 7] = c.model_inputs_dict['p_local_death']\n",
    "    matrix[:, 5, 7] = c.model_inputs_dict['p_regional_death']\n",
    "    matrix[:, 6, 7] = c.model_inputs_dict['p_distant_death']\n",
    "    matrix[:, 7, 7] = 1\n",
    "    \n",
    "    return matrix"
   ]
  },
  {
   "cell_type": "markdown",
   "metadata": {},
   "source": [
    "## Markov model"
   ]
  },
  {
   "cell_type": "code",
   "execution_count": 3,
   "metadata": {},
   "outputs": [],
   "source": [
    "def run_markov(matrix, starting_age=20, max_age=84):\n",
    "    \n",
    "    current_age = starting_age\n",
    "    age_layer = 0\n",
    "    month_pop, pop_log = c.starting_pop, c.starting_pop  # (13, 1)\n",
    "    inc_log = np.zeros(pop_log.shape)  # to track new incidences in each state\n",
    "    matrixT = matrix.transpose(0,2,1)  # (13, 9, 9)\n",
    "    inflow_matrix = np.tril(matrixT, k=-1)\n",
    "    \n",
    "    while current_age < max_age:            \n",
    "\n",
    "        # Matrix multiplication (state transition)\n",
    "        mat, inflow_mat = matrixT[age_layer], inflow_matrix[age_layer] \n",
    "        month_inc = np.matmul(inflow_mat, month_pop)  # (9, 9)(9, 1)->(9, 1)\n",
    "        month_pop = np.matmul(mat, month_pop)  # (9, 9)(9, 1)->(9, 1)\n",
    "         \n",
    "        # Add to log\n",
    "        inc_log = np.concatenate((inc_log, month_inc), axis=1)  # (13, 65)\n",
    "        pop_log = np.concatenate((pop_log, month_pop), axis=1)  # (13, 65)\n",
    "        \n",
    "        current_age += 1\n",
    "        if current_age in c.ages_5y:\n",
    "            age_layer += 1\n",
    "            \n",
    "    incidence, incidence_unadj = inc_log.copy(), inc_log.copy()\n",
    "    dead_factor = np.divide(c.N, c.N - pop_log[7:, :].sum(axis=0))  # inc and prev denominator is out of living only\n",
    "    prevalence = np.zeros(pop_log.shape) \n",
    "\n",
    "    for state in range(9):\n",
    "        incidence[state, :] = np.multiply(incidence[state, :], dead_factor)\n",
    "        prevalence[state, :] = np.multiply(pop_log[state, :], dead_factor)\n",
    "\n",
    "    return incidence, prevalence, incidence_unadj, pop_log"
   ]
  },
  {
   "cell_type": "markdown",
   "metadata": {},
   "source": [
    "## Calibration"
   ]
  },
  {
   "cell_type": "code",
   "execution_count": 4,
   "metadata": {},
   "outputs": [],
   "source": [
    "# points = [(0,1)]\n",
    "age_mids = [22.5,27.5,32.5,37.5,42.5,47.5,52.5,57.5,62.5,67.5,72.5,77.5,82.5]\n",
    "def step(matrix, step_size, num_adj=3):\n",
    "    \"\"\"\n",
    "    Updates a parameter matrix, using reduced 5-y interval matrix (to reduce number of\n",
    "    parameters to adjust, faster convergence, smoother parameter change). Randomly \n",
    "    selected transitions and age groups are adjusted by a scaled step size, then smoothed\n",
    "    and interpolated to get yearly values.\n",
    "\n",
    "    Args:\n",
    "        matrix (numpy.ndarray): Full parameter matrix for all ages and transitions.\n",
    "        step_size (float): Scale of parameter adjustments.\n",
    "        num_adj (int): Number of parameters to modify.\n",
    "\n",
    "    Returns:\n",
    "        numpy.ndarray: Updated matrix with smoothed yearly transition probabilities.\n",
    "    \"\"\"\n",
    "    points = list(c.transitions_itos.keys()) \n",
    "    step_tp = random.choices(points, k=num_adj)\n",
    "    step_age = random.choices(c.age_layers_adj, k=num_adj)\n",
    "    new_matrix = matrix.copy()\n",
    "        \n",
    "    for i in range(num_adj):\n",
    "        (from_state, to_state), age = step_tp[i], step_age[i]\n",
    "        old_param = new_matrix[age, from_state, to_state] \n",
    "        step_param = (old_param * step_size).clip(0.00001, 0.1)\n",
    "        new_matrix[age, from_state, to_state] += np.random.uniform(low=-step_param, high=step_param)\n",
    "\n",
    "    new_matrix = csaps([22.5,27.5,32.5,37.5,42.5,47.5,52.5,57.5,62.5,67.5,72.5,77.5,82.5], new_matrix, axis=0, smooth=0.01)(age_mids).clip(0.0,1.0)\n",
    "\n",
    "    new_matrix = add_acm(new_matrix)  # ACM\n",
    "    new_matrix = add_csd(new_matrix)  # CSD\n",
    "    new_matrix = constrain_matrix(new_matrix)  # constrain\n",
    "    new_matrix = row_normalize(new_matrix)  # normalize\n",
    "\n",
    "    return new_matrix"
   ]
  },
  {
   "cell_type": "code",
   "execution_count": 5,
   "metadata": {},
   "outputs": [],
   "source": [
    "def progress_report(iteration, best_eval, best_log, ticker, best_t):\n",
    "    \"\"\"\n",
    "    Prints progress report during simulated annealing.\n",
    "    \"\"\"\n",
    "    log_adj, _, inc_log, _ = best_log\n",
    "    total_dxd = np.sum(inc_log[4:7, :]) / c.N\n",
    "    print(f\"{iteration}: Best Eval: {best_eval:.5f}, PDAC: {total_dxd:.5f}, Tick: {ticker}\")\n",
    "    \n",
    "    if iteration % 50000 == 0:\n",
    "        transition_probs = p.extract_transition_probs(best_t, metric=\"avg\")\n",
    "        print(f\"Detailed Progress Report, Iteration = {iteration}\")\n",
    "        print(transition_probs)\n",
    "        p.plot_vs_seer(log_adj, c.seer_inc)"
   ]
  },
  {
   "cell_type": "code",
   "execution_count": 6,
   "metadata": {},
   "outputs": [],
   "source": [
    "def obj_fn(tm, obj):\n",
    "    score = gof.objective(run_markov(tm))\n",
    "    if obj == \"cp\":\n",
    "        score += gof.objective_cp(tm)\n",
    "    return score"
   ]
  },
  {
   "cell_type": "code",
   "execution_count": 7,
   "metadata": {},
   "outputs": [],
   "source": [
    "def simulated_annealing(n_iterations, step_size, start_tmat, n_adj=5, starting_temp=1, verbose=False, print_interval=1000, obj=\"\"):\n",
    "    \"\"\"\n",
    "    Performs simulated annealing to optimize a transition matrix.\n",
    "\n",
    "    Args:\n",
    "        n_iterations (int): Number of iterations for optimization.\n",
    "        step_size (float): Step size for parameter adjustments.\n",
    "        start_tmat (numpy.ndarray): Initial transition matrix.\n",
    "        n_adj (int): Number of parameters to adjust per step.\n",
    "        starting_temp (float): Initial temperature for annealing.\n",
    "        verbose (bool): Whether to print progress reports.\n",
    "        print_interval (int): Interval for progress reporting.\n",
    "\n",
    "    Returns:\n",
    "        numpy.ndarray: Optimized transition matrix.\n",
    "    \"\"\"\n",
    "    initial_score = obj_fn(start_tmat, obj)\n",
    "    best_t = np.copy(start_tmat)\n",
    "    best_log = run_markov(best_t)\n",
    "    best_eval = obj_fn(start_tmat, obj)\n",
    "    curr_t, curr_eval = best_t, best_eval\n",
    "    scheduler, ticker, iter_count = 0, 0, 0 \n",
    "\n",
    "    with tqdm(total=n_iterations, desc=\"Simulated annealing progress\", unit=\"iteration\") as pbar:\n",
    "        for i in range(n_iterations):\n",
    "            # Generate candidate solution\n",
    "            candidate_t = step(np.copy(curr_t), step_size, n_adj)\n",
    "            candidate_eval = obj_fn(candidate_t, obj)\n",
    "\n",
    "            # Update best solution\n",
    "            if candidate_eval < best_eval:\n",
    "                ticker, scheduler = 0, 0\n",
    "                best_t, best_eval = np.copy(candidate_t), candidate_eval\n",
    "                best_log = run_markov(best_t)\n",
    "                \n",
    "            else:\n",
    "                ticker += 1\n",
    "                iter_count+=1\n",
    "                scheduler+=1\n",
    "\n",
    "            # Calculate temperature and Metropolis acceptance criterion\n",
    "            t = starting_temp / (1 + 0.01 * np.sqrt(iter_count + 1))  # Adaptive cooling\n",
    "            diff = candidate_eval - curr_eval\n",
    "            metropolis = np.exp(-diff / t)\n",
    "\n",
    "            if diff < 0 or np.random.random() < metropolis:\n",
    "                curr_t, curr_eval = np.copy(candidate_t), candidate_eval\n",
    "\n",
    "            # Print progress report\n",
    "            if verbose and i > 0 and i % print_interval == 0:\n",
    "                progress_report(i, best_eval, best_log, ticker, best_t)\n",
    "\n",
    "            # Adjust or reset exploration parameters periodically\n",
    "            if scheduler > 50000:  # Long stagnation\n",
    "                step_size = np.random.uniform(0.1, 0.3)  # Randomize step size\n",
    "                starting_temp = np.random.uniform(10, 50)  # Reset temperature\n",
    "                n_adj = np.random.choice(range(1, 12))  # Random adjustments\n",
    "                scheduler, iter_count = 0, 0, 0 # Reset \n",
    "            elif scheduler > 15000:  # Medium stagnation\n",
    "                step_size = min(step_size + 0.05, 0.3)  # Increase step size for exploration\n",
    "                starting_temp = min(starting_temp + 2, 50)  # Boost temperature for exploration\n",
    "                n_adj = np.random.choice(range(3, 10))  # Randomize number of parameters to adjust\n",
    "                scheduler, iter_count = 0, 0  # Reset stagnation counter\n",
    "\n",
    "                \n",
    "            pbar.update(1)\n",
    "\n",
    "    print(f\"Start: {round(initial_score, 5)}     |     End: {round(best_eval,5)}\")\n",
    "    return best_t"
   ]
  },
  {
   "cell_type": "code",
   "execution_count": 8,
   "metadata": {},
   "outputs": [],
   "source": [
    "def run_sa(tmat=None, save_all=False, n_iterations=50000, step_size=0.2, n_adj=5, starting_temp=1, print_interval=5000, obj=\"\"):\n",
    "    \n",
    "    start_tmat = None\n",
    "    start_tmat = tmat if tmat is not None else create_matrix()   \n",
    "    #initial_score = obj_fn(start_tmat, obj)\n",
    "    #print(f\"Initial score: {round(initial_score, 5)}\")\n",
    "    #print(\"Starting calibration...\")\n",
    "    \n",
    "    result = simulated_annealing(n_iterations=n_iterations, step_size=step_size, start_tmat=start_tmat, n_adj=n_adj, starting_temp=starting_temp, verbose=True, print_interval=print_interval, obj=obj)\n",
    "    \n",
    "    # Gather results\n",
    "    timestamp = datetime.now().strftime(\"%Y%m%d_%H%M\")\n",
    "    curr_tmat = result.copy()\n",
    "    curr_log = run_markov(curr_tmat)\n",
    "    log_adj, log_prev, log_inc, pop_log = curr_log\n",
    "    final_score = obj_fn(curr_tmat, obj)\n",
    "    \n",
    "    save = save_all\n",
    "    \n",
    "    # print(\"Done.\")\n",
    "    \n",
    "    # Saving\n",
    "    if save:\n",
    "        log_path, tmat_path, plot_path = c.OUTPUT_PATHS[\"logs\"], c.OUTPUT_PATHS[\"tmats\"], c.OUTPUT_PATHS[\"plots\"]\n",
    "        np.save(f\"{tmat_path}/{timestamp}_tmat.npy\", curr_tmat)\n",
    "        # pd.DataFrame(log_adj).to_csv(f\"{log_path}/{timestamp}_inc_adj.csv\")\n",
    "        # pd.DataFrame(log_prev).to_csv(f\"{log_path}/{timestamp}_prev.csv\")\n",
    "        # pd.DataFrame(log_inc).to_csv(f\"{log_path}/{timestamp}_inc_unadj.csv\")\n",
    "        # pd.DataFrame(pop_log.T).to_csv(f\"{log_path}/{timestamp}_pop_log.csv\")\n",
    "        p.plot_vs_seer(log_adj, c.seer_inc, save_imgs=True, show_plot=False, outpath=plot_path, timestamp=timestamp)\n",
    "        p.plot_vs_seer_total(log_adj, c.seer_inc, save_imgs=True, show_plot=False, outpath=plot_path, timestamp=timestamp)\n",
    "\n",
    "    return curr_tmat"
   ]
  },
  {
   "cell_type": "markdown",
   "metadata": {},
   "source": [
    "## Run simulated annealing"
   ]
  },
  {
   "cell_type": "code",
   "execution_count": 9,
   "metadata": {},
   "outputs": [],
   "source": [
    "from scipy.stats import sem, t\n",
    "\n",
    "def summarize_data(data):\n",
    "    \"\"\"\n",
    "    Returns the min, max, median, mean, and 95% confidence interval of a dataset.\n",
    "    \n",
    "    Parameters:\n",
    "        data (list or numpy array): Input data\n",
    "    \n",
    "    Returns:\n",
    "        dict: Summary statistics\n",
    "    \"\"\"\n",
    "    if len(data) == 0:\n",
    "        return \"Data is empty.\"\n",
    "    \n",
    "    # Convert to numpy array for convenience\n",
    "    data = np.array(data)\n",
    "    \n",
    "    # Summary statistics\n",
    "    min_val = np.min(data)\n",
    "    max_val = np.max(data)\n",
    "    median_val = np.median(data)\n",
    "    mean_val = np.mean(data)\n",
    "    \n",
    "    # Compute 95% confidence interval\n",
    "    confidence = 0.95\n",
    "    n = len(data)\n",
    "    if n > 1:\n",
    "        std_err = sem(data)\n",
    "        h = std_err * t.ppf((1 + confidence) / 2, n - 1)\n",
    "        ci_lower = mean_val - h\n",
    "        ci_upper = mean_val + h\n",
    "    else:\n",
    "        ci_lower = ci_upper = mean_val  # No confidence interval for a single data point\n",
    "\n",
    "    return pd.DataFrame({\n",
    "        \"min\": round(min_val,2),\n",
    "        \"max\": round(max_val,2),\n",
    "        \"median\": round(median_val,2),\n",
    "        \"mean\": round(mean_val,2),\n",
    "        \"95% CI lower\": round(ci_lower,2),\n",
    "        \"95% CI upper\": round(ci_upper,2)\n",
    "    }, index=[0])"
   ]
  },
  {
   "cell_type": "code",
   "execution_count": 10,
   "metadata": {},
   "outputs": [
    {
     "data": {
      "text/plain": [
       "'average'"
      ]
     },
     "execution_count": 10,
     "metadata": {},
     "output_type": "execute_result"
    }
   ],
   "source": [
    "c.risk"
   ]
  },
  {
   "cell_type": "markdown",
   "metadata": {},
   "source": [
    "### Log"
   ]
  },
  {
   "cell_type": "markdown",
   "metadata": {},
   "source": [
    "double"
   ]
  },
  {
   "cell_type": "code",
   "execution_count": null,
   "metadata": {},
   "outputs": [],
   "source": [
    "result = create_matrix()\n",
    "result = run_sa(result, True, 100000, step_size=0.2, n_adj=5, starting_temp=5)\n",
    "# 20250113_0807, Eval 65"
   ]
  },
  {
   "cell_type": "code",
   "execution_count": null,
   "metadata": {},
   "outputs": [],
   "source": [
    "result=np.load(\"../out/double/tmats/20250113_0807_tmat.npy\")\n",
    "result=run_sa(result, False, 50000, 0.25, 3, 5, obj=\"cp\")\n",
    "# 20250113_0915   |   Eval: 98.58389, PDAC: 0.01260, Tick: 5821"
   ]
  },
  {
   "cell_type": "code",
   "execution_count": null,
   "metadata": {},
   "outputs": [],
   "source": [
    "result=np.load(\"../out/double/tmats/20250113_0915_tmat.npy\")\n",
    "result=run_sa(result, True, 50000, 0.25, 3, 5, obj=\"cp\")\n",
    "# 20250113_0921  |  Eval: 70.85809, PDAC: 0.01243, Median: 4.39 ys"
   ]
  },
  {
   "cell_type": "markdown",
   "metadata": {},
   "source": [
    "average"
   ]
  },
  {
   "cell_type": "code",
   "execution_count": 14,
   "metadata": {},
   "outputs": [
    {
     "name": "stderr",
     "output_type": "stream",
     "text": [
      "C:\\Users\\sophi\\AppData\\Local\\Temp\\ipykernel_51056\\2699326569.py:8: RuntimeWarning: divide by zero encountered in divide\n",
      "  scaling_factors = np.clip(1 / non_diag_sum, None, 1)\n",
      "Simulated annealing progress:   0%|          | 0/50000 [00:00<?, ?iteration/s]"
     ]
    },
    {
     "name": "stderr",
     "output_type": "stream",
     "text": [
      "Simulated annealing progress:  10%|█         | 5033/50000 [00:18<02:47, 268.60iteration/s]"
     ]
    },
    {
     "name": "stdout",
     "output_type": "stream",
     "text": [
      "5000: Best Eval: 58.64368, PDAC: 0.00737, Tick: 623\n"
     ]
    },
    {
     "name": "stderr",
     "output_type": "stream",
     "text": [
      "Simulated annealing progress:  20%|██        | 10040/50000 [00:36<02:16, 292.93iteration/s]"
     ]
    },
    {
     "name": "stdout",
     "output_type": "stream",
     "text": [
      "10000: Best Eval: 57.32329, PDAC: 0.00731, Tick: 3719\n"
     ]
    },
    {
     "name": "stderr",
     "output_type": "stream",
     "text": [
      "Simulated annealing progress:  30%|███       | 15044/50000 [00:54<02:04, 280.16iteration/s]"
     ]
    },
    {
     "name": "stdout",
     "output_type": "stream",
     "text": [
      "15000: Best Eval: 57.32329, PDAC: 0.00731, Tick: 8719\n"
     ]
    },
    {
     "name": "stderr",
     "output_type": "stream",
     "text": [
      "Simulated annealing progress:  40%|████      | 20033/50000 [01:16<01:42, 292.90iteration/s]"
     ]
    },
    {
     "name": "stdout",
     "output_type": "stream",
     "text": [
      "20000: Best Eval: 51.05413, PDAC: 0.00729, Tick: 3289\n"
     ]
    },
    {
     "name": "stderr",
     "output_type": "stream",
     "text": [
      "Simulated annealing progress:  50%|█████     | 25057/50000 [01:33<01:16, 325.16iteration/s]"
     ]
    },
    {
     "name": "stdout",
     "output_type": "stream",
     "text": [
      "25000: Best Eval: 51.05413, PDAC: 0.00729, Tick: 8289\n"
     ]
    },
    {
     "name": "stderr",
     "output_type": "stream",
     "text": [
      "Simulated annealing progress:  60%|██████    | 30063/50000 [01:49<01:00, 327.14iteration/s]"
     ]
    },
    {
     "name": "stdout",
     "output_type": "stream",
     "text": [
      "30000: Best Eval: 51.05413, PDAC: 0.00729, Tick: 13289\n"
     ]
    },
    {
     "name": "stderr",
     "output_type": "stream",
     "text": [
      "Simulated annealing progress:  70%|███████   | 35010/50000 [02:47<05:01, 49.79iteration/s] "
     ]
    },
    {
     "name": "stdout",
     "output_type": "stream",
     "text": [
      "35000: Best Eval: 36.01659, PDAC: 0.00711, Tick: 33\n"
     ]
    },
    {
     "name": "stderr",
     "output_type": "stream",
     "text": [
      "Simulated annealing progress:  80%|████████  | 40008/50000 [04:10<03:58, 41.88iteration/s] "
     ]
    },
    {
     "name": "stdout",
     "output_type": "stream",
     "text": [
      "40000: Best Eval: 36.01659, PDAC: 0.00711, Tick: 5033\n"
     ]
    },
    {
     "name": "stderr",
     "output_type": "stream",
     "text": [
      "Simulated annealing progress:  90%|█████████ | 45010/50000 [05:54<00:45, 109.95iteration/s]"
     ]
    },
    {
     "name": "stdout",
     "output_type": "stream",
     "text": [
      "45000: Best Eval: 35.07664, PDAC: 0.00718, Tick: 2802\n"
     ]
    },
    {
     "name": "stderr",
     "output_type": "stream",
     "text": [
      "Simulated annealing progress: 100%|██████████| 50000/50000 [07:05<00:00, 117.42iteration/s]"
     ]
    },
    {
     "name": "stdout",
     "output_type": "stream",
     "text": [
      "Start: 11328.90054     |     End: 35.07664\n"
     ]
    },
    {
     "name": "stderr",
     "output_type": "stream",
     "text": [
      "\n"
     ]
    }
   ],
   "source": [
    "result = create_matrix()\n",
    "result = run_sa(result, False, 50000, step_size=0.2, n_adj=5, starting_temp=5)\n"
   ]
  },
  {
   "cell_type": "code",
   "execution_count": 15,
   "metadata": {},
   "outputs": [],
   "source": [
    "np.save(f\"../out/avg/tmats/20250113_1030_tmat.npy\", result)"
   ]
  },
  {
   "cell_type": "code",
   "execution_count": 16,
   "metadata": {},
   "outputs": [
    {
     "data": {
      "image/png": "[encoded data removed]",
      "text/plain": [
       "<Figure size 640x480 with 1 Axes>"
      ]
     },
     "metadata": {},
     "output_type": "display_data"
    }
   ],
   "source": [
    "p.plot_vs_seer(run_markov(result)[0], show_plot=True)"
   ]
  },
  {
   "cell_type": "code",
   "execution_count": 17,
   "metadata": {},
   "outputs": [
    {
     "data": {
      "text/html": [
       "<div>\n",
       "<style scoped>\n",
       "    .dataframe tbody tr th:only-of-type {\n",
       "        vertical-align: middle;\n",
       "    }\n",
       "\n",
       "    .dataframe tbody tr th {\n",
       "        vertical-align: top;\n",
       "    }\n",
       "\n",
       "    .dataframe thead th {\n",
       "        text-align: right;\n",
       "    }\n",
       "</style>\n",
       "<table border=\"1\" class=\"dataframe\">\n",
       "  <thead>\n",
       "    <tr style=\"text-align: right;\">\n",
       "      <th></th>\n",
       "      <th>min</th>\n",
       "      <th>max</th>\n",
       "      <th>median</th>\n",
       "      <th>mean</th>\n",
       "      <th>95% CI lower</th>\n",
       "      <th>95% CI upper</th>\n",
       "    </tr>\n",
       "  </thead>\n",
       "  <tbody>\n",
       "    <tr>\n",
       "      <th>0</th>\n",
       "      <td>2.89</td>\n",
       "      <td>6.78</td>\n",
       "      <td>4.42</td>\n",
       "      <td>4.58</td>\n",
       "      <td>3.82</td>\n",
       "      <td>5.35</td>\n",
       "    </tr>\n",
       "  </tbody>\n",
       "</table>\n",
       "</div>"
      ],
      "text/plain": [
       "    min   max  median  mean  95% CI lower  95% CI upper\n",
       "0  2.89  6.78    4.42  4.58          3.82          5.35"
      ]
     },
     "execution_count": 17,
     "metadata": {},
     "output_type": "execute_result"
    }
   ],
   "source": [
    "summarize_data(gof.cancer_progression(result))"
   ]
  },
  {
   "cell_type": "code",
   "execution_count": 18,
   "metadata": {},
   "outputs": [
    {
     "name": "stderr",
     "output_type": "stream",
     "text": [
      "Simulated annealing progress:   0%|          | 0/100000 [00:00<?, ?iteration/s]C:\\Users\\sophi\\AppData\\Local\\Temp\\ipykernel_51056\\2699326569.py:8: RuntimeWarning: divide by zero encountered in divide\n",
      "  scaling_factors = np.clip(1 / non_diag_sum, None, 1)\n",
      "Simulated annealing progress:   5%|▌         | 5001/100000 [01:36<50:48, 31.17iteration/s]  "
     ]
    },
    {
     "name": "stdout",
     "output_type": "stream",
     "text": [
      "5000: Best Eval: 81.12393, PDAC: 0.00729, Tick: 454\n"
     ]
    },
    {
     "name": "stderr",
     "output_type": "stream",
     "text": [
      "Simulated annealing progress:  10%|█         | 10021/100000 [04:08<18:58, 79.01iteration/s] "
     ]
    },
    {
     "name": "stdout",
     "output_type": "stream",
     "text": [
      "10000: Best Eval: 42.94376, PDAC: 0.00706, Tick: 993\n"
     ]
    },
    {
     "name": "stderr",
     "output_type": "stream",
     "text": [
      "Simulated annealing progress:  15%|█▌        | 15019/100000 [06:15<16:25, 86.22iteration/s]  "
     ]
    },
    {
     "name": "stdout",
     "output_type": "stream",
     "text": [
      "15000: Best Eval: 42.94376, PDAC: 0.00706, Tick: 5993\n"
     ]
    },
    {
     "name": "stderr",
     "output_type": "stream",
     "text": [
      "Simulated annealing progress:  20%|██        | 20012/100000 [07:48<11:54, 111.94iteration/s] "
     ]
    },
    {
     "name": "stdout",
     "output_type": "stream",
     "text": [
      "20000: Best Eval: 42.94376, PDAC: 0.00706, Tick: 10993\n"
     ]
    },
    {
     "name": "stderr",
     "output_type": "stream",
     "text": [
      "Simulated annealing progress:  25%|██▌       | 25013/100000 [09:15<14:53, 83.89iteration/s]  "
     ]
    },
    {
     "name": "stdout",
     "output_type": "stream",
     "text": [
      "25000: Best Eval: 42.94376, PDAC: 0.00706, Tick: 15993\n"
     ]
    },
    {
     "name": "stderr",
     "output_type": "stream",
     "text": [
      "Simulated annealing progress:  30%|███       | 30026/100000 [10:02<09:50, 118.41iteration/s]"
     ]
    },
    {
     "name": "stdout",
     "output_type": "stream",
     "text": [
      "30000: Best Eval: 42.94376, PDAC: 0.00706, Tick: 20993\n"
     ]
    },
    {
     "name": "stderr",
     "output_type": "stream",
     "text": [
      "Simulated annealing progress:  35%|███▌      | 35022/100000 [10:47<09:49, 110.16iteration/s]"
     ]
    },
    {
     "name": "stdout",
     "output_type": "stream",
     "text": [
      "35000: Best Eval: 42.94376, PDAC: 0.00706, Tick: 25993\n"
     ]
    },
    {
     "name": "stderr",
     "output_type": "stream",
     "text": [
      "Simulated annealing progress:  40%|████      | 40016/100000 [11:29<08:34, 116.53iteration/s]"
     ]
    },
    {
     "name": "stdout",
     "output_type": "stream",
     "text": [
      "40000: Best Eval: 41.46795, PDAC: 0.00700, Tick: 620\n"
     ]
    },
    {
     "name": "stderr",
     "output_type": "stream",
     "text": [
      "Simulated annealing progress:  45%|████▌     | 45018/100000 [12:13<08:31, 107.46iteration/s]"
     ]
    },
    {
     "name": "stdout",
     "output_type": "stream",
     "text": [
      "45000: Best Eval: 41.46795, PDAC: 0.00700, Tick: 5620\n"
     ]
    },
    {
     "name": "stderr",
     "output_type": "stream",
     "text": [
      "Simulated annealing progress:  50%|████▉     | 49995/100000 [13:11<08:15, 101.01iteration/s]"
     ]
    },
    {
     "name": "stdout",
     "output_type": "stream",
     "text": [
      "50000: Best Eval: 39.35182, PDAC: 0.00719, Tick: 2200\n",
      "Detailed Progress Report, Iteration = 50000\n",
      "   From State    To State   Age 30   Age 75      Min      Max      Avg\n",
      "0     healthy  u_PDAC_loc  0.00041  0.00001  0.00000  0.00044  0.00018\n",
      "1  u_PDAC_loc  u_PDAC_reg  0.49102  0.45516  0.45135  0.50894  0.47087\n",
      "2  u_PDAC_reg  u_PDAC_dis  0.61805  0.56397  0.50649  0.61923  0.58244\n",
      "3  u_PDAC_loc  d_PDAC_loc  0.05020  0.00725  0.00000  0.07191  0.02641\n",
      "4  u_PDAC_reg  d_PDAC_reg  0.31011  0.30850  0.26791  0.34458  0.29622\n",
      "5  u_PDAC_dis  d_PDAC_dis  0.62941  0.88076  0.60222  0.92444  0.77003\n"
     ]
    },
    {
     "data": {
      "image/png": "[encoded data removed]",
      "text/plain": [
       "<Figure size 640x480 with 1 Axes>"
      ]
     },
     "metadata": {},
     "output_type": "display_data"
    },
    {
     "name": "stderr",
     "output_type": "stream",
     "text": [
      "C:\\Users\\sophi\\AppData\\Local\\Temp\\ipykernel_51056\\2699326569.py:8: RuntimeWarning: divide by zero encountered in divide\n",
      "  scaling_factors = np.clip(1 / non_diag_sum, None, 1)\n",
      "Simulated annealing progress:  55%|█████▌    | 55017/100000 [14:03<06:46, 110.76iteration/s]"
     ]
    },
    {
     "name": "stdout",
     "output_type": "stream",
     "text": [
      "55000: Best Eval: 35.80052, PDAC: 0.00712, Tick: 3811\n"
     ]
    },
    {
     "name": "stderr",
     "output_type": "stream",
     "text": [
      "Simulated annealing progress:  60%|██████    | 60015/100000 [15:23<09:05, 73.32iteration/s] "
     ]
    },
    {
     "name": "stdout",
     "output_type": "stream",
     "text": [
      "60000: Best Eval: 35.80052, PDAC: 0.00712, Tick: 8811\n"
     ]
    },
    {
     "name": "stderr",
     "output_type": "stream",
     "text": [
      "Simulated annealing progress:  65%|██████▌   | 65028/100000 [16:51<05:46, 100.99iteration/s]"
     ]
    },
    {
     "name": "stdout",
     "output_type": "stream",
     "text": [
      "65000: Best Eval: 33.05386, PDAC: 0.00694, Tick: 867\n"
     ]
    },
    {
     "name": "stderr",
     "output_type": "stream",
     "text": [
      "Simulated annealing progress:  70%|███████   | 70007/100000 [18:35<10:47, 46.29iteration/s] "
     ]
    },
    {
     "name": "stdout",
     "output_type": "stream",
     "text": [
      "70000: Best Eval: 33.05386, PDAC: 0.00694, Tick: 5867\n"
     ]
    },
    {
     "name": "stderr",
     "output_type": "stream",
     "text": [
      "Simulated annealing progress:  75%|███████▌  | 75013/100000 [19:27<03:25, 121.58iteration/s]"
     ]
    },
    {
     "name": "stdout",
     "output_type": "stream",
     "text": [
      "75000: Best Eval: 33.05386, PDAC: 0.00694, Tick: 10867\n"
     ]
    },
    {
     "name": "stderr",
     "output_type": "stream",
     "text": [
      "Simulated annealing progress:  80%|████████  | 80015/100000 [20:17<02:57, 112.79iteration/s]"
     ]
    },
    {
     "name": "stdout",
     "output_type": "stream",
     "text": [
      "80000: Best Eval: 33.05386, PDAC: 0.00694, Tick: 15867\n"
     ]
    },
    {
     "name": "stderr",
     "output_type": "stream",
     "text": [
      "Simulated annealing progress:  85%|████████▌ | 85006/100000 [21:10<06:37, 37.70iteration/s] "
     ]
    },
    {
     "name": "stdout",
     "output_type": "stream",
     "text": [
      "85000: Best Eval: 33.05386, PDAC: 0.00694, Tick: 20867\n"
     ]
    },
    {
     "name": "stderr",
     "output_type": "stream",
     "text": [
      "Simulated annealing progress:  90%|█████████ | 90001/100000 [23:41<04:32, 36.64iteration/s]"
     ]
    },
    {
     "name": "stdout",
     "output_type": "stream",
     "text": [
      "90000: Best Eval: 33.05386, PDAC: 0.00694, Tick: 25867\n"
     ]
    },
    {
     "name": "stderr",
     "output_type": "stream",
     "text": [
      "Simulated annealing progress:  95%|█████████▌| 95007/100000 [25:07<01:59, 41.72iteration/s] "
     ]
    },
    {
     "name": "stdout",
     "output_type": "stream",
     "text": [
      "95000: Best Eval: 33.05386, PDAC: 0.00694, Tick: 30867\n"
     ]
    },
    {
     "name": "stderr",
     "output_type": "stream",
     "text": [
      "Simulated annealing progress: 100%|██████████| 100000/100000 [26:28<00:00, 62.96iteration/s]"
     ]
    },
    {
     "name": "stdout",
     "output_type": "stream",
     "text": [
      "Start: 86.78697     |     End: 33.05386\n"
     ]
    },
    {
     "name": "stderr",
     "output_type": "stream",
     "text": [
      "\n"
     ]
    }
   ],
   "source": [
    "result = run_sa(result, False, 100000, step_size=0.25, n_adj=5, starting_temp=5, obj=\"cp\")"
   ]
  },
  {
   "cell_type": "code",
   "execution_count": 19,
   "metadata": {},
   "outputs": [
    {
     "data": {
      "image/png": "[encoded data removed]",
      "text/plain": [
       "<Figure size 640x480 with 1 Axes>"
      ]
     },
     "metadata": {},
     "output_type": "display_data"
    },
    {
     "data": {
      "text/html": [
       "<div>\n",
       "<style scoped>\n",
       "    .dataframe tbody tr th:only-of-type {\n",
       "        vertical-align: middle;\n",
       "    }\n",
       "\n",
       "    .dataframe tbody tr th {\n",
       "        vertical-align: top;\n",
       "    }\n",
       "\n",
       "    .dataframe thead th {\n",
       "        text-align: right;\n",
       "    }\n",
       "</style>\n",
       "<table border=\"1\" class=\"dataframe\">\n",
       "  <thead>\n",
       "    <tr style=\"text-align: right;\">\n",
       "      <th></th>\n",
       "      <th>min</th>\n",
       "      <th>max</th>\n",
       "      <th>median</th>\n",
       "      <th>mean</th>\n",
       "      <th>95% CI lower</th>\n",
       "      <th>95% CI upper</th>\n",
       "    </tr>\n",
       "  </thead>\n",
       "  <tbody>\n",
       "    <tr>\n",
       "      <th>0</th>\n",
       "      <td>2.97</td>\n",
       "      <td>3.8</td>\n",
       "      <td>3.68</td>\n",
       "      <td>3.58</td>\n",
       "      <td>3.43</td>\n",
       "      <td>3.74</td>\n",
       "    </tr>\n",
       "  </tbody>\n",
       "</table>\n",
       "</div>"
      ],
      "text/plain": [
       "    min  max  median  mean  95% CI lower  95% CI upper\n",
       "0  2.97  3.8    3.68  3.58          3.43          3.74"
      ]
     },
     "execution_count": 19,
     "metadata": {},
     "output_type": "execute_result"
    }
   ],
   "source": [
    "np.save(f\"../out/avg/tmats/20250113_1050_tmat.npy\", result)\n",
    "p.plot_vs_seer(run_markov(result)[0], show_plot=True)\n",
    "summarize_data(gof.cancer_progression(result))"
   ]
  },
  {
   "cell_type": "markdown",
   "metadata": {},
   "source": [
    "### Current"
   ]
  },
  {
   "cell_type": "markdown",
   "metadata": {},
   "source": [
    "## Post-processing"
   ]
  },
  {
   "cell_type": "code",
   "execution_count": null,
   "metadata": {},
   "outputs": [],
   "source": [
    "result = create_matrix()\n",
    "result = run_sa(result, True, 100000, step_size=0.2, n_adj=5, starting_temp=5)\n",
    "# out: 20250113_0807  |  Eval: 65.13903, PDAC: 0.01266"
   ]
  },
  {
   "cell_type": "code",
   "execution_count": 28,
   "metadata": {},
   "outputs": [
    {
     "data": {
      "text/html": [
       "<div>\n",
       "<style scoped>\n",
       "    .dataframe tbody tr th:only-of-type {\n",
       "        vertical-align: middle;\n",
       "    }\n",
       "\n",
       "    .dataframe tbody tr th {\n",
       "        vertical-align: top;\n",
       "    }\n",
       "\n",
       "    .dataframe thead th {\n",
       "        text-align: right;\n",
       "    }\n",
       "</style>\n",
       "<table border=\"1\" class=\"dataframe\">\n",
       "  <thead>\n",
       "    <tr style=\"text-align: right;\">\n",
       "      <th></th>\n",
       "      <th>min</th>\n",
       "      <th>max</th>\n",
       "      <th>median</th>\n",
       "      <th>mean</th>\n",
       "      <th>95% CI lower</th>\n",
       "      <th>95% CI upper</th>\n",
       "    </tr>\n",
       "  </thead>\n",
       "  <tbody>\n",
       "    <tr>\n",
       "      <th>0</th>\n",
       "      <td>3.85</td>\n",
       "      <td>6.78</td>\n",
       "      <td>6.39</td>\n",
       "      <td>5.89</td>\n",
       "      <td>5.25</td>\n",
       "      <td>6.52</td>\n",
       "    </tr>\n",
       "  </tbody>\n",
       "</table>\n",
       "</div>"
      ],
      "text/plain": [
       "    min   max  median  mean  95% CI lower  95% CI upper\n",
       "0  3.85  6.78    6.39  5.89          5.25          6.52"
      ]
     },
     "execution_count": 28,
     "metadata": {},
     "output_type": "execute_result"
    }
   ],
   "source": [
    "summarize_data(gof.cancer_progression(result))"
   ]
  },
  {
   "cell_type": "code",
   "execution_count": null,
   "metadata": {},
   "outputs": [],
   "source": []
  },
  {
   "cell_type": "code",
   "execution_count": 28,
   "metadata": {},
   "outputs": [],
   "source": [
    "def smooth_tmat(mat, save=False, outpath=c.OUTPUT_PATHS['tmats'], timestamp=\"\"): # (sex: 2, race: 2, age_buckets: 10, state: 18, state: 18)\n",
    "    \n",
    "    # Anchor with mean at 100 and Smooth interpolation over age\n",
    "    tmat_anchored = np.concatenate([mat, np.minimum(mat[-1:, :, :], np.mean(mat, axis=0, keepdims=True))], axis=0) # take mean of values over age buckets and set at age 100 (only if mean lower than last age bucket)\n",
    "    tmat = csaps([25,35,45,52.5,57.5,62.5,67.5,72.5,77.5,82.5], mat, smooth=0.01, axis=0)(np.linspace(20,100,81)) # interpolation without anchoring\n",
    "    tmat_anchored = csaps([25,35,45,52.5,57.5,62.5,67.5,72.5,77.5,82.5,100], tmat_anchored, smooth=0.01, axis=0)(np.linspace(20,100,81)).clip(0.0, 1.0)\n",
    "\n",
    "    # If smoothed tmat is exp increasing towards end, used anchored probs\n",
    "    increasing_at_100 = tmat[-2:-1, :, :] < tmat[-1:, :, :]\n",
    "    tmat_anchored = np.where(increasing_at_100, tmat_anchored, tmat)\n",
    "    transition_mask = np.zeros((13, 13), dtype=bool)\n",
    "    from_states, to_states= c.transitions_itos.keys()\n",
    "    transition_mask[from_states, to_states] = True\n",
    "    tmat_anchored = np.where(increasing_at_100 & transition_mask[np.newaxis, ...], tmat_anchored, tmat)\n",
    "\n",
    "    tmat = tmat_anchored\n",
    "    tmat = row_normalize(tmat)\n",
    "\n",
    "    if save:\n",
    "      os.makedirs(outpath, exist_ok=True)\n",
    "      name = f\"tmat_{timestamp}\"\n",
    "      np.save(f\"{outpath}/{name}.npy\", tmat)\n",
    "      \n",
    "    return tmat"
   ]
  },
  {
   "cell_type": "code",
   "execution_count": null,
   "metadata": {},
   "outputs": [],
   "source": [
    "p.plot_params(result, show_plot=True)\n",
    "markov_tmat = result\n",
    "treeage_tmat = smooth_tmat(markov_tmat, save=False, timestamp=\"20241218_1605\")\n",
    "p.plot_params(markov_tmat, treeage_tmat, save_imgs=False, show_plot=True)"
   ]
  }
 ],
 "metadata": {
  "kernelspec": {
   "display_name": "drcrc_env",
   "language": "python",
   "name": "python3"
  },
  "language_info": {
   "codemirror_mode": {
    "name": "ipython",
    "version": 3
   },
   "file_extension": ".py",
   "mimetype": "text/x-python",
   "name": "python",
   "nbconvert_exporter": "python",
   "pygments_lexer": "ipython3",
   "version": "3.12.4"
  }
 },
 "nbformat": 4,
 "nbformat_minor": 2
}
